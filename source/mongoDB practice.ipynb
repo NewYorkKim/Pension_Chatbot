{
 "cells": [
  {
   "cell_type": "code",
   "execution_count": 5,
   "id": "89bc99e2",
   "metadata": {},
   "outputs": [],
   "source": [
    "import requests\n",
    "import re\n",
    "import datetime\n",
    "from bs4 import BeautifulSoup\n",
    "from pymongo import MongoClient\n",
    "import pymongo"
   ]
  },
  {
   "cell_type": "code",
   "execution_count": 6,
   "id": "50ca82bd",
   "metadata": {},
   "outputs": [
    {
     "name": "stdout",
     "output_type": "stream",
     "text": [
      "Database(MongoClient(host=['localhost:27017'], document_class=dict, tz_aware=False, connect=True), 'test')\n",
      "Collection(Database(MongoClient(host=['localhost:27017'], document_class=dict, tz_aware=False, connect=True), 'test'), 'post')\n"
     ]
    },
    {
     "data": {
      "text/plain": [
       "<pymongo.results.InsertOneResult at 0x2a02402aa60>"
      ]
     },
     "execution_count": 6,
     "metadata": {},
     "output_type": "execute_result"
    }
   ],
   "source": [
    "# test\n",
    "\n",
    "connection = pymongo.MongoClient()\n",
    "db_test = connection.test\n",
    "\n",
    "print(db_test)\n",
    "\n",
    "db_test_post = db_test.post\n",
    "\n",
    "print(db_test_post)\n",
    "\n",
    "data1 = {\"name\": \"localhost\", \"text\": \"Hello World!\", \"tags\": [\"Python\", \"MongoDB\"]}\n",
    "\n",
    "db_test_post.insert_one(data1)"
   ]
  },
  {
   "cell_type": "code",
   "execution_count": 7,
   "id": "eb4564b0",
   "metadata": {},
   "outputs": [
    {
     "data": {
      "text/plain": [
       "['localhost', 'localhost', 'localhost', 'localhost']"
      ]
     },
     "execution_count": 7,
     "metadata": {},
     "output_type": "execute_result"
    }
   ],
   "source": [
    "row_list = db_test_post.find()\n",
    "name_list = []\n",
    "\n",
    "for row in row_list:\n",
    "    name_list.append(row[\"name\"])\n",
    "    \n",
    "name_list"
   ]
  },
  {
   "cell_type": "code",
   "execution_count": 10,
   "id": "303c4179",
   "metadata": {},
   "outputs": [
    {
     "data": {
      "text/plain": [
       "<pymongo.results.DeleteResult at 0x2a026464d60>"
      ]
     },
     "execution_count": 10,
     "metadata": {},
     "output_type": "execute_result"
    }
   ],
   "source": [
    "db_test_post.delete_many({\"name\":\"localhost\"})"
   ]
  },
  {
   "cell_type": "code",
   "execution_count": 11,
   "id": "0e7e6846",
   "metadata": {},
   "outputs": [
    {
     "data": {
      "text/plain": [
       "[]"
      ]
     },
     "execution_count": 11,
     "metadata": {},
     "output_type": "execute_result"
    }
   ],
   "source": [
    "row_list = db_test_post.find()\n",
    "name_list = []\n",
    "\n",
    "for row in row_list:\n",
    "    name_list.append(row[\"name\"])\n",
    "    \n",
    "name_list"
   ]
  },
  {
   "cell_type": "code",
   "execution_count": null,
   "id": "b52e4842",
   "metadata": {},
   "outputs": [],
   "source": []
  }
 ],
 "metadata": {
  "kernelspec": {
   "display_name": "Python 3 (ipykernel)",
   "language": "python",
   "name": "python3"
  },
  "language_info": {
   "codemirror_mode": {
    "name": "ipython",
    "version": 3
   },
   "file_extension": ".py",
   "mimetype": "text/x-python",
   "name": "python",
   "nbconvert_exporter": "python",
   "pygments_lexer": "ipython3",
   "version": "3.9.12"
  }
 },
 "nbformat": 4,
 "nbformat_minor": 5
}
