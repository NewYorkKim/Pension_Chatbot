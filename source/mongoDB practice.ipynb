{
 "cells": [
  {
   "cell_type": "markdown",
   "id": "99313c1e",
   "metadata": {},
   "source": [
    "### MongoDB with Python"
   ]
  },
  {
   "cell_type": "code",
   "execution_count": 10,
   "id": "89bc99e2",
   "metadata": {},
   "outputs": [],
   "source": [
    "import requests\n",
    "import re\n",
    "import datetime\n",
    "from dateutil.relativedelta import relativedelta\n",
    "from bs4 import BeautifulSoup\n",
    "from pymongo import MongoClient\n",
    "import pymongo"
   ]
  },
  {
   "cell_type": "code",
   "execution_count": 2,
   "id": "96d2f4bd",
   "metadata": {},
   "outputs": [
    {
     "name": "stdout",
     "output_type": "stream",
     "text": [
      "Database(MongoClient(host=['localhost:27017'], document_class=dict, tz_aware=False, connect=True), 'test')\n",
      "Collection(Database(MongoClient(host=['localhost:27017'], document_class=dict, tz_aware=False, connect=True), 'test'), 'post')\n"
     ]
    }
   ],
   "source": [
    "# test\n",
    "\n",
    "connection = pymongo.MongoClient()\n",
    "db_test = connection.test\n",
    "\n",
    "print(db_test)\n",
    "\n",
    "db_test_post = db_test.post\n",
    "\n",
    "print(db_test_post)"
   ]
  },
  {
   "cell_type": "code",
   "execution_count": 6,
   "id": "50ca82bd",
   "metadata": {},
   "outputs": [
    {
     "name": "stdout",
     "output_type": "stream",
     "text": [
      "Database(MongoClient(host=['localhost:27017'], document_class=dict, tz_aware=False, connect=True), 'test')\n",
      "Collection(Database(MongoClient(host=['localhost:27017'], document_class=dict, tz_aware=False, connect=True), 'test'), 'post')\n"
     ]
    },
    {
     "data": {
      "text/plain": [
       "<pymongo.results.InsertOneResult at 0x2a02402aa60>"
      ]
     },
     "execution_count": 6,
     "metadata": {},
     "output_type": "execute_result"
    }
   ],
   "source": [
    "data = {\"name\": \"localhost\", \"text\": \"Hello World!\", \"tags\": [\"Python\", \"MongoDB\"]}\n",
    "\n",
    "db_test_post.insert_one(data)"
   ]
  },
  {
   "cell_type": "code",
   "execution_count": 7,
   "id": "eb4564b0",
   "metadata": {},
   "outputs": [
    {
     "data": {
      "text/plain": [
       "['localhost', 'localhost', 'localhost', 'localhost']"
      ]
     },
     "execution_count": 7,
     "metadata": {},
     "output_type": "execute_result"
    }
   ],
   "source": [
    "row_list = db_test_post.find()\n",
    "name_list = []\n",
    "\n",
    "for row in row_list:\n",
    "    name_list.append(row[\"name\"])\n",
    "    \n",
    "name_list"
   ]
  },
  {
   "cell_type": "code",
   "execution_count": 10,
   "id": "303c4179",
   "metadata": {},
   "outputs": [
    {
     "data": {
      "text/plain": [
       "<pymongo.results.DeleteResult at 0x2a026464d60>"
      ]
     },
     "execution_count": 10,
     "metadata": {},
     "output_type": "execute_result"
    }
   ],
   "source": [
    "db_test_post.delete_many({\"name\":\"localhost\"})"
   ]
  },
  {
   "cell_type": "code",
   "execution_count": 11,
   "id": "0e7e6846",
   "metadata": {},
   "outputs": [
    {
     "data": {
      "text/plain": [
       "[]"
      ]
     },
     "execution_count": 11,
     "metadata": {},
     "output_type": "execute_result"
    }
   ],
   "source": [
    "row_list = db_test_post.find()\n",
    "name_list = []\n",
    "\n",
    "for row in row_list:\n",
    "    name_list.append(row[\"name\"])\n",
    "    \n",
    "name_list"
   ]
  },
  {
   "cell_type": "code",
   "execution_count": 15,
   "id": "22212546",
   "metadata": {},
   "outputs": [
    {
     "name": "stdout",
     "output_type": "stream",
     "text": [
      "2022-05-18 09:25:32.357562\n",
      "2022-05-17 09:25:32.357562\n"
     ]
    }
   ],
   "source": [
    "today = datetime.datetime.now()\n",
    "\n",
    "print(today)\n",
    "print(today - relativedelta(days=1))"
   ]
  },
  {
   "cell_type": "code",
   "execution_count": 18,
   "id": "ec9e0ce1",
   "metadata": {},
   "outputs": [],
   "source": [
    "for i in range(5):\n",
    "    date = (today - relativedelta(days=i)).strftime('%Y.%m.%d')\n",
    "    data = {\"name\": f\"diff={i}\", \"date\": date, \"state\": \"local\"}\n",
    "    db_test_post.insert_one(data)"
   ]
  },
  {
   "cell_type": "code",
   "execution_count": 19,
   "id": "b52e4842",
   "metadata": {},
   "outputs": [
    {
     "data": {
      "text/plain": [
       "['2022.05.18', '2022.05.17', '2022.05.16', '2022.05.15', '2022.05.14']"
      ]
     },
     "execution_count": 19,
     "metadata": {},
     "output_type": "execute_result"
    }
   ],
   "source": [
    "row_list = db_test_post.find()\n",
    "date_list = []\n",
    "\n",
    "for row in row_list:\n",
    "    date_list.append(row[\"date\"])\n",
    "    \n",
    "date_list"
   ]
  },
  {
   "cell_type": "code",
   "execution_count": 21,
   "id": "9d7544bc",
   "metadata": {},
   "outputs": [
    {
     "data": {
      "text/plain": [
       "<pymongo.results.DeleteResult at 0x20646843ee0>"
      ]
     },
     "execution_count": 21,
     "metadata": {},
     "output_type": "execute_result"
    }
   ],
   "source": [
    "old = (today - relativedelta(days=2)).strftime('%Y.%m.%d')\n",
    "\n",
    "db_test_post.delete_many({'date': {\"$lt\": old}})"
   ]
  }
 ],
 "metadata": {
  "kernelspec": {
   "display_name": "Python 3 (ipykernel)",
   "language": "python",
   "name": "python3"
  },
  "language_info": {
   "codemirror_mode": {
    "name": "ipython",
    "version": 3
   },
   "file_extension": ".py",
   "mimetype": "text/x-python",
   "name": "python",
   "nbconvert_exporter": "python",
   "pygments_lexer": "ipython3",
   "version": "3.9.12"
  }
 },
 "nbformat": 4,
 "nbformat_minor": 5
}
