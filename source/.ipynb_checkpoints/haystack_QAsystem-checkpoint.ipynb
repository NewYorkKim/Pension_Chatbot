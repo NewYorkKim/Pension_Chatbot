{
 "cells": [
  {
   "cell_type": "code",
   "execution_count": null,
   "metadata": {
    "colab": {
     "base_uri": "https://localhost:8080/"
    },
    "executionInfo": {
     "elapsed": 170137,
     "status": "ok",
     "timestamp": 1652337461858,
     "user": {
      "displayName": "김나연",
      "userId": "06753887738562433319"
     },
     "user_tz": -540
    },
    "id": "lAH2g9t4qQ7y",
    "outputId": "af6d1479-a4b3-4534-f53b-7c1b75e4d247"
   },
   "outputs": [
    {
     "name": "stdout",
     "output_type": "stream",
     "text": [
      "\n",
      "Usage:   \n",
      "  pip3 install [options] <requirement specifier> [package-index-options] ...\n",
      "  pip3 install [options] -r <requirements file> [package-index-options] ...\n",
      "  pip3 install [options] [-e] <vcs project url> ...\n",
      "  pip3 install [options] [-e] <local project path> ...\n",
      "  pip3 install [options] <archive url/path> ...\n",
      "\n",
      "no such option: --upgrader\n",
      "Collecting git+https://github.com/deepset-ai/haystack.git\n",
      "  Cloning https://github.com/deepset-ai/haystack.git to /tmp/pip-req-build-h050oznw\n",
      "  Running command git clone -q https://github.com/deepset-ai/haystack.git /tmp/pip-req-build-h050oznw\n",
      "  Installing build dependencies ... \u001b[?25l\u001b[?25hdone\n",
      "  Getting requirements to build wheel ... \u001b[?25l\u001b[?25hdone\n",
      "    Preparing wheel metadata ... \u001b[?25l\u001b[?25hdone\n",
      "Collecting posthog\n",
      "  Downloading posthog-1.4.7-py2.py3-none-any.whl (22 kB)\n",
      "Requirement already satisfied: dill in /usr/local/lib/python3.7/dist-packages (from farm-haystack==1.4.1rc0) (0.3.4)\n",
      "Collecting python-docx\n",
      "  Downloading python-docx-0.8.11.tar.gz (5.6 MB)\n",
      "\u001b[K     |████████████████████████████████| 5.6 MB 11.1 MB/s \n",
      "\u001b[?25hRequirement already satisfied: networkx in /usr/local/lib/python3.7/dist-packages (from farm-haystack==1.4.1rc0) (2.6.3)\n",
      "Collecting sentence-transformers>=2.2.0\n",
      "  Downloading sentence-transformers-2.2.0.tar.gz (79 kB)\n",
      "\u001b[K     |████████████████████████████████| 79 kB 7.3 MB/s \n",
      "\u001b[?25hRequirement already satisfied: more-itertools in /usr/local/lib/python3.7/dist-packages (from farm-haystack==1.4.1rc0) (8.12.0)\n",
      "Collecting tika\n",
      "  Downloading tika-1.24.tar.gz (28 kB)\n",
      "Requirement already satisfied: scipy>=1.3.2 in /usr/local/lib/python3.7/dist-packages (from farm-haystack==1.4.1rc0) (1.4.1)\n",
      "Collecting elasticsearch<=7.10,>=7.7\n",
      "  Downloading elasticsearch-7.10.0-py2.py3-none-any.whl (321 kB)\n",
      "\u001b[K     |████████████████████████████████| 321 kB 52.3 MB/s \n",
      "\u001b[?25hCollecting mmh3\n",
      "  Downloading mmh3-3.0.0-cp37-cp37m-manylinux2010_x86_64.whl (50 kB)\n",
      "\u001b[K     |████████████████████████████████| 50 kB 8.1 MB/s \n",
      "\u001b[?25hRequirement already satisfied: scikit-learn>=1.0.0 in /usr/local/lib/python3.7/dist-packages (from farm-haystack==1.4.1rc0) (1.0.2)\n",
      "Collecting pydantic\n",
      "  Downloading pydantic-1.9.0-cp37-cp37m-manylinux_2_17_x86_64.manylinux2014_x86_64.whl (10.9 MB)\n",
      "\u001b[K     |████████████████████████████████| 10.9 MB 65.1 MB/s \n",
      "\u001b[?25hCollecting rapidfuzz\n",
      "  Downloading rapidfuzz-2.0.11-cp37-cp37m-manylinux_2_17_x86_64.manylinux2014_x86_64.whl (1.8 MB)\n",
      "\u001b[K     |████████████████████████████████| 1.8 MB 70.4 MB/s \n",
      "\u001b[?25hCollecting azure-core<1.23\n",
      "  Downloading azure_core-1.22.1-py3-none-any.whl (178 kB)\n",
      "\u001b[K     |████████████████████████████████| 178 kB 79.5 MB/s \n",
      "\u001b[?25hCollecting mlflow\n",
      "  Downloading mlflow-1.25.1-py3-none-any.whl (16.8 MB)\n",
      "\u001b[K     |████████████████████████████████| 16.8 MB 70.8 MB/s \n",
      "\u001b[?25hRequirement already satisfied: tqdm in /usr/local/lib/python3.7/dist-packages (from farm-haystack==1.4.1rc0) (4.64.0)\n",
      "Collecting seqeval\n",
      "  Downloading seqeval-1.2.2.tar.gz (43 kB)\n",
      "\u001b[K     |████████████████████████████████| 43 kB 1.6 MB/s \n",
      "\u001b[?25hCollecting quantulum3\n",
      "  Downloading quantulum3-0.7.10-py3-none-any.whl (10.7 MB)\n",
      "\u001b[K     |████████████████████████████████| 10.7 MB 49.1 MB/s \n",
      "\u001b[?25hCollecting azure-ai-formrecognizer==3.2.0b2\n",
      "  Downloading azure_ai_formrecognizer-3.2.0b2-py2.py3-none-any.whl (219 kB)\n",
      "\u001b[K     |████████████████████████████████| 219 kB 72.9 MB/s \n",
      "\u001b[?25hCollecting transformers==4.18.0\n",
      "  Downloading transformers-4.18.0-py3-none-any.whl (4.0 MB)\n",
      "\u001b[K     |████████████████████████████████| 4.0 MB 23.3 MB/s \n",
      "\u001b[?25hCollecting torch<1.11,>1.9\n",
      "  Downloading torch-1.10.2-cp37-cp37m-manylinux1_x86_64.whl (881.9 MB)\n",
      "\u001b[K     |██████████████████████████████▎ | 834.1 MB 1.2 MB/s eta 0:00:39tcmalloc: large alloc 1147494400 bytes == 0x3b7a4000 @  0x7f9c69828615 0x592b76 0x4df71e 0x59afff 0x515655 0x549576 0x593fce 0x548ae9 0x51566f 0x549576 0x593fce 0x548ae9 0x5127f1 0x598e3b 0x511f68 0x598e3b 0x511f68 0x598e3b 0x511f68 0x4bc98a 0x532e76 0x594b72 0x515600 0x549576 0x593fce 0x548ae9 0x5127f1 0x549576 0x593fce 0x5118f8 0x593dd7\n",
      "\u001b[K     |████████████████████████████████| 881.9 MB 1.8 kB/s \n",
      "\u001b[?25hRequirement already satisfied: requests in /usr/local/lib/python3.7/dist-packages (from farm-haystack==1.4.1rc0) (2.23.0)\n",
      "Requirement already satisfied: jsonschema in /usr/local/lib/python3.7/dist-packages (from farm-haystack==1.4.1rc0) (4.3.3)\n",
      "Requirement already satisfied: pandas in /usr/local/lib/python3.7/dist-packages (from farm-haystack==1.4.1rc0) (1.3.5)\n",
      "Requirement already satisfied: importlib-metadata in /usr/local/lib/python3.7/dist-packages (from farm-haystack==1.4.1rc0) (4.11.3)\n",
      "Collecting elastic-apm\n",
      "  Downloading elastic_apm-6.9.1-cp37-cp37m-manylinux_2_5_x86_64.manylinux1_x86_64.manylinux_2_17_x86_64.manylinux2014_x86_64.whl (374 kB)\n",
      "\u001b[K     |████████████████████████████████| 374 kB 61.7 MB/s \n",
      "\u001b[?25hCollecting langdetect\n",
      "  Downloading langdetect-1.0.9.tar.gz (981 kB)\n",
      "\u001b[K     |████████████████████████████████| 981 kB 52.1 MB/s \n",
      "\u001b[?25hRequirement already satisfied: nltk in /usr/local/lib/python3.7/dist-packages (from farm-haystack==1.4.1rc0) (3.2.5)\n",
      "Requirement already satisfied: six>=1.11.0 in /usr/local/lib/python3.7/dist-packages (from azure-ai-formrecognizer==3.2.0b2->farm-haystack==1.4.1rc0) (1.15.0)\n",
      "Collecting msrest>=0.6.21\n",
      "  Downloading msrest-0.6.21-py2.py3-none-any.whl (85 kB)\n",
      "\u001b[K     |████████████████████████████████| 85 kB 3.8 MB/s \n",
      "\u001b[?25hCollecting azure-common~=1.1\n",
      "  Downloading azure_common-1.1.28-py2.py3-none-any.whl (14 kB)\n",
      "Collecting tokenizers!=0.11.3,<0.13,>=0.11.1\n",
      "  Downloading tokenizers-0.12.1-cp37-cp37m-manylinux_2_12_x86_64.manylinux2010_x86_64.whl (6.6 MB)\n",
      "\u001b[K     |████████████████████████████████| 6.6 MB 45.2 MB/s \n",
      "\u001b[?25hCollecting huggingface-hub<1.0,>=0.1.0\n",
      "  Downloading huggingface_hub-0.6.0-py3-none-any.whl (84 kB)\n",
      "\u001b[K     |████████████████████████████████| 84 kB 1.9 MB/s \n",
      "\u001b[?25hRequirement already satisfied: filelock in /usr/local/lib/python3.7/dist-packages (from transformers==4.18.0->farm-haystack==1.4.1rc0) (3.6.0)\n",
      "Collecting pyyaml>=5.1\n",
      "  Downloading PyYAML-6.0-cp37-cp37m-manylinux_2_5_x86_64.manylinux1_x86_64.manylinux_2_12_x86_64.manylinux2010_x86_64.whl (596 kB)\n",
      "\u001b[K     |████████████████████████████████| 596 kB 43.1 MB/s \n",
      "\u001b[?25hRequirement already satisfied: numpy>=1.17 in /usr/local/lib/python3.7/dist-packages (from transformers==4.18.0->farm-haystack==1.4.1rc0) (1.21.6)\n",
      "Collecting sacremoses\n",
      "  Downloading sacremoses-0.0.53.tar.gz (880 kB)\n",
      "\u001b[K     |████████████████████████████████| 880 kB 47.4 MB/s \n",
      "\u001b[?25hRequirement already satisfied: regex!=2019.12.17 in /usr/local/lib/python3.7/dist-packages (from transformers==4.18.0->farm-haystack==1.4.1rc0) (2019.12.20)\n",
      "Requirement already satisfied: packaging>=20.0 in /usr/local/lib/python3.7/dist-packages (from transformers==4.18.0->farm-haystack==1.4.1rc0) (21.3)\n",
      "Requirement already satisfied: urllib3<2,>=1.21.1 in /usr/local/lib/python3.7/dist-packages (from elasticsearch<=7.10,>=7.7->farm-haystack==1.4.1rc0) (1.24.3)\n",
      "Requirement already satisfied: certifi in /usr/local/lib/python3.7/dist-packages (from elasticsearch<=7.10,>=7.7->farm-haystack==1.4.1rc0) (2021.10.8)\n",
      "Requirement already satisfied: typing-extensions>=3.7.4.3 in /usr/local/lib/python3.7/dist-packages (from huggingface-hub<1.0,>=0.1.0->transformers==4.18.0->farm-haystack==1.4.1rc0) (4.2.0)\n",
      "Collecting isodate>=0.6.0\n",
      "  Downloading isodate-0.6.1-py2.py3-none-any.whl (41 kB)\n",
      "\u001b[K     |████████████████████████████████| 41 kB 649 kB/s \n",
      "\u001b[?25hRequirement already satisfied: requests-oauthlib>=0.5.0 in /usr/local/lib/python3.7/dist-packages (from msrest>=0.6.21->azure-ai-formrecognizer==3.2.0b2->farm-haystack==1.4.1rc0) (1.3.1)\n",
      "Requirement already satisfied: pyparsing!=3.0.5,>=2.0.2 in /usr/local/lib/python3.7/dist-packages (from packaging>=20.0->transformers==4.18.0->farm-haystack==1.4.1rc0) (3.0.8)\n",
      "Requirement already satisfied: idna<3,>=2.5 in /usr/local/lib/python3.7/dist-packages (from requests->farm-haystack==1.4.1rc0) (2.10)\n",
      "Requirement already satisfied: chardet<4,>=3.0.2 in /usr/local/lib/python3.7/dist-packages (from requests->farm-haystack==1.4.1rc0) (3.0.4)\n",
      "Requirement already satisfied: oauthlib>=3.0.0 in /usr/local/lib/python3.7/dist-packages (from requests-oauthlib>=0.5.0->msrest>=0.6.21->azure-ai-formrecognizer==3.2.0b2->farm-haystack==1.4.1rc0) (3.2.0)\n",
      "Requirement already satisfied: threadpoolctl>=2.0.0 in /usr/local/lib/python3.7/dist-packages (from scikit-learn>=1.0.0->farm-haystack==1.4.1rc0) (3.1.0)\n",
      "Requirement already satisfied: joblib>=0.11 in /usr/local/lib/python3.7/dist-packages (from scikit-learn>=1.0.0->farm-haystack==1.4.1rc0) (1.1.0)\n",
      "Requirement already satisfied: torchvision in /usr/local/lib/python3.7/dist-packages (from sentence-transformers>=2.2.0->farm-haystack==1.4.1rc0) (0.12.0+cu113)\n",
      "Collecting sentencepiece\n",
      "  Downloading sentencepiece-0.1.96-cp37-cp37m-manylinux_2_17_x86_64.manylinux2014_x86_64.whl (1.2 MB)\n",
      "\u001b[K     |████████████████████████████████| 1.2 MB 52.6 MB/s \n",
      "\u001b[?25hRequirement already satisfied: zipp>=0.5 in /usr/local/lib/python3.7/dist-packages (from importlib-metadata->farm-haystack==1.4.1rc0) (3.8.0)\n",
      "Requirement already satisfied: pyrsistent!=0.17.0,!=0.17.1,!=0.17.2,>=0.14.0 in /usr/local/lib/python3.7/dist-packages (from jsonschema->farm-haystack==1.4.1rc0) (0.18.1)\n",
      "Requirement already satisfied: attrs>=17.4.0 in /usr/local/lib/python3.7/dist-packages (from jsonschema->farm-haystack==1.4.1rc0) (21.4.0)\n",
      "Requirement already satisfied: importlib-resources>=1.4.0 in /usr/local/lib/python3.7/dist-packages (from jsonschema->farm-haystack==1.4.1rc0) (5.7.1)\n",
      "Requirement already satisfied: cloudpickle in /usr/local/lib/python3.7/dist-packages (from mlflow->farm-haystack==1.4.1rc0) (1.3.0)\n",
      "Requirement already satisfied: protobuf>=3.7.0 in /usr/local/lib/python3.7/dist-packages (from mlflow->farm-haystack==1.4.1rc0) (3.17.3)\n",
      "Requirement already satisfied: click>=7.0 in /usr/local/lib/python3.7/dist-packages (from mlflow->farm-haystack==1.4.1rc0) (7.1.2)\n",
      "Requirement already satisfied: entrypoints in /usr/local/lib/python3.7/dist-packages (from mlflow->farm-haystack==1.4.1rc0) (0.4)\n",
      "Collecting databricks-cli>=0.8.7\n",
      "  Downloading databricks-cli-0.16.6.tar.gz (62 kB)\n",
      "\u001b[K     |████████████████████████████████| 62 kB 772 kB/s \n",
      "\u001b[?25hCollecting gunicorn\n",
      "  Downloading gunicorn-20.1.0-py3-none-any.whl (79 kB)\n",
      "\u001b[K     |████████████████████████████████| 79 kB 7.7 MB/s \n",
      "\u001b[?25hCollecting alembic\n",
      "  Downloading alembic-1.7.7-py3-none-any.whl (210 kB)\n",
      "\u001b[K     |████████████████████████████████| 210 kB 64.1 MB/s \n",
      "\u001b[?25hRequirement already satisfied: sqlparse>=0.3.1 in /usr/local/lib/python3.7/dist-packages (from mlflow->farm-haystack==1.4.1rc0) (0.4.2)\n",
      "Collecting prometheus-flask-exporter\n",
      "  Downloading prometheus_flask_exporter-0.20.1-py3-none-any.whl (18 kB)\n",
      "Requirement already satisfied: sqlalchemy in /usr/local/lib/python3.7/dist-packages (from mlflow->farm-haystack==1.4.1rc0) (1.4.36)\n",
      "Requirement already satisfied: Flask in /usr/local/lib/python3.7/dist-packages (from mlflow->farm-haystack==1.4.1rc0) (1.1.4)\n",
      "Collecting gitpython>=2.1.0\n",
      "  Downloading GitPython-3.1.27-py3-none-any.whl (181 kB)\n",
      "\u001b[K     |████████████████████████████████| 181 kB 62.3 MB/s \n",
      "\u001b[?25hCollecting docker>=4.0.0\n",
      "  Downloading docker-5.0.3-py2.py3-none-any.whl (146 kB)\n",
      "\u001b[K     |████████████████████████████████| 146 kB 65.1 MB/s \n",
      "\u001b[?25hCollecting querystring-parser\n",
      "  Downloading querystring_parser-1.2.4-py2.py3-none-any.whl (7.9 kB)\n",
      "Requirement already satisfied: pytz in /usr/local/lib/python3.7/dist-packages (from mlflow->farm-haystack==1.4.1rc0) (2022.1)\n",
      "Collecting pyjwt>=1.7.0\n",
      "  Downloading PyJWT-2.3.0-py3-none-any.whl (16 kB)\n",
      "Requirement already satisfied: tabulate>=0.7.7 in /usr/local/lib/python3.7/dist-packages (from databricks-cli>=0.8.7->mlflow->farm-haystack==1.4.1rc0) (0.8.9)\n",
      "Collecting websocket-client>=0.32.0\n",
      "  Downloading websocket_client-1.3.2-py3-none-any.whl (54 kB)\n",
      "\u001b[K     |████████████████████████████████| 54 kB 2.4 MB/s \n",
      "\u001b[?25hCollecting gitdb<5,>=4.0.1\n",
      "  Downloading gitdb-4.0.9-py3-none-any.whl (63 kB)\n",
      "\u001b[K     |████████████████████████████████| 63 kB 1.7 MB/s \n",
      "\u001b[?25hCollecting smmap<6,>=3.0.1\n",
      "  Downloading smmap-5.0.0-py3-none-any.whl (24 kB)\n",
      "Collecting Mako\n",
      "  Downloading Mako-1.2.0-py3-none-any.whl (78 kB)\n",
      "\u001b[K     |████████████████████████████████| 78 kB 5.5 MB/s \n",
      "\u001b[?25hRequirement already satisfied: greenlet!=0.4.17 in /usr/local/lib/python3.7/dist-packages (from sqlalchemy->mlflow->farm-haystack==1.4.1rc0) (1.1.2)\n",
      "Requirement already satisfied: Werkzeug<2.0,>=0.15 in /usr/local/lib/python3.7/dist-packages (from Flask->mlflow->farm-haystack==1.4.1rc0) (1.0.1)\n",
      "Requirement already satisfied: Jinja2<3.0,>=2.10.1 in /usr/local/lib/python3.7/dist-packages (from Flask->mlflow->farm-haystack==1.4.1rc0) (2.11.3)\n",
      "Requirement already satisfied: itsdangerous<2.0,>=0.24 in /usr/local/lib/python3.7/dist-packages (from Flask->mlflow->farm-haystack==1.4.1rc0) (1.1.0)\n",
      "Requirement already satisfied: MarkupSafe>=0.23 in /usr/local/lib/python3.7/dist-packages (from Jinja2<3.0,>=2.10.1->Flask->mlflow->farm-haystack==1.4.1rc0) (2.0.1)\n",
      "Requirement already satisfied: setuptools>=3.0 in /usr/local/lib/python3.7/dist-packages (from gunicorn->mlflow->farm-haystack==1.4.1rc0) (57.4.0)\n",
      "Requirement already satisfied: python-dateutil>=2.7.3 in /usr/local/lib/python3.7/dist-packages (from pandas->farm-haystack==1.4.1rc0) (2.8.2)\n",
      "Collecting backoff<2.0.0,>=1.10.0\n",
      "  Downloading backoff-1.11.1-py2.py3-none-any.whl (13 kB)\n",
      "Collecting monotonic>=1.5\n",
      "  Downloading monotonic-1.6-py2.py3-none-any.whl (8.2 kB)\n",
      "Requirement already satisfied: prometheus-client in /usr/local/lib/python3.7/dist-packages (from prometheus-flask-exporter->mlflow->farm-haystack==1.4.1rc0) (0.14.1)\n",
      "Requirement already satisfied: lxml>=2.3.2 in /usr/local/lib/python3.7/dist-packages (from python-docx->farm-haystack==1.4.1rc0) (4.2.6)\n",
      "Requirement already satisfied: inflect in /usr/local/lib/python3.7/dist-packages (from quantulum3->farm-haystack==1.4.1rc0) (2.1.0)\n",
      "Collecting num2words\n",
      "  Downloading num2words-0.5.10-py3-none-any.whl (101 kB)\n",
      "\u001b[K     |████████████████████████████████| 101 kB 9.9 MB/s \n",
      "\u001b[?25hRequirement already satisfied: docopt>=0.6.2 in /usr/local/lib/python3.7/dist-packages (from num2words->quantulum3->farm-haystack==1.4.1rc0) (0.6.2)\n",
      "Collecting jarowinkler<1.1.0,>=1.0.2\n",
      "  Downloading jarowinkler-1.0.2-cp37-cp37m-manylinux_2_17_x86_64.manylinux2014_x86_64.whl (103 kB)\n",
      "\u001b[K     |████████████████████████████████| 103 kB 59.5 MB/s \n",
      "\u001b[?25hRequirement already satisfied: pillow!=8.3.*,>=5.3.0 in /usr/local/lib/python3.7/dist-packages (from torchvision->sentence-transformers>=2.2.0->farm-haystack==1.4.1rc0) (7.1.2)\n",
      "Collecting torchvision\n",
      "  Downloading torchvision-0.12.0-cp37-cp37m-manylinux1_x86_64.whl (21.0 MB)\n",
      "\u001b[K     |████████████████████████████████| 21.0 MB 1.2 MB/s \n",
      "\u001b[?25h  Downloading torchvision-0.11.3-cp37-cp37m-manylinux1_x86_64.whl (23.2 MB)\n",
      "\u001b[K     |████████████████████████████████| 23.2 MB 1.7 MB/s \n",
      "\u001b[?25hBuilding wheels for collected packages: farm-haystack, sentence-transformers, langdetect, databricks-cli, python-docx, sacremoses, seqeval, tika\n",
      "  Building wheel for farm-haystack (PEP 517) ... \u001b[?25l\u001b[?25hdone\n",
      "  Created wheel for farm-haystack: filename=farm_haystack-1.4.1rc0-py3-none-any.whl size=545893 sha256=c30fb6ce8f3ba6f781fb4fabaa816ef23bca9d8e470cca3bcf48bd0f04c7dfc3\n",
      "  Stored in directory: /tmp/pip-ephem-wheel-cache-ag2u4ckw/wheels/a7/05/3b/9b33368d9af06a39f8e6af2e97fa2af876e893ade323cfc2c9\n",
      "  Building wheel for sentence-transformers (setup.py) ... \u001b[?25l\u001b[?25hdone\n",
      "  Created wheel for sentence-transformers: filename=sentence_transformers-2.2.0-py3-none-any.whl size=120747 sha256=761349467aea9c8c12777463cea84ade25dcb65ed1ef1c9a975e2a29b101ea5f\n",
      "  Stored in directory: /root/.cache/pip/wheels/83/c0/df/b6873ab7aac3f2465aa9144b6b4c41c4391cfecc027c8b07e7\n",
      "  Building wheel for langdetect (setup.py) ... \u001b[?25l\u001b[?25hdone\n",
      "  Created wheel for langdetect: filename=langdetect-1.0.9-py3-none-any.whl size=993242 sha256=c55bb48c0677af4cdf4a8eb6911f9ac2e2818874f4cf442cc50da352fb2fd238\n",
      "  Stored in directory: /root/.cache/pip/wheels/c5/96/8a/f90c59ed25d75e50a8c10a1b1c2d4c402e4dacfa87f3aff36a\n",
      "  Building wheel for databricks-cli (setup.py) ... \u001b[?25l\u001b[?25hdone\n",
      "  Created wheel for databricks-cli: filename=databricks_cli-0.16.6-py3-none-any.whl size=112631 sha256=78d374d6f8db252b72761d75be4eabc06c5b796b2438106a599ae106adfe839f\n",
      "  Stored in directory: /root/.cache/pip/wheels/96/c1/f8/d75a22e789ab6a4dff11f18338c3af4360189aa371295cc934\n",
      "  Building wheel for python-docx (setup.py) ... \u001b[?25l\u001b[?25hdone\n",
      "  Created wheel for python-docx: filename=python_docx-0.8.11-py3-none-any.whl size=184507 sha256=0ae9697d88197354a456a987b41118cfd69bca6130b433da078a70e9688e57d5\n",
      "  Stored in directory: /root/.cache/pip/wheels/f6/6f/b9/d798122a8b55b74ad30b5f52b01482169b445fbb84a11797a6\n",
      "  Building wheel for sacremoses (setup.py) ... \u001b[?25l\u001b[?25hdone\n",
      "  Created wheel for sacremoses: filename=sacremoses-0.0.53-py3-none-any.whl size=895260 sha256=05c12c2ca042ecbc77e761b1f58c296f2103320b0806469f860fe322a8ed66d2\n",
      "  Stored in directory: /root/.cache/pip/wheels/87/39/dd/a83eeef36d0bf98e7a4d1933a4ad2d660295a40613079bafc9\n",
      "  Building wheel for seqeval (setup.py) ... \u001b[?25l\u001b[?25hdone\n",
      "  Created wheel for seqeval: filename=seqeval-1.2.2-py3-none-any.whl size=16180 sha256=44ff10d8e93de00306970bdce721f2cf0dfff3d851ece974f646b67382988173\n",
      "  Stored in directory: /root/.cache/pip/wheels/05/96/ee/7cac4e74f3b19e3158dce26a20a1c86b3533c43ec72a549fd7\n",
      "  Building wheel for tika (setup.py) ... \u001b[?25l\u001b[?25hdone\n",
      "  Created wheel for tika: filename=tika-1.24-py3-none-any.whl size=32893 sha256=d91aa72aee702924ff61c10338670d43badc42b07f8d6f52c2debda77e3042d5\n",
      "  Stored in directory: /root/.cache/pip/wheels/ec/2b/38/58ff05467a742e32f67f5d0de048fa046e764e2fbb25ac93f3\n",
      "Successfully built farm-haystack sentence-transformers langdetect databricks-cli python-docx sacremoses seqeval tika\n",
      "Installing collected packages: smmap, pyyaml, websocket-client, torch, tokenizers, sacremoses, pyjwt, Mako, isodate, huggingface-hub, gitdb, transformers, torchvision, sentencepiece, querystring-parser, prometheus-flask-exporter, num2words, msrest, monotonic, jarowinkler, gunicorn, gitpython, docker, databricks-cli, backoff, azure-core, azure-common, alembic, tika, seqeval, sentence-transformers, rapidfuzz, quantulum3, python-docx, pydantic, posthog, mmh3, mlflow, langdetect, elasticsearch, elastic-apm, azure-ai-formrecognizer, farm-haystack\n",
      "  Attempting uninstall: pyyaml\n",
      "    Found existing installation: PyYAML 3.13\n",
      "    Uninstalling PyYAML-3.13:\n",
      "      Successfully uninstalled PyYAML-3.13\n",
      "  Attempting uninstall: torch\n",
      "    Found existing installation: torch 1.11.0+cu113\n",
      "    Uninstalling torch-1.11.0+cu113:\n",
      "      Successfully uninstalled torch-1.11.0+cu113\n",
      "  Attempting uninstall: torchvision\n",
      "    Found existing installation: torchvision 0.12.0+cu113\n",
      "    Uninstalling torchvision-0.12.0+cu113:\n",
      "      Successfully uninstalled torchvision-0.12.0+cu113\n",
      "\u001b[31mERROR: pip's dependency resolver does not currently take into account all the packages that are installed. This behaviour is the source of the following dependency conflicts.\n",
      "torchtext 0.12.0 requires torch==1.11.0, but you have torch 1.10.2 which is incompatible.\n",
      "torchaudio 0.11.0+cu113 requires torch==1.11.0, but you have torch 1.10.2 which is incompatible.\u001b[0m\n",
      "Successfully installed Mako-1.2.0 alembic-1.7.7 azure-ai-formrecognizer-3.2.0b2 azure-common-1.1.28 azure-core-1.22.1 backoff-1.11.1 databricks-cli-0.16.6 docker-5.0.3 elastic-apm-6.9.1 elasticsearch-7.10.0 farm-haystack-1.4.1rc0 gitdb-4.0.9 gitpython-3.1.27 gunicorn-20.1.0 huggingface-hub-0.6.0 isodate-0.6.1 jarowinkler-1.0.2 langdetect-1.0.9 mlflow-1.25.1 mmh3-3.0.0 monotonic-1.6 msrest-0.6.21 num2words-0.5.10 posthog-1.4.7 prometheus-flask-exporter-0.20.1 pydantic-1.9.0 pyjwt-2.3.0 python-docx-0.8.11 pyyaml-6.0 quantulum3-0.7.10 querystring-parser-1.2.4 rapidfuzz-2.0.11 sacremoses-0.0.53 sentence-transformers-2.2.0 sentencepiece-0.1.96 seqeval-1.2.2 smmap-5.0.0 tika-1.24 tokenizers-0.12.1 torch-1.10.2 torchvision-0.11.3 transformers-4.18.0 websocket-client-1.3.2\n"
     ]
    }
   ],
   "source": [
    "!pip install --upgrader pip\n",
    "!pip install git+https://github.com/deepset-ai/haystack.git"
   ]
  },
  {
   "cell_type": "code",
   "execution_count": null,
   "metadata": {
    "colab": {
     "base_uri": "https://localhost:8080/"
    },
    "executionInfo": {
     "elapsed": 13367,
     "status": "ok",
     "timestamp": 1652337475168,
     "user": {
      "displayName": "김나연",
      "userId": "06753887738562433319"
     },
     "user_tz": -540
    },
    "id": "oWSllNyms_AJ",
    "outputId": "9bad08eb-1631-43d4-9180-41bdecf3fdbe"
   },
   "outputs": [
    {
     "name": "stderr",
     "output_type": "stream",
     "text": [
      "INFO - haystack.modeling.model.optimization -  apex not found, won't use it. See https://nvidia.github.io/apex/\n",
      "ERROR - root -  Failed to import 'magic' (from 'python-magic' and 'python-magic-bin' on Windows). FileTypeClassifier will not perform mimetype detection on extensionless files. Please make sure the necessary OS libraries are installed if you need this functionality.\n"
     ]
    }
   ],
   "source": [
    "from haystack.utils import clean_wiki_text, convert_files_to_docs, fetch_archive_from_http, print_answers\n",
    "from haystack.nodes import FARMReader, TransformersReader"
   ]
  },
  {
   "cell_type": "code",
   "execution_count": null,
   "metadata": {
    "colab": {
     "base_uri": "https://localhost:8080/"
    },
    "executionInfo": {
     "elapsed": 7027,
     "status": "ok",
     "timestamp": 1652337482187,
     "user": {
      "displayName": "김나연",
      "userId": "06753887738562433319"
     },
     "user_tz": -540
    },
    "id": "9JByp-pXvX26",
    "outputId": "485d9d9c-f483-4045-cad1-aa16af709f47"
   },
   "outputs": [
    {
     "name": "stdout",
     "output_type": "stream",
     "text": [
      "Collecting kobert_tokenizer\n",
      "  Cloning https://github.com/SKTBrain/KoBERT.git to /tmp/pip-install-6gv5u89h/kobert-tokenizer_3050c164980b4b5291975288b0016974\n",
      "  Running command git clone -q https://github.com/SKTBrain/KoBERT.git /tmp/pip-install-6gv5u89h/kobert-tokenizer_3050c164980b4b5291975288b0016974\n",
      "Building wheels for collected packages: kobert-tokenizer\n",
      "  Building wheel for kobert-tokenizer (setup.py) ... \u001b[?25l\u001b[?25hdone\n",
      "  Created wheel for kobert-tokenizer: filename=kobert_tokenizer-0.1-py3-none-any.whl size=4649 sha256=7790a3a83001d902579a59e57ce3e1cdb295313f0bfecc8abad27a9135dae2ca\n",
      "  Stored in directory: /tmp/pip-ephem-wheel-cache-yilw1u3a/wheels/10/b4/d9/cb627bbfaefa266657b0b4e8127f7bf96d27376fa1a23897b4\n",
      "Successfully built kobert-tokenizer\n",
      "Installing collected packages: kobert-tokenizer\n",
      "Successfully installed kobert-tokenizer-0.1\n"
     ]
    }
   ],
   "source": [
    "!pip install 'git+https://github.com/SKTBrain/KoBERT.git#egg=kobert_tokenizer&subdirectory=kobert_hf'"
   ]
  },
  {
   "cell_type": "code",
   "execution_count": null,
   "metadata": {
    "colab": {
     "base_uri": "https://localhost:8080/",
     "height": 169,
     "referenced_widgets": [
      "e0736f55782d4a9e992646b914aca9d4",
      "e05d66da717c4b13a6abf67701179a8d",
      "81de3df726214b1db248569f2446ec2b",
      "9603fdbc91304aaa851bb0c3dfeefb63",
      "754cb244fb0e47e99173570141c4b66b",
      "e6fab47440dd40598f7355e2271c6d58",
      "3d3936c003c644a2a813f482089e74cb",
      "f982a086c51c49138eea061b562db599",
      "c79e151e39af44338315d239762c8b6a",
      "f976687d3cf349adb6801b71786c016f",
      "24dbe76daac14d9dab7c3142f775b39c",
      "491e00c8ecce42b28a55043bf1a6343e",
      "c69d0d8384784af4ad2b37674b134ed6",
      "a9954c47ea574b0984755be28825d917",
      "066c571ab6a242ffbd306d30a6e8553c",
      "7a2bb8af0c5949d7993935497ded39f4",
      "f1da80254bf042a5b7995f50df985679",
      "0c2d6ea370124af28b171d39e9602c61",
      "72d37fbfbdc5474aaf06ca9fded88af7",
      "a4cb13a149984597960a0b84af11dede",
      "2eaf1d1f03924d40a8ab70aab839b5dd",
      "a1bb006d6d264a99b5c46871bf5a1b53",
      "4c8d9cbd1f6845a2b53833c70978699b",
      "f4e2f7cbf0244ef0b27d26f9c504ab75",
      "ed074e8487a5431c9c7d8958255faecb",
      "0f112600221c418ca1b12717ad11a8e1",
      "8a95356666a84657bbea3efc4a784e97",
      "4ddd08c1fb954345a2239c95a815122f",
      "41548d269de149069b8f22f7cfbeaca3",
      "a778ec076557499ba9d462f91901327e",
      "4d31d686c2d7485abdaf470820445320",
      "bbf0a625da334bbb9408c4f753aa24d8",
      "5ebc5f5facf34186abb0635ab8e139c3"
     ]
    },
    "executionInfo": {
     "elapsed": 768,
     "status": "ok",
     "timestamp": 1652337482903,
     "user": {
      "displayName": "김나연",
      "userId": "06753887738562433319"
     },
     "user_tz": -540
    },
    "id": "mzfTTlGTveey",
    "outputId": "d751511b-ed3b-4049-fa0f-167d41b67bf0"
   },
   "outputs": [
    {
     "data": {
      "application/vnd.jupyter.widget-view+json": {
       "model_id": "e0736f55782d4a9e992646b914aca9d4",
       "version_major": 2,
       "version_minor": 0
      },
      "text/plain": [
       "Downloading:   0%|          | 0.00/363k [00:00<?, ?B/s]"
      ]
     },
     "metadata": {},
     "output_type": "display_data"
    },
    {
     "data": {
      "application/vnd.jupyter.widget-view+json": {
       "model_id": "491e00c8ecce42b28a55043bf1a6343e",
       "version_major": 2,
       "version_minor": 0
      },
      "text/plain": [
       "Downloading:   0%|          | 0.00/244 [00:00<?, ?B/s]"
      ]
     },
     "metadata": {},
     "output_type": "display_data"
    },
    {
     "data": {
      "application/vnd.jupyter.widget-view+json": {
       "model_id": "4c8d9cbd1f6845a2b53833c70978699b",
       "version_major": 2,
       "version_minor": 0
      },
      "text/plain": [
       "Downloading:   0%|          | 0.00/432 [00:00<?, ?B/s]"
      ]
     },
     "metadata": {},
     "output_type": "display_data"
    },
    {
     "name": "stderr",
     "output_type": "stream",
     "text": [
      "The tokenizer class you load from this checkpoint is not the same type as the class this function is called from. It may result in unexpected tokenization. \n",
      "The tokenizer class you load from this checkpoint is 'XLNetTokenizer'. \n",
      "The class this function is called from is 'KoBERTTokenizer'.\n"
     ]
    }
   ],
   "source": [
    "from kobert_tokenizer import KoBERTTokenizer\n",
    "\n",
    "tokenizer = KoBERTTokenizer.from_pretrained('skt/kobert-base-v1')"
   ]
  },
  {
   "cell_type": "code",
   "execution_count": null,
   "metadata": {
    "colab": {
     "base_uri": "https://localhost:8080/"
    },
    "executionInfo": {
     "elapsed": 541,
     "status": "ok",
     "timestamp": 1652337483428,
     "user": {
      "displayName": "김나연",
      "userId": "06753887738562433319"
     },
     "user_tz": -540
    },
    "id": "mJuXUB9vtMbO",
    "outputId": "8c1e9172-849b-4eae-916f-493383d49366"
   },
   "outputs": [
    {
     "name": "stderr",
     "output_type": "stream",
     "text": [
      "INFO - haystack.telemetry -  Haystack sends anonymous usage data to understand the actual usage and steer dev efforts towards features that are most meaningful to users. You can opt-out at anytime by calling disable_telemetry() or by manually setting the environment variable HAYSTACK_TELEMETRY_ENABLED as described for different operating systems on the documentation page. More information at https://haystack.deepset.ai/guides/telemetry\n",
      "INFO - haystack.modeling.utils -  Using devices: CPU\n",
      "INFO - haystack.modeling.utils -  Number of GPUs: 0\n"
     ]
    }
   ],
   "source": [
    "from haystack.document_stores import InMemoryDocumentStore\n",
    "\n",
    "document_store = InMemoryDocumentStore()"
   ]
  },
  {
   "cell_type": "code",
   "execution_count": null,
   "metadata": {
    "id": "MMP8xiWjwM8Z"
   },
   "outputs": [],
   "source": [
    "doc_dir = '../data/naver_news.csv'\n",
    "\n",
    "docs = convert_files_to_docs(dir_path=doc_dir, clean_func=tokenizer, split_paragraphs=True)"
   ]
  },
  {
   "cell_type": "code",
   "execution_count": null,
   "metadata": {
    "colab": {
     "base_uri": "https://localhost:8080/"
    },
    "executionInfo": {
     "elapsed": 4,
     "status": "ok",
     "timestamp": 1652337563418,
     "user": {
      "displayName": "김나연",
      "userId": "06753887738562433319"
     },
     "user_tz": -540
    },
    "id": "-b_YaYEnxCS_",
    "outputId": "87408641-50ed-4886-9ea0-94a34e3885d1"
   },
   "outputs": [
    {
     "name": "stdout",
     "output_type": "stream",
     "text": [
      "[]\n"
     ]
    }
   ],
   "source": [
    "print(docs[:3])"
   ]
  },
  {
   "cell_type": "code",
   "execution_count": null,
   "metadata": {
    "id": "LOZE0-Nvx9qN"
   },
   "outputs": [],
   "source": [
    "! wget https://artifacts.elastic.co/downloads/elasticsearch/elasticsearch-7.9.2-linux-x86_64.tar.gz -q"
   ]
  },
  {
   "cell_type": "code",
   "execution_count": null,
   "metadata": {
    "id": "GqDcq9EQyTso"
   },
   "outputs": [],
   "source": [
    "! tar -xzf elasticsearch-7.9.2-linux-x86_64.tar.gz"
   ]
  },
  {
   "cell_type": "code",
   "execution_count": null,
   "metadata": {
    "id": "S2fqOF5Vyjtd"
   },
   "outputs": [],
   "source": [
    "! chown -R daemon:daemon elasticsearch-7.9.2"
   ]
  },
  {
   "cell_type": "code",
   "execution_count": null,
   "metadata": {
    "id": "9Ew5nK8-ytW7"
   },
   "outputs": [],
   "source": [
    "import os\n",
    "from subprocess import Popen, PIPE, STDOUT"
   ]
  },
  {
   "cell_type": "code",
   "execution_count": null,
   "metadata": {
    "id": "Ozurg5h-zw4E"
   },
   "outputs": [],
   "source": [
    "es_server = Popen(['elasticsearch-7.9.2/bin/elasticsearch'],\n",
    "                  stdout=PIPE, stderr=STDOUT,\n",
    "                  preexec_fn=lambda: os.setuid(1)\n",
    "                  )\n",
    "\n",
    "! sleep 30"
   ]
  },
  {
   "cell_type": "code",
   "execution_count": null,
   "metadata": {
    "id": "5AR0X9KA0RJ6"
   },
   "outputs": [],
   "source": [
    "from haystack.document_stores import ElasticsearchDocumentStore\n",
    "document_store = ElasticsearchDocumentStore(host='localhost', username='root', password='1111', index='document')"
   ]
  },
  {
   "cell_type": "code",
   "execution_count": null,
   "metadata": {
    "id": "jxJjJXmH1pcT"
   },
   "outputs": [],
   "source": [
    "import pandas as pd\n",
    "newsdf = pd.read_csv('../data/naver_news.csv')"
   ]
  },
  {
   "cell_type": "code",
   "execution_count": null,
   "metadata": {
    "colab": {
     "base_uri": "https://localhost:8080/",
     "height": 274
    },
    "executionInfo": {
     "elapsed": 312,
     "status": "ok",
     "timestamp": 1652337672879,
     "user": {
      "displayName": "김나연",
      "userId": "06753887738562433319"
     },
     "user_tz": -540
    },
    "id": "nRYIjk5_19xe",
    "outputId": "e477a91c-b4ad-405a-d63c-6da0c865549a"
   },
   "outputs": [
    {
     "data": {
      "text/html": [
       "\n",
       "  <div id=\"df-6827e428-e1c2-4491-ab40-e4c41739d032\">\n",
       "    <div class=\"colab-df-container\">\n",
       "      <div>\n",
       "<style scoped>\n",
       "    .dataframe tbody tr th:only-of-type {\n",
       "        vertical-align: middle;\n",
       "    }\n",
       "\n",
       "    .dataframe tbody tr th {\n",
       "        vertical-align: top;\n",
       "    }\n",
       "\n",
       "    .dataframe thead th {\n",
       "        text-align: right;\n",
       "    }\n",
       "</style>\n",
       "<table border=\"1\" class=\"dataframe\">\n",
       "  <thead>\n",
       "    <tr style=\"text-align: right;\">\n",
       "      <th></th>\n",
       "      <th>title</th>\n",
       "      <th>article</th>\n",
       "      <th>link</th>\n",
       "      <th>subject</th>\n",
       "    </tr>\n",
       "  </thead>\n",
       "  <tbody>\n",
       "    <tr>\n",
       "      <th>0</th>\n",
       "      <td>연금에 꽂힌 김동원… 한화생명, 디지털 판매회사 세운다</td>\n",
       "      <td>한화생명이 디지털 연금 판매전문회사를 설립하기 위한 초읽기에 들어갔다. 사진은 한화생명 여의도 사옥./사진=한화생명 한화생명이...</td>\n",
       "      <td>https://news.naver.com/main/read.naver?mode=LSD&amp;mid=sec&amp;sid1=101&amp;oid=417&amp;aid...</td>\n",
       "      <td>개인연금</td>\n",
       "    </tr>\n",
       "    <tr>\n",
       "      <th>1</th>\n",
       "      <td>[단독] \"연금에서 답 찾자\" 한화생명, 디지털 판매회사 세운다</td>\n",
       "      <td>한화생명이 디지털 연금 전문회사를 설립하기 위해 인원 충원 작업에 들어갔다. 사진은 한화생명 여의도 사옥./사진=한화생명 한화...</td>\n",
       "      <td>https://news.naver.com/main/read.naver?mode=LSD&amp;mid=sec&amp;sid1=101&amp;oid=417&amp;aid...</td>\n",
       "      <td>개인연금</td>\n",
       "    </tr>\n",
       "    <tr>\n",
       "      <th>2</th>\n",
       "      <td>연금저축 작년 신규계약 194% 폭증…2030세대 지갑 열었다</td>\n",
       "      <td>금융감독원. 연합뉴스       지난해 20~30대의 연금저축 신규 가입이 급증한 것으로 나타났다.    금융감독원이 11...</td>\n",
       "      <td>https://news.naver.com/main/read.naver?mode=LSD&amp;mid=sec&amp;sid1=101&amp;oid=025&amp;aid...</td>\n",
       "      <td>개인연금</td>\n",
       "    </tr>\n",
       "  </tbody>\n",
       "</table>\n",
       "</div>\n",
       "      <button class=\"colab-df-convert\" onclick=\"convertToInteractive('df-6827e428-e1c2-4491-ab40-e4c41739d032')\"\n",
       "              title=\"Convert this dataframe to an interactive table.\"\n",
       "              style=\"display:none;\">\n",
       "        \n",
       "  <svg xmlns=\"http://www.w3.org/2000/svg\" height=\"24px\"viewBox=\"0 0 24 24\"\n",
       "       width=\"24px\">\n",
       "    <path d=\"M0 0h24v24H0V0z\" fill=\"none\"/>\n",
       "    <path d=\"M18.56 5.44l.94 2.06.94-2.06 2.06-.94-2.06-.94-.94-2.06-.94 2.06-2.06.94zm-11 1L8.5 8.5l.94-2.06 2.06-.94-2.06-.94L8.5 2.5l-.94 2.06-2.06.94zm10 10l.94 2.06.94-2.06 2.06-.94-2.06-.94-.94-2.06-.94 2.06-2.06.94z\"/><path d=\"M17.41 7.96l-1.37-1.37c-.4-.4-.92-.59-1.43-.59-.52 0-1.04.2-1.43.59L10.3 9.45l-7.72 7.72c-.78.78-.78 2.05 0 2.83L4 21.41c.39.39.9.59 1.41.59.51 0 1.02-.2 1.41-.59l7.78-7.78 2.81-2.81c.8-.78.8-2.07 0-2.86zM5.41 20L4 18.59l7.72-7.72 1.47 1.35L5.41 20z\"/>\n",
       "  </svg>\n",
       "      </button>\n",
       "      \n",
       "  <style>\n",
       "    .colab-df-container {\n",
       "      display:flex;\n",
       "      flex-wrap:wrap;\n",
       "      gap: 12px;\n",
       "    }\n",
       "\n",
       "    .colab-df-convert {\n",
       "      background-color: #E8F0FE;\n",
       "      border: none;\n",
       "      border-radius: 50%;\n",
       "      cursor: pointer;\n",
       "      display: none;\n",
       "      fill: #1967D2;\n",
       "      height: 32px;\n",
       "      padding: 0 0 0 0;\n",
       "      width: 32px;\n",
       "    }\n",
       "\n",
       "    .colab-df-convert:hover {\n",
       "      background-color: #E2EBFA;\n",
       "      box-shadow: 0px 1px 2px rgba(60, 64, 67, 0.3), 0px 1px 3px 1px rgba(60, 64, 67, 0.15);\n",
       "      fill: #174EA6;\n",
       "    }\n",
       "\n",
       "    [theme=dark] .colab-df-convert {\n",
       "      background-color: #3B4455;\n",
       "      fill: #D2E3FC;\n",
       "    }\n",
       "\n",
       "    [theme=dark] .colab-df-convert:hover {\n",
       "      background-color: #434B5C;\n",
       "      box-shadow: 0px 1px 3px 1px rgba(0, 0, 0, 0.15);\n",
       "      filter: drop-shadow(0px 1px 2px rgba(0, 0, 0, 0.3));\n",
       "      fill: #FFFFFF;\n",
       "    }\n",
       "  </style>\n",
       "\n",
       "      <script>\n",
       "        const buttonEl =\n",
       "          document.querySelector('#df-6827e428-e1c2-4491-ab40-e4c41739d032 button.colab-df-convert');\n",
       "        buttonEl.style.display =\n",
       "          google.colab.kernel.accessAllowed ? 'block' : 'none';\n",
       "\n",
       "        async function convertToInteractive(key) {\n",
       "          const element = document.querySelector('#df-6827e428-e1c2-4491-ab40-e4c41739d032');\n",
       "          const dataTable =\n",
       "            await google.colab.kernel.invokeFunction('convertToInteractive',\n",
       "                                                     [key], {});\n",
       "          if (!dataTable) return;\n",
       "\n",
       "          const docLinkHtml = 'Like what you see? Visit the ' +\n",
       "            '<a target=\"_blank\" href=https://colab.research.google.com/notebooks/data_table.ipynb>data table notebook</a>'\n",
       "            + ' to learn more about interactive tables.';\n",
       "          element.innerHTML = '';\n",
       "          dataTable['output_type'] = 'display_data';\n",
       "          await google.colab.output.renderOutput(dataTable, element);\n",
       "          const docLink = document.createElement('div');\n",
       "          docLink.innerHTML = docLinkHtml;\n",
       "          element.appendChild(docLink);\n",
       "        }\n",
       "      </script>\n",
       "    </div>\n",
       "  </div>\n",
       "  "
      ],
      "text/plain": [
       "                                 title  \\\n",
       "0       연금에 꽂힌 김동원… 한화생명, 디지털 판매회사 세운다   \n",
       "1  [단독] \"연금에서 답 찾자\" 한화생명, 디지털 판매회사 세운다   \n",
       "2   연금저축 작년 신규계약 194% 폭증…2030세대 지갑 열었다   \n",
       "\n",
       "                                                                           article  \\\n",
       "0        한화생명이 디지털 연금 판매전문회사를 설립하기 위한 초읽기에 들어갔다. 사진은 한화생명 여의도 사옥./사진=한화생명 한화생명이...   \n",
       "1        한화생명이 디지털 연금 전문회사를 설립하기 위해 인원 충원 작업에 들어갔다. 사진은 한화생명 여의도 사옥./사진=한화생명 한화...   \n",
       "2          금융감독원. 연합뉴스       지난해 20~30대의 연금저축 신규 가입이 급증한 것으로 나타났다.    금융감독원이 11...   \n",
       "\n",
       "                                                                              link  \\\n",
       "0  https://news.naver.com/main/read.naver?mode=LSD&mid=sec&sid1=101&oid=417&aid...   \n",
       "1  https://news.naver.com/main/read.naver?mode=LSD&mid=sec&sid1=101&oid=417&aid...   \n",
       "2  https://news.naver.com/main/read.naver?mode=LSD&mid=sec&sid1=101&oid=025&aid...   \n",
       "\n",
       "  subject  \n",
       "0    개인연금  \n",
       "1    개인연금  \n",
       "2    개인연금  "
      ]
     },
     "execution_count": 18,
     "metadata": {},
     "output_type": "execute_result"
    }
   ],
   "source": [
    "newsdf.head(3)"
   ]
  },
  {
   "cell_type": "code",
   "execution_count": null,
   "metadata": {
    "id": "4dk8BPxI2P43"
   },
   "outputs": [],
   "source": [
    "news_dicts = []\n",
    "for i in range(len(newsdf['title'])):\n",
    "  data = newsdf.iloc[i]\n",
    "  temp = {}\n",
    "  length=1000\n",
    "  short_article = data['article'].strip()\n",
    "  temp['content'] = short_article\n",
    "  temp['meta'] = {'title': data['title'], 'subject': data['subject']}\n",
    "  news_dicts.append(temp)"
   ]
  },
  {
   "cell_type": "code",
   "execution_count": null,
   "metadata": {
    "colab": {
     "base_uri": "https://localhost:8080/"
    },
    "executionInfo": {
     "elapsed": 278,
     "status": "ok",
     "timestamp": 1652343000618,
     "user": {
      "displayName": "김나연",
      "userId": "06753887738562433319"
     },
     "user_tz": -540
    },
    "id": "e-ZbtCtY38IE",
    "outputId": "a6a6d030-2af2-4966-b282-22b195596986"
   },
   "outputs": [
    {
     "data": {
      "text/plain": [
       "[{'content': '한화생명이 디지털 연금 판매전문회사를 설립하기 위한 초읽기에 들어갔다. 사진은 한화생명 여의도 사옥./사진=한화생명 한화생명이 연금보험(연금보험, 연금저축보험)을 전문으로 판매하는 디지털 자회사를 세운다. 저출산, 고령화로 보험산업이 정체된 가운데 미래성장동력을 확보하려는 것이다. 이번 설립은 김동원 한화생명 부사장이 주도했다.  27일 보험업계에 따르면 한화생명은 디지털 연금 전문회사 설립에 필요한 과장급 이하 인재 10여명을 채용하기 시작했다. 이들은 디지털 연금을 판매하기 위한 온라인 플랫폼을 구축하는데 투입할 예정이다.  현재 한화생명은 전문회사 출범을 위한 조직을 구성하고 있으며 수시채용을 통해 인원을 충원할 예정이다. 이번 자회사 설립은 성장 잠재력이 높은 연금 시장에서 영향력을 높이기 위한 차원에서 이뤄지는 것이다.  특히 MZ(1980년대 초~2000년대 초 출생한 밀레니얼 세대와 1990년대 중반~2000년대 초반 출생한 Z세대)의 연금 시장에 대한 관심이 커지고 있다고 판단하고 디지털 판매라는 방식을 택했다. 연금은 소득상실이나 상당한 소득저하 등 향후 발생할 수 있는 생활상의 위기로부터 보호받을 수 있는 소득보장수단으로 꼽힌다. 개인연금은 안정적인 노후생활을 위해 개인이 스스로 일시납 또는 적립식의 형태로 가입여부를 결정하는 금융상품이다. 개인연금은 은행, 생명보험회사, 손해보험회사, 투자신탁회사 등을 통해 가입할 수 있다. 개인연금에는 연금저축신탁, 연금저축펀드, 연금저축보험, 연금보험 등이 있다. 이중 보험사가 판매하는 것은 연금저축보험, 연금보험 등 2개다. 연금보험과 연금저축보험의 차이점은 세제혜택을 받는 시점이다. 연금보험은 최종 연금 수령 시 세금 면제를 받는 비과세 상품이며 연금저축보험은 매년 연말정산(또는 종합소득신고) 때 세액공제를 받는 세액공제 상품이다. 최근 연금에 대한 MZ세대 관심도 커지는 분위기다. 금융감독원의 \\'2021년 연금저축 현황\\'에 따르면 지난해 연금저축 신규 계약 건수는 174만9000건으로, 전년보다 194.4% 증가했다. 특히 20~30대 가입자가 크게 늘어났다. 20대 가입자는 2020년 36만7000명에서 2020년 62만3000명으로 크게 늘어났다. 같은 기간 30대는 102만3000명에서 124만7000명으로 증가했다. 증가율을 보면 20대는 2020년 16.8%에서 70.0%로 상승했고, 30대는 같은 기간 2.3%에서 21.9%로 올랐다. 실제 지난해 9월 한화생명은 디지털 연금 TF를 만들고 자회사 설립을 비롯해 연금보험 판매를 확대하기 위한 다양한 방안을 논의해 왔다. 현재 한화생명은 내게맞는 연금보험, 바로연금 보험 등 2개를 판매하는 중이다. 한화생명 관계자는 \"연금 사업 강화를 위한 다양한 방안을 검토하고 있다\"며 \"디지털 전문자회사를 만드는 건 그 사안 중 하나지만 확정한 건 아니다\"고 설명했다.',\n",
       "  'meta': {'subject': '개인연금', 'title': '연금에 꽂힌 김동원… 한화생명, 디지털 판매회사 세운다'}},\n",
       " {'content': '한화생명이 디지털 연금 전문회사를 설립하기 위해 인원 충원 작업에 들어갔다. 사진은 한화생명 여의도 사옥./사진=한화생명 한화생명이 연금보험(연금보험, 연금저축보험)을 전문으로 판매하는 디지털 자회사를 세운다. 저출산, 고령화로 보험산업이 정체된 가운데 미래성장동력을 확보하려는 것이다. 설립 시기와 규모는 현재 논의 중이다.26일 보험업계에 따르면 한화생명은 디지털 연금 전문회사 설립에 필요한 과장급 이하 인재 10여명을 채용하기 시작했다. 이들은 디지털 연금을 판매하기 위한 온라인 플랫폼을 구축하는데 투입할 예정이다. 현재 한화생명은 전문회사 출범을 위한 조직을 구성하고 있으며 수시채용을 통해 인원을 충원할 예정이다.이번 자회사 설립은 성장 잠재력이 높은 연금 시장에서 영향력을 높이기 위한 차원에서 이뤄지는 것이다. 특히 MZ(1980년대 초~2000년대 초 출생한 밀레니얼 세대와 1990년대 중반~2000년대 초반 출생한 Z세대)의 연금 시장에 대한 관심이 커지고 있다고 판단하고 디지털 판매라는 방식을 택했다.  연금은 소득상실이나 상당한 소득저하 등 향후 발생할 수 있는 생활상의 위기로부터 보호받을 수 있는 소득보장수단으로 꼽힌다. 개인연금은 안정적인 노후생활을 위해 개인이 스스로 일시납 또는 적립식의 형태로 가입여부를 결정하는 금융상품이다.  개인연금은 은행, 생명보험회사, 손해보험회사, 투자신탁회사 등을 통해 가입할 수 있다. 개인연금에는 연금저축신탁, 연금저축펀드, 연금저축보험, 연금보험 등이 있다. 이중 보험사가 판매하는 것은 연금저축보험, 연금보험 등 2개다.  연금보험과 연금저축보험의 차이점은 세제혜택을 받는 시점이다. 연금보험은 최종 연금 수령 시 세금 면제를 받는 비과세 상품이며 연금저축보험은 매년 연말정산(또는 종합소득신고) 때 세액공제를 받는 세액공제 상품이다. 최근 연금에 대한 MZ세대 관심도 커지는 분위기다. 금융감독원의 \\'2021년 연금저축 현황\\'에 따르면 지난해 연금저축 신규 계약 건수는 174만9000건으로, 전년보다 194.4% 증가했다. 특히 20~30대 가입자가 크게 늘어났다. 20대 가입자는 2020년 36만7000명에서 2020년 62만3000명으로 크게 늘어났다. 같은 기간 30대는 102만3000명에서 124만7000명으로 증가했다. 증가율을 보면 20대는 2020년 16.8%에서 70.0%로 상승했고, 30대는 같은 기간 2.3%에서 21.9%로 올랐다. 실제 지난해 9월 한화생명은 디지털 연금 TF를 만들고 자회사 설립을 비롯해 연금보험 판매를 확대하기 위한 다양한 방안을 논의해 왔다. 현재 한화생명은 내게맞는 연금보험, 바로연금 보험 등 2개를 판매하는 중이다. 한화생명 관계자는 \"연금 사업 강화를 위한 다양한 방안을 검토하고 있다\"며 \"디지털 전문자회사를 만드는 건 그 사안 중 하나지만 확정한 건 아니다\"고 설명했다.',\n",
       "  'meta': {'subject': '개인연금', 'title': '[단독] \"연금에서 답 찾자\" 한화생명, 디지털 판매회사 세운다'}},\n",
       " {'content': '금융감독원. 연합뉴스       지난해 20~30대의 연금저축 신규 가입이 급증한 것으로 나타났다.    금융감독원이 11일 공개한 \\'2021년 연금저축 현황 및 시사점\\'에 따르면, 지난해 연금저축 신규 계약 건수는 174만9000건으로, 전년보다 194.4% 증가했다. 총가입자는 지난해 688만9000명으로 전년보다 16.7% 늘었다.       모든 연령대에서 가입자가 늘어난 가운데 2030세대 증가율이 두드러졌다. 20대 가입자(62만3000명)는 전년 대비 70% 증가했고, 30대 가입자(124만7000명)도 21.9% 늘었다.       연금저축은 일정 기간 세액공제 혜택을 받으면서 노후자금을 적립한 뒤 노년기에 연금으로 받는 개인연금 상품을 말한다.      금감원은 \"신규 가입자 증가가 실질적인 납입 증대로 이어질 수 있도록 세제 등 정부 차원의 정책적 지원을 지속해서 강화할 필요가 있다\"고 했다.      금감원에 따르면 현재 연금 수령 중인 계약 중 연 수령액 500만원 이하가 80%를 넘고, 평균 수령액도 300만원 선에서 정체돼 있어 실질적인 노후 대비를 위해서는 부족한 상황이다.          연금저축 가입자 연령별 증가율. 그래픽=김영옥 기자 yesok@joongang.co.kr       작년 말 기준 연금저축 총적립금은 160조1000억원으로 전년 대비 5%(7조6000억원) 늘었다. 상품별로는 보험이 112조원으로 전체 적립금의 69.9%를 점유했고, 펀드(15.2%), 신탁(10.6%) 등이 그 뒤를 이었다.      연금저축 총납입액은 9조9000억원으로 전년보다 1.8% 늘었다. 보험(-13.1%)과 신탁(-6.0%) 납입액은 감소했지만, 펀드 납입액은 1조1000억원 늘면서 61.8% 증가했다.      계약당 납입액은 262만원으로 지난 2년간 증가세를 보이고 있다. 계약당 납입액은 2019년에는 237만원, 2020년에는 250만원이었다. 계약당 연간 연금수령액은 295만원으로 전년 대비 2만원 늘었다. 가입자들의 총 연간 연금수령액(4조원)은 14.3% 증가했다.',\n",
       "  'meta': {'subject': '개인연금', 'title': '연금저축 작년 신규계약 194% 폭증…2030세대 지갑 열었다'}}]"
      ]
     },
     "execution_count": 92,
     "metadata": {},
     "output_type": "execute_result"
    }
   ],
   "source": [
    "news_dicts[:3]"
   ]
  },
  {
   "cell_type": "code",
   "execution_count": null,
   "metadata": {
    "colab": {
     "base_uri": "https://localhost:8080/"
    },
    "executionInfo": {
     "elapsed": 2,
     "status": "ok",
     "timestamp": 1652343001843,
     "user": {
      "displayName": "김나연",
      "userId": "06753887738562433319"
     },
     "user_tz": -540
    },
    "id": "rma4Lfx3qtlu",
    "outputId": "b5d5632b-2ff0-4bcd-bf9e-254f50e51da1"
   },
   "outputs": [
    {
     "name": "stdout",
     "output_type": "stream",
     "text": [
      "1408\n",
      "1408\n",
      "1408\n",
      "1408\n"
     ]
    }
   ],
   "source": [
    "for i in range(4):\n",
    "  print(len(news_dicts[0]['content']))"
   ]
  },
  {
   "cell_type": "code",
   "execution_count": null,
   "metadata": {
    "id": "c3Jmi94L4Jw6"
   },
   "outputs": [],
   "source": [
    "document_store.write_documents(news_dicts)"
   ]
  },
  {
   "cell_type": "code",
   "execution_count": null,
   "metadata": {
    "id": "ldwuhRM7qXCn"
   },
   "outputs": [],
   "source": [
    "from haystack.nodes import BM25Retriever\n",
    "retriever = BM25Retriever(document_store=document_store)"
   ]
  },
  {
   "cell_type": "code",
   "execution_count": null,
   "metadata": {
    "colab": {
     "base_uri": "https://localhost:8080/"
    },
    "executionInfo": {
     "elapsed": 1502,
     "status": "ok",
     "timestamp": 1652343380614,
     "user": {
      "displayName": "김나연",
      "userId": "06753887738562433319"
     },
     "user_tz": -540
    },
    "id": "ATJLaX_rsg13",
    "outputId": "99e94f68-0468-40bb-cf29-7590bedec890"
   },
   "outputs": [
    {
     "name": "stderr",
     "output_type": "stream",
     "text": [
      "INFO - haystack.modeling.utils -  Using devices: CPU\n",
      "INFO - haystack.modeling.utils -  Number of GPUs: 0\n"
     ]
    }
   ],
   "source": [
    "reader = TransformersReader(model_name_or_path='monologg/koelectra-small-v2-distilled-korquad-384', use_gpu=True, context_window_size=500)"
   ]
  },
  {
   "cell_type": "code",
   "execution_count": null,
   "metadata": {
    "id": "q8poffc5skoZ"
   },
   "outputs": [],
   "source": [
    "from haystack.pipelines import ExtractiveQAPipeline\n",
    "\n",
    "pipe = ExtractiveQAPipeline(reader, retriever)"
   ]
  },
  {
   "cell_type": "code",
   "execution_count": null,
   "metadata": {
    "colab": {
     "base_uri": "https://localhost:8080/"
    },
    "executionInfo": {
     "elapsed": 4763,
     "status": "ok",
     "timestamp": 1652343419350,
     "user": {
      "displayName": "김나연",
      "userId": "06753887738562433319"
     },
     "user_tz": -540
    },
    "id": "TDz3ienkr8La",
    "outputId": "72913542-6609-4c36-8877-9e56b5a92273"
   },
   "outputs": [
    {
     "name": "stderr",
     "output_type": "stream",
     "text": [
      "/usr/local/lib/python3.7/dist-packages/transformers/pipelines/question_answering.py:189: UserWarning: topk parameter is deprecated, use top_k instead\n",
      "  warnings.warn(\"topk parameter is deprecated, use top_k instead\", UserWarning)\n",
      "/usr/local/lib/python3.7/dist-packages/transformers/tokenization_utils_base.py:703: VisibleDeprecationWarning: Creating an ndarray from ragged nested sequences (which is a list-or-tuple of lists-or-tuples-or ndarrays with different lengths or shapes) is deprecated. If you meant to do this, you must specify 'dtype=object' when creating the ndarray.\n",
      "  tensor = as_tensor(value)\n",
      "/usr/local/lib/python3.7/dist-packages/transformers/pipelines/question_answering.py:300: VisibleDeprecationWarning: Creating an ndarray from ragged nested sequences (which is a list-or-tuple of lists-or-tuples-or ndarrays with different lengths or shapes) is deprecated. If you meant to do this, you must specify 'dtype=object' when creating the ndarray.\n",
      "  for span_id in range(num_spans)\n"
     ]
    }
   ],
   "source": [
    "prediction = pipe.run(\n",
    "    query = '국민연금은 언제 고갈되나요?',\n",
    "    params={\"Retriever\": {\"top_k\": 10}, \"Reader\": {\"top_k\": 1}}\n",
    ")"
   ]
  },
  {
   "cell_type": "code",
   "execution_count": null,
   "metadata": {
    "colab": {
     "base_uri": "https://localhost:8080/"
    },
    "executionInfo": {
     "elapsed": 314,
     "status": "ok",
     "timestamp": 1652343420738,
     "user": {
      "displayName": "김나연",
      "userId": "06753887738562433319"
     },
     "user_tz": -540
    },
    "id": "CsNZULqqqXID",
    "outputId": "ab40a120-f424-4180-a1ab-41e69f11c212"
   },
   "outputs": [
    {
     "name": "stdout",
     "output_type": "stream",
     "text": [
      "{'answers': [<Answer {'answer': '2055∼2057년', 'type': 'extractive', 'score': 0.9999570250511169, 'context': '보험연구원 보고서…\"연금액 두 번 삭감으로 더 깎기 어려워\"\"퇴직연금 해지 제한 등 사적연금 기능 제고 필요\"    국민연금 (CG)[연합뉴스TV 제공](서울=연합뉴스) 하채림 기자 = 국민연금 기금이 2055∼2057년 고갈될 것이라는 전망이 나오는 가운데 새 정부가 보험료율 상향을 추진할 것이라는 관측이 나왔다.    보험연구원 강성호 선임연구위원은 3일 \\'연금개혁기 사적연금 대응 방향\\' 보고서에서 새 정부의 국민연금 개혁 논의는 보험료율 상향에 초점이 맞춰질 것으로 전망했다.     국민연금은 1998·2007년 두 차례 개혁', 'offsets_in_document': [{'start': 113, 'end': 123}], 'offsets_in_context': [{'start': 113, 'end': 123}], 'document_id': '7c44b9de5bf85f863edfd1ef9dea3694', 'meta': {'title': '\"새 정부 국민연금개혁 논의, 보험료 인상에 초점 예상\"', 'subject': '퇴직연금 해지'}}>],\n",
      " 'documents': [<Document: {'content': '“4년 새 부담 15조~21조원 늘어” 민간 상품이면 당국 제재받을 만현 정부 임기 내내 방치했는데 차기 주자들도 개선 의지 안 보여    이재명 윤석열 홍준표          국민연금이 민간 금융상품이라면 어느 정도 매력이 있을까. 국민연금이나 민간 개인연금은 매월 일정액을 납부해 노후에 연금으로 받는 구조가 같다.현재 국민연금은 인기 있는 상품이다. 더 낼 필요가 없는데도 노후를 위해 국민연금을 더 붓는(추가 납부) 사람이 지난해에만 30만명이 넘었다. 국감 자료에 따르면, 지난해 국민연금 추가 납부 신청자가 2015년 5만8200건에서 지난해 34만5200건으로 6배가량 증가했다. 금액도 2조1500억원으로 지난 2015년 2300억원에서 9배가량 급증했다.수익비(본인이 낸 돈 대비 받을 연금액)도 개인연금에 비할 바가 아니다. 국민연금 평균 수익비는 1.8배 정도인데, 현재 개인연금 중 수익비가 1배를 넘는 것이 없는 것으로 알려져 있다. 민간 연금은 연금을 받는 기간이 정해져 있는 경우가 많지만, 국민연금은 종신 상품이다. 또 개인 연금은 약정 금액만 주지만 국민연금은 물가상승률을 반영해 올려주는 구조다. 이렇듯 국민연금은 민간 연금에 비해 장점이 많다.하지만 앞으로도 그렇까. 국민연금은 저출산·고령화라는 큰 암초를 만났다. 현행 국민연금은 소득의 9%(보험료율)를 보험료로 내고 노후에 생애 소득의 40%(소득대체율)를 받는 것이 골자다. 수급 개시 연령은 2033년까지 65세로 단계적으로 올리는 과정에 있다. 2007년 마지막으로 고친 틀을 14년째 유지하고 있다. 그런데 2007년 출생아 수는 49만7000명, 합계출산율은 1.26명에서 지난해 출생아 수는 27만2000명, 합계출산율은 0.84명으로 급감했다. 반면 2007년 65세 이상 인구는 476만명에서 지난해 812만명으로 늘었다. 앞으로 보험료를 낼 사람은 절반으로 줄고 보험료를 받을 사람은 거의 두 배로 늘어난 것이다. 이런 급격한 변화를 견뎌낼 상품이 있을까.이런 상황이라면 변한 현실에 맞게 제도를 조정하는 것이 당연한데, 현 정부는 손대지 않았다. 사정을 잘 아는 연금 전문가들만 애가 타고 있다. 김용하 순천향대 교수는 “민영 연금 상품이 현재 국민연금 상황이라면 금융감독 당국이 판매 중단이나 책임 준비금 적립 조치를 내릴 것”이라고 말했다.현 정부가 국민연금 개혁에 손을 놓으면서 불과 4년 만에 국민이 추가 부담해야 할 금액이 최소 15조원에서 많게는 21조원 늘었다는 분석이 나왔다. 야당이 아니라 여당 의원이 얼마 전 국정감사에서 내놓은 수치다. 연금 전문가들은 이 분석조차 낙관적으로 잡았다고 지적하고 있다.더 큰 문제는 여야 유력 대선 주자들도 국민연금 개혁에 소극적이라는 점이다. 여권 이재명 후보는 물론 야권의 윤석열·홍준표 후보도 아직 제대로 된 국민연금 개혁안을 내놓지 않고 있다. 현 사장이 금융 상품을 판매 중단 조치받을 지경까지 몰아갔는데, 차기 사장 후보들도 제대로 고치겠다는 의사 표명조차 하지 않는 것이다.국민연금을 이대로 둘수록 1990년대 이후 출생한 청년 세대들이 고스란히 피해를 입는다. 지금 예상대로 2057년 국민연금 기금이 바닥나면 그해 걷은 보험료를 그해 보험금으로 지급하는 방식(부과 방식)으로 갈 수밖에 없다. 그럴 경우 보험료율이 30% 안팎에 이를 것이라는 분석이 있다. 소득의 30% 안팎을 국민연금으로 내고 살 수 있을까. 2004년 사실관계가 모호한 ‘국민연금 8대 비밀’이란 글이 온라인에서 확산하면서 전국적으로 ‘국민연금 안티 사태’가 발생했다. 이 때문에 국민연금에 대한 국민 신뢰가 추락해 회복하는 데 많은 시간이 걸렸다. 이대로 가면 젊은 층 버전 ‘국민연금 8대 비밀’이 나오지 말라는 보장이 없을 것 같다.', 'content_type': 'text', 'score': 0.7027260318102336, 'meta': {'title': '[태평로] “국민연금, 민간 금융상품이면 판매 중단당할 것”', 'subject': '개인연금 노후대비'}, 'embedding': None, 'id': 'e1516440d809baa670f8d2040737423f'}>,\n",
      "               <Document: {'content': \"소득 없으면 납부예외 신청할 수 있지만 장기적으로 손해 볼 수도    퇴직 스트레스에 노후 걱정…50대 '경제행복지수' 최저(CG)[연합뉴스TV 제공]    (서울=연합뉴스) 서한기 기자 = 서울 강남구에 사는 고모(51) 씨는 얼마 전 20년간 다니던 은행을 희망 퇴직했다.    인사 적체로 승진이 쉽지 않은 상황에서 회사에서 3년 치 정도의 급여를 특별퇴직금으로 챙겨주는 좋은 조건을 제시할 때 하루라도 빨리 '인생 2막'을 준비하는 게 현실적으로 낫다는 판단에서였다.    그런데 퇴직과 함께 새로운 고민이 생겼다. 100세 인생 시대를 맞아 긴 노후를 대비한 노후자금을 마련해야 하는데 지금이라도 개인연금 보험상품을 새로 들어야 할지 아니면 국민연금에 계속 가입하는 게 맞는지 헷갈렸다.    고씨처럼 회사를 그만두고서 국민연금 보험료를 내야 할지, 말아야 할지 고민하는 퇴직자들이 적잖다. 납부예외 신청할 때 가입기간 등 고려해야    27일 국민연금공단에 따르면 국내 거주하는 만 18세 이상에서 만 60세 미만 국민 중에서 소득이 있으면 공무원연금 같은 직역 연금 가입 등 특별한 경우를 제외하고는 국민연금에 의무적으로 가입해야 한다.    다만 직장을 다닐 때는 '사업장가입자' 자격이었지만, 퇴사하면 가입 종류가 '지역가입자'로 변경된다.    쉽게 말해서 사업장(회사)에서 근무하는 사용자와 근로자라면 모두 사업장가입자이고, 그 외에 카페 운영 등 개인 사업을 하는 사람은 지역가입자이다.    고씨의 경우 만 60세 미만으로 국민연금 의무가입자에 해당하기에 회사를 퇴직해도 사업자등록증을 보유하는 등 소득이 있다면 지역가입자로 직접 가입 신고하고 소득 신고를 해서 연금보험료를 내야 한다.     지역가입자 자격취득신고서는 주민등록상 주소지로 발송되며, 국민연금 관할 지사를 방문하거나 우편, 전화, 팩스로 신고하면 된다.    연금보험료(월 소득의 9%)는 직장인일 때는 사업장가입자로 회사와 본인이 반반씩(4.5%씩) 부담하지만, 지역가입자가 되면 본인이 전액을 납부해야 한다.    퇴직 후 소득이 없으면 납부 예외를 신청해서 연금보험료를 면제받을 수 있다.     그러나 납부 예외 기간에 보험료를 내지 않아 당장은 부담을 덜 수 있지만, 그만큼 연금 가입 기간이 줄어 나중에 가입 기간 부족으로 아예 국민연금을 받지 못하거나 받을 연금액이 줄어들어 장기적으로 손해를 볼 수 있다. 국민연금은 최소 가입 기간 10년(120개월) 이상을 채워야만 노후에 연금 형태로 받을 수 있다.    납부 예외 기간 중간에 근로·사업 소득이 생기면 소득(납부 재개)신고를 해서 반드시 다시 연금보험료 내야 한다. 그렇지 않으면 장애연금이나 유족연금 등의 연금 혜택을 받지 못할 수 있으니 주의해야 한다.    소득이 전혀 없는데도 불구하고 향후 연금액을 늘리고자 납부 예외를 신청하지 않고 연금보험료를 내고자 한다면, 전체 지역가입자의 중간 수준인 월 소득 100만원(2022년 )을 기준으로 9%, 즉 월 9만원 이상의 보험료를 내면 된다.    실업급여 대상자라면 '실업크레딧' 제도를 이용해 보험료를 줄일 수 있다.    실업크레딧은 구직급여를 받는 사람이 신청하면 국민연금 월 보험료가 최대 6만3천원으로 책정되고 이 연금보험료의 75%(월 4만7천250원)를 1인당 생애 최대 12개월까지 정부에서 지원받을 수 있는 제도다.    이 제도를 활용하면 비록 보험료는 적지만 국민연금 가입 기간을 늘리는 데 유용하다.    실업크레딧 지원이 끝나면 지역가입자로 전환돼 월 소득의 9%만큼 보험료를 내야 한다.     실업자 실업크레딧 신청(PG)[장현경 제작] 사진합성·일러스트 퇴직 후 개인연금이냐, 국민연금이냐?     고씨가 고려 중인 개인연금과 국민연금 가운데 어느 쪽이 노후자금을 마련하는 데 더 유리한지 궁금해하는 사람도 많다.    국민연금공단 측은 두 연금의 성격이 다르기 때문에 어떤 연금이 더 좋다고 단정 짓기는 어렵다면서 노후를 더 든든하게 준비하고 싶다면 국민연금과 더불어 개인연금을 함께 가입하는 게 좋은 방법이 될 수 있다고 조언한다.    국민연금공단의 설명을 들어보면, 국민연금과 개인연금의 차이점은 뚜렷하다.    먼저 국민연금은 물가 상승률을 반영해 연금을 주고, 개인연금은 약정금액을 기준으로 지급한다.    국민연금은 과거에 낸 보험료를 후에 연금을 받는 시점의 가치로 평가해 연금액을 산정하기에 그동안의 물가상승분이 반영된다. 나아가 연금수령 중에도 매년 전국소비자물가변동률만큼 연금을 인상해 주기 때문에 받는 연금의 실질 가치가 보장된다.    이에 반해 개인연금은 물가 상승률과 상관없이 연금을 지급하기에 받는 연금액은 증가하지 않는다고 한다.    또 국민연금은 평생 받고, 개인연금은 수령 기간을 선택할 수 있다.    국민연금은 숨질 때까지 받고, 사망한 후에는 생계를 함께한 배우자, 자녀 등 유족에게 유족연금을 지급한다.    반면 개인연금은 '일정 기간 지급'과 '평생 지급' 중 골라서 받을 수 있으며, 사망한 후에는 지정인(또는 법정상속인)에게 약정금액을 지급한다.    개인연금은 가입 중 가입자가 원할 때 중도에 해지할 수 있지만, 국민연금은 불가능하다는 점에서도 차이가 있다.    국민연금은 노령·장애·사망 등 혼자서 대비하기 어려운 사회적 위험에 사회 구성원 모두가 함께 참여해 대처하는 사회보장제도이기에 중도해지를 못 하는 것이다.        shg@yna.co.kr\", 'content_type': 'text', 'score': 0.6962269376868534, 'meta': {'title': '[이슈 In] 퇴직 후에도 국민연금 보험료 내야 하나 말아야 하나', 'subject': '개인연금 중도해지'}, 'embedding': None, 'id': '9a03d359b17c1fd82ce2b34a617d9e89'}>,\n",
      "               <Document: {'content': '━   배현기의 연령별, 상황별 연금 설계      2020년 통계청 생명표에 따르면, 한국 60세 남자의 기대여명(期待餘命)은 23.4년, 여자는 28.2년이라고 한다. 60세 은퇴를 기준으로 근로소득 없이 20년 이상 살아야 한다는 뜻이다. 그럼 소득이 끊긴 이 기간 동안 필요한 생활비 마련은 어떻게 하고 있을까? 최근 통계청 자료를 살펴보자. 2021년과 2013년을 비교해 보면 자녀 등에 따른 의존도는 절반 이하로 줄어든 반면, 스스로 마련하거나 정부 등 공적기관에 의존하는 정도는 높아졌다.      나쁜 뉴스만 있는 것은 아니다. 국민연금은 빨리 받을수록 유리하다. 가입자 수는 2016년을 정점으로 감소하는 반면 수급자 수는 지속적으로 증가하고 있기 때문이다. 거의 모든 분야에서 각기 다른 정책을 내놓는 대선후보들조차 국민연금법 개정에는 한목소리를 내고 있지만, 이미 수령 중이거나 곧 수령 예정인 60대에게는 영향을 미치지 않을 전망이다. 국민연금은 이들에게 노후를 위한 든', 'content_type': 'text', 'score': 0.6940259511034286, 'meta': {'title': '은퇴 앞둔 60대, 국민연금 빨리 받고 ‘3종 안전판’ 필요', 'subject': '퇴직연금 사망'}, 'embedding': None, 'id': '8ff41b442b39e6b239639ef6e8f1abcb'}>,\n",
      "               <Document: {'content': '[연금계좌, 절세 활용의 기술①]연금저축·IRP로 절세혜택…ISA만기액 연금전환 혜택도개인 성향 맞는 연금투자상품 선택 중요       [사진 게티이미지뱅크]     지난해 통계청 발표에 따르면 직장인 퇴직 평균연령은 49세다. 평균 수명이 82세라는 점을 감안하면 퇴직 후 무려 33년간이나 소득 공백이 발생한다. 최근 젊은층은 ‘현재를 즐기고 싶다’고 외치지만 퇴직 혹은 더이상 근로소득을 얻기 힘들어졌을 때 경제적인 문제로 어려움을 겪을 수 있다. 전문가들이 ‘퇴직 전 3층 연금(국민연금·퇴직연금·개인연금)을 쌓으라’고 목소리를 높이는 이유도 여기에 있다.    그렇다면 연금 준비는 언제, 그리고 어떻게 하면 좋을까. 연금상품의 이점은 세제혜택을 받을 수 있다는 점에서 연말정산을 앞둔 요즘이 가입하기 좋은 시기다. 또 최근에는 다양한 투자상품들이 나와있어 본인의 성향에 맞게 여러상품을 골라 가입할 수도 있다. 노후대비를 위한 연금가입, 늦었다고 생각했을 때가 가장 빠른 시기일 수 ', 'content_type': 'text', 'score': 0.6799512795996624, 'meta': {'title': '\"내 연금 어떻게 지킬까\"…연말 오기 전 챙겨야 할 연금 투자', 'subject': '연금저축 중도인출'}, 'embedding': None, 'id': '40b823f32893d335a2f5a6720722175f'}>,\n",
      "               <Document: {'content': '그래픽=머니S 김영찬 기자퇴직연금을 제대로 운용하고 있는지 물어보면 제대로 알지 못하는 경우가 많다. 연간 400만원(급여에 따라 300만원) 내에서 세액공제 혜택이 있는 연금저축과 혼동하는 경우가 많고 퇴직금이 퇴직연금제도에 가입돼 운용되고 있는지 DB형인지, DC형인지 알지 못하는 경우도 많다. DB형인 경우는 사용자(기업, 사업자)가 운용을 하고 수익금에 관계 없이 일정액의 퇴직금을 지급하는 것이기 때문에 가입자는 운용방법을 선택할 수 없지만 DC형의 경우는 가입자가 직접 운용지시를 해야 하고 그에 따라 본인의 퇴직급여가 늘어나거나 줄어들 수 있음에도 모르는 경우도 많다.특히 현재는 DB형 퇴직연금제도의 가입자가 많지만 임금피크제 도입, DC형 퇴직연금제도 도입 증가 등으로 DC형 비중이 보다 많아질 것으로 예상되면서 퇴직연금 운용에 보다 많은 관심을 기울여야할 것으로 판단된다. DB형 가입자라면 언제 DC형으로 전환하는 것이 유리하며 DC형 가입자라면 어떤 방식으로 운용하는 ', 'content_type': 'text', 'score': 0.6799512795996624, 'meta': {'title': '[고수칼럼] 당신의 퇴직연금, 안녕하십니까', 'subject': '퇴직연금 원금보장'}, 'embedding': None, 'id': '41263cb252fbe01b335d4cb9f8aa13f4'}>,\n",
      "               <Document: {'content': \"[머니투데이 전혜영 기자] [편집자주] '보험, 아는만큼 요긴하다'(보아요)는 머니투데이가 국내 보험 전문가들의 도움을 받아 다양한 보험 정보와 상식을 알려드리는 코너입니다. 알수록 힘이 되는 요긴한 보험이야기, 함께 하시죠.[[전기자와 보아요]]    #. 입사한 지 올해로 10년차가 된 김인준 대리(가명)은 과장 승진을 2달 앞두고 있다. 직장생활을 나름대로 열심히 해왔지만 좀 더 공부를 하고 싶은 마음이 컸던 그는 그동안 남몰래 해외 유학을 준비해 왔다. 최근 드디어 원하던 학교에서 합격 통보를 받고 오는 9월 학기에 맞춰 출국을 해야 한다. 김 대리는 출국까지 시간이 많지 않아 당장 사표를 내려 했지만 주변에서 승진을 하고 그만둬야 퇴직금을 조금이라도 더 받을 수 있다고 해 언제 퇴사를 해야 할지 고민이다. 30년 이상 회사를 다닌 김석진 부장(가명)은 또 다른 고민을 하고 있다. 오는 연말 퇴직을 앞두고 지난달 말에 확인한 그의 퇴직금은 약 2억원이다. 일시금으로 수령하면 \", 'content_type': 'text', 'score': 0.6751997620553398, 'meta': {'title': '퇴직금, 세금은 줄이고 수령액은 늘리는 방법', 'subject': '퇴직연금 수령방법'}, 'embedding': None, 'id': 'a69158bad98a58498c86dbf42f7b8ffe'}>,\n",
      "               <Document: {'content': '국민연금 개혁 연쇄기고 _3    국민연금은 적립기금을 운용해 1988년부터 2021년까지 531조원에 이르는 투자수익금을 얻었다. 이 수익금이 없었다면 후세대의 보험료 부담은 더 늘었을 것이다. <한겨레> 자료사진    [왜냐면] 김연명 | 중앙대 사회복지학부 교수국민연금의 ‘공적 성격’을 이해하지 못하는 일부에서 국민연금에 대해 ‘저주’에 가까운 표현을 쏟아내고 있다. 국민연금 부채가 ‘1.8경을 넘었다’, ‘후세대의 보험료가 40%까지 오른다’ 등 편향된 가정을 전제로 한 논리가 그것이다. 국민연금이 고령화의 짐을 미래세대에게', 'content_type': 'text', 'score': 0.6746803010061821, 'meta': {'title': '국민연금이 세대간 공평성을 저해하는가?', 'subject': '퇴직연금 사망'}, 'embedding': None, 'id': '7753fa963a26a5bfb4eac44c165c99dc'}>,\n",
      "               <Document: {'content': '절세할까, 비과세 혜택받을까… 연금상품 고르는 팁    [GettyImages]Q 2021년도 얼마 안 남았네요. 연말정산을 준비하다 보니 연금상품에 가입하면 소득공제나 세액공제가 된다는 말을 들었습니다. 국민연금은 가입한 상태인데, 별도로 노후를 준비하고 연말정산 혜택도 받는 연금상품이 궁금합니다.A 연말이 다가올수록 연금에 대한 관심도 커집니다. 연금은 5~10년 이상 묻어둔다 생각하고 노후 준비나 장기 저축 목적으로 가입하는 게 좋습니다. 만약 단기나 중기 정도의 자금 운용을 원한다면 은행 예적금 또는 증권사 펀드에 가입하는 ', 'content_type': 'text', 'score': 0.6733729117305262, 'meta': {'title': '연말정산 때마다 고민 “연금상품 가입할까요, 말까요?”', 'subject': '개인연금 중도해지'}, 'embedding': None, 'id': '359adb7074ff8e74144767cecb55962f'}>,\n",
      "               <Document: {'content': '공적연금의 누적된 부실이 심각한 상황에 이르고 있다. 정기국회 국정감사 철이 다가오자 부실과 적자에 대한 정부쪽 답변 자료가 잇달아 나오고 있다. 가입자가 가장 많은 국민연금을 비롯해 공무원연금과 군인연금, 사학연금까지 재정적으로 탄탄한 곳이 없다. 흔히 ‘4대 공적연금’이라고 통틀어 지칭하고는 있지만, 법적 성격은 엄연히 모두 다르다. 먼저 전 국민이 잠재가입자인 국민연금은 공적부조 성격의 사회보험이다. 당분간은 적립금이 쌓여가는 데 2057년 고갈이 예고돼 있다. 전망할 때마다 고갈 시점이 앞당겨진다는 게 문제다. 공무원연금과 ', 'content_type': 'text', 'score': 0.6733729117305262, 'meta': {'title': \"[시사이슈 찬반토론] 누적되는 '4대 공적연금' 적자…국고로 무한지원 해야 하나\", 'subject': '개인연금 노후대비'}, 'embedding': None, 'id': 'b6bebc0a747515d93f8c3271dca16b2f'}>,\n",
      "               <Document: {'content': '보험연구원 보고서…\"연금액 두 번 삭감으로 더 깎기 어려워\"\"퇴직연금 해지 제한 등 사적연금 기능 제고 필요\"    국민연금 (CG)[연합뉴스TV 제공](서울=연합뉴스) 하채림 기자 = 국민연금 기금이 2055∼2057년 고갈될 것이라는 전망이 나오는 가운데 새 정부가 보험료율 상향을 추진할 것이라는 관측이 나왔다.    보험연구원 강성호 선임연구위원은 3일 \\'연금개혁기 사적연금 대응 방향\\' 보고서에서 새 정부의 국민연금 개혁 논의는 보험료율 상향에 초점이 맞춰질 것으로 전망했다.     국민연금은 1998·2007년 두 차례 개혁', 'content_type': 'text', 'score': 0.6720840540638809, 'meta': {'title': '\"새 정부 국민연금개혁 논의, 보험료 인상에 초점 예상\"', 'subject': '퇴직연금 해지'}, 'embedding': None, 'id': '7c44b9de5bf85f863edfd1ef9dea3694'}>],\n",
      " 'node_id': 'Reader',\n",
      " 'params': {'Reader': {'top_k': 1}, 'Retriever': {'top_k': 10}},\n",
      " 'query': '국민연금은 언제 고갈되나요?',\n",
      " 'root_node': 'Query'}\n"
     ]
    }
   ],
   "source": [
    "from pprint import pprint\n",
    "\n",
    "pprint(prediction)"
   ]
  }
 ],
 "metadata": {
  "colab": {
   "collapsed_sections": [],
   "name": "haystack_QAsystem.ipynb",
   "provenance": []
  },
  "kernelspec": {
   "display_name": "Python 3 (ipykernel)",
   "language": "python",
   "name": "python3"
  },
  "language_info": {
   "codemirror_mode": {
    "name": "ipython",
    "version": 3
   },
   "file_extension": ".py",
   "mimetype": "text/x-python",
   "name": "python",
   "nbconvert_exporter": "python",
   "pygments_lexer": "ipython3",
   "version": "3.9.12"
  },
  "widgets": {
   "application/vnd.jupyter.widget-state+json": {
    "066c571ab6a242ffbd306d30a6e8553c": {
     "model_module": "@jupyter-widgets/controls",
     "model_module_version": "1.5.0",
     "model_name": "HTMLModel",
     "state": {
      "_dom_classes": [],
      "_model_module": "@jupyter-widgets/controls",
      "_model_module_version": "1.5.0",
      "_model_name": "HTMLModel",
      "_view_count": null,
      "_view_module": "@jupyter-widgets/controls",
      "_view_module_version": "1.5.0",
      "_view_name": "HTMLView",
      "description": "",
      "description_tooltip": null,
      "layout": "IPY_MODEL_2eaf1d1f03924d40a8ab70aab839b5dd",
      "placeholder": "​",
      "style": "IPY_MODEL_a1bb006d6d264a99b5c46871bf5a1b53",
      "value": " 244/244 [00:00&lt;00:00, 2.88kB/s]"
     }
    },
    "0c2d6ea370124af28b171d39e9602c61": {
     "model_module": "@jupyter-widgets/controls",
     "model_module_version": "1.5.0",
     "model_name": "DescriptionStyleModel",
     "state": {
      "_model_module": "@jupyter-widgets/controls",
      "_model_module_version": "1.5.0",
      "_model_name": "DescriptionStyleModel",
      "_view_count": null,
      "_view_module": "@jupyter-widgets/base",
      "_view_module_version": "1.2.0",
      "_view_name": "StyleView",
      "description_width": ""
     }
    },
    "0f112600221c418ca1b12717ad11a8e1": {
     "model_module": "@jupyter-widgets/controls",
     "model_module_version": "1.5.0",
     "model_name": "HTMLModel",
     "state": {
      "_dom_classes": [],
      "_model_module": "@jupyter-widgets/controls",
      "_model_module_version": "1.5.0",
      "_model_name": "HTMLModel",
      "_view_count": null,
      "_view_module": "@jupyter-widgets/controls",
      "_view_module_version": "1.5.0",
      "_view_name": "HTMLView",
      "description": "",
      "description_tooltip": null,
      "layout": "IPY_MODEL_bbf0a625da334bbb9408c4f753aa24d8",
      "placeholder": "​",
      "style": "IPY_MODEL_5ebc5f5facf34186abb0635ab8e139c3",
      "value": " 432/432 [00:00&lt;00:00, 4.27kB/s]"
     }
    },
    "24dbe76daac14d9dab7c3142f775b39c": {
     "model_module": "@jupyter-widgets/controls",
     "model_module_version": "1.5.0",
     "model_name": "DescriptionStyleModel",
     "state": {
      "_model_module": "@jupyter-widgets/controls",
      "_model_module_version": "1.5.0",
      "_model_name": "DescriptionStyleModel",
      "_view_count": null,
      "_view_module": "@jupyter-widgets/base",
      "_view_module_version": "1.2.0",
      "_view_name": "StyleView",
      "description_width": ""
     }
    },
    "2eaf1d1f03924d40a8ab70aab839b5dd": {
     "model_module": "@jupyter-widgets/base",
     "model_module_version": "1.2.0",
     "model_name": "LayoutModel",
     "state": {
      "_model_module": "@jupyter-widgets/base",
      "_model_module_version": "1.2.0",
      "_model_name": "LayoutModel",
      "_view_count": null,
      "_view_module": "@jupyter-widgets/base",
      "_view_module_version": "1.2.0",
      "_view_name": "LayoutView",
      "align_content": null,
      "align_items": null,
      "align_self": null,
      "border": null,
      "bottom": null,
      "display": null,
      "flex": null,
      "flex_flow": null,
      "grid_area": null,
      "grid_auto_columns": null,
      "grid_auto_flow": null,
      "grid_auto_rows": null,
      "grid_column": null,
      "grid_gap": null,
      "grid_row": null,
      "grid_template_areas": null,
      "grid_template_columns": null,
      "grid_template_rows": null,
      "height": null,
      "justify_content": null,
      "justify_items": null,
      "left": null,
      "margin": null,
      "max_height": null,
      "max_width": null,
      "min_height": null,
      "min_width": null,
      "object_fit": null,
      "object_position": null,
      "order": null,
      "overflow": null,
      "overflow_x": null,
      "overflow_y": null,
      "padding": null,
      "right": null,
      "top": null,
      "visibility": null,
      "width": null
     }
    },
    "3d3936c003c644a2a813f482089e74cb": {
     "model_module": "@jupyter-widgets/controls",
     "model_module_version": "1.5.0",
     "model_name": "DescriptionStyleModel",
     "state": {
      "_model_module": "@jupyter-widgets/controls",
      "_model_module_version": "1.5.0",
      "_model_name": "DescriptionStyleModel",
      "_view_count": null,
      "_view_module": "@jupyter-widgets/base",
      "_view_module_version": "1.2.0",
      "_view_name": "StyleView",
      "description_width": ""
     }
    },
    "41548d269de149069b8f22f7cfbeaca3": {
     "model_module": "@jupyter-widgets/controls",
     "model_module_version": "1.5.0",
     "model_name": "DescriptionStyleModel",
     "state": {
      "_model_module": "@jupyter-widgets/controls",
      "_model_module_version": "1.5.0",
      "_model_name": "DescriptionStyleModel",
      "_view_count": null,
      "_view_module": "@jupyter-widgets/base",
      "_view_module_version": "1.2.0",
      "_view_name": "StyleView",
      "description_width": ""
     }
    },
    "491e00c8ecce42b28a55043bf1a6343e": {
     "model_module": "@jupyter-widgets/controls",
     "model_module_version": "1.5.0",
     "model_name": "HBoxModel",
     "state": {
      "_dom_classes": [],
      "_model_module": "@jupyter-widgets/controls",
      "_model_module_version": "1.5.0",
      "_model_name": "HBoxModel",
      "_view_count": null,
      "_view_module": "@jupyter-widgets/controls",
      "_view_module_version": "1.5.0",
      "_view_name": "HBoxView",
      "box_style": "",
      "children": [
       "IPY_MODEL_c69d0d8384784af4ad2b37674b134ed6",
       "IPY_MODEL_a9954c47ea574b0984755be28825d917",
       "IPY_MODEL_066c571ab6a242ffbd306d30a6e8553c"
      ],
      "layout": "IPY_MODEL_7a2bb8af0c5949d7993935497ded39f4"
     }
    },
    "4c8d9cbd1f6845a2b53833c70978699b": {
     "model_module": "@jupyter-widgets/controls",
     "model_module_version": "1.5.0",
     "model_name": "HBoxModel",
     "state": {
      "_dom_classes": [],
      "_model_module": "@jupyter-widgets/controls",
      "_model_module_version": "1.5.0",
      "_model_name": "HBoxModel",
      "_view_count": null,
      "_view_module": "@jupyter-widgets/controls",
      "_view_module_version": "1.5.0",
      "_view_name": "HBoxView",
      "box_style": "",
      "children": [
       "IPY_MODEL_f4e2f7cbf0244ef0b27d26f9c504ab75",
       "IPY_MODEL_ed074e8487a5431c9c7d8958255faecb",
       "IPY_MODEL_0f112600221c418ca1b12717ad11a8e1"
      ],
      "layout": "IPY_MODEL_8a95356666a84657bbea3efc4a784e97"
     }
    },
    "4d31d686c2d7485abdaf470820445320": {
     "model_module": "@jupyter-widgets/controls",
     "model_module_version": "1.5.0",
     "model_name": "ProgressStyleModel",
     "state": {
      "_model_module": "@jupyter-widgets/controls",
      "_model_module_version": "1.5.0",
      "_model_name": "ProgressStyleModel",
      "_view_count": null,
      "_view_module": "@jupyter-widgets/base",
      "_view_module_version": "1.2.0",
      "_view_name": "StyleView",
      "bar_color": null,
      "description_width": ""
     }
    },
    "4ddd08c1fb954345a2239c95a815122f": {
     "model_module": "@jupyter-widgets/base",
     "model_module_version": "1.2.0",
     "model_name": "LayoutModel",
     "state": {
      "_model_module": "@jupyter-widgets/base",
      "_model_module_version": "1.2.0",
      "_model_name": "LayoutModel",
      "_view_count": null,
      "_view_module": "@jupyter-widgets/base",
      "_view_module_version": "1.2.0",
      "_view_name": "LayoutView",
      "align_content": null,
      "align_items": null,
      "align_self": null,
      "border": null,
      "bottom": null,
      "display": null,
      "flex": null,
      "flex_flow": null,
      "grid_area": null,
      "grid_auto_columns": null,
      "grid_auto_flow": null,
      "grid_auto_rows": null,
      "grid_column": null,
      "grid_gap": null,
      "grid_row": null,
      "grid_template_areas": null,
      "grid_template_columns": null,
      "grid_template_rows": null,
      "height": null,
      "justify_content": null,
      "justify_items": null,
      "left": null,
      "margin": null,
      "max_height": null,
      "max_width": null,
      "min_height": null,
      "min_width": null,
      "object_fit": null,
      "object_position": null,
      "order": null,
      "overflow": null,
      "overflow_x": null,
      "overflow_y": null,
      "padding": null,
      "right": null,
      "top": null,
      "visibility": null,
      "width": null
     }
    },
    "5ebc5f5facf34186abb0635ab8e139c3": {
     "model_module": "@jupyter-widgets/controls",
     "model_module_version": "1.5.0",
     "model_name": "DescriptionStyleModel",
     "state": {
      "_model_module": "@jupyter-widgets/controls",
      "_model_module_version": "1.5.0",
      "_model_name": "DescriptionStyleModel",
      "_view_count": null,
      "_view_module": "@jupyter-widgets/base",
      "_view_module_version": "1.2.0",
      "_view_name": "StyleView",
      "description_width": ""
     }
    },
    "72d37fbfbdc5474aaf06ca9fded88af7": {
     "model_module": "@jupyter-widgets/base",
     "model_module_version": "1.2.0",
     "model_name": "LayoutModel",
     "state": {
      "_model_module": "@jupyter-widgets/base",
      "_model_module_version": "1.2.0",
      "_model_name": "LayoutModel",
      "_view_count": null,
      "_view_module": "@jupyter-widgets/base",
      "_view_module_version": "1.2.0",
      "_view_name": "LayoutView",
      "align_content": null,
      "align_items": null,
      "align_self": null,
      "border": null,
      "bottom": null,
      "display": null,
      "flex": null,
      "flex_flow": null,
      "grid_area": null,
      "grid_auto_columns": null,
      "grid_auto_flow": null,
      "grid_auto_rows": null,
      "grid_column": null,
      "grid_gap": null,
      "grid_row": null,
      "grid_template_areas": null,
      "grid_template_columns": null,
      "grid_template_rows": null,
      "height": null,
      "justify_content": null,
      "justify_items": null,
      "left": null,
      "margin": null,
      "max_height": null,
      "max_width": null,
      "min_height": null,
      "min_width": null,
      "object_fit": null,
      "object_position": null,
      "order": null,
      "overflow": null,
      "overflow_x": null,
      "overflow_y": null,
      "padding": null,
      "right": null,
      "top": null,
      "visibility": null,
      "width": null
     }
    },
    "754cb244fb0e47e99173570141c4b66b": {
     "model_module": "@jupyter-widgets/base",
     "model_module_version": "1.2.0",
     "model_name": "LayoutModel",
     "state": {
      "_model_module": "@jupyter-widgets/base",
      "_model_module_version": "1.2.0",
      "_model_name": "LayoutModel",
      "_view_count": null,
      "_view_module": "@jupyter-widgets/base",
      "_view_module_version": "1.2.0",
      "_view_name": "LayoutView",
      "align_content": null,
      "align_items": null,
      "align_self": null,
      "border": null,
      "bottom": null,
      "display": null,
      "flex": null,
      "flex_flow": null,
      "grid_area": null,
      "grid_auto_columns": null,
      "grid_auto_flow": null,
      "grid_auto_rows": null,
      "grid_column": null,
      "grid_gap": null,
      "grid_row": null,
      "grid_template_areas": null,
      "grid_template_columns": null,
      "grid_template_rows": null,
      "height": null,
      "justify_content": null,
      "justify_items": null,
      "left": null,
      "margin": null,
      "max_height": null,
      "max_width": null,
      "min_height": null,
      "min_width": null,
      "object_fit": null,
      "object_position": null,
      "order": null,
      "overflow": null,
      "overflow_x": null,
      "overflow_y": null,
      "padding": null,
      "right": null,
      "top": null,
      "visibility": null,
      "width": null
     }
    },
    "7a2bb8af0c5949d7993935497ded39f4": {
     "model_module": "@jupyter-widgets/base",
     "model_module_version": "1.2.0",
     "model_name": "LayoutModel",
     "state": {
      "_model_module": "@jupyter-widgets/base",
      "_model_module_version": "1.2.0",
      "_model_name": "LayoutModel",
      "_view_count": null,
      "_view_module": "@jupyter-widgets/base",
      "_view_module_version": "1.2.0",
      "_view_name": "LayoutView",
      "align_content": null,
      "align_items": null,
      "align_self": null,
      "border": null,
      "bottom": null,
      "display": null,
      "flex": null,
      "flex_flow": null,
      "grid_area": null,
      "grid_auto_columns": null,
      "grid_auto_flow": null,
      "grid_auto_rows": null,
      "grid_column": null,
      "grid_gap": null,
      "grid_row": null,
      "grid_template_areas": null,
      "grid_template_columns": null,
      "grid_template_rows": null,
      "height": null,
      "justify_content": null,
      "justify_items": null,
      "left": null,
      "margin": null,
      "max_height": null,
      "max_width": null,
      "min_height": null,
      "min_width": null,
      "object_fit": null,
      "object_position": null,
      "order": null,
      "overflow": null,
      "overflow_x": null,
      "overflow_y": null,
      "padding": null,
      "right": null,
      "top": null,
      "visibility": null,
      "width": null
     }
    },
    "81de3df726214b1db248569f2446ec2b": {
     "model_module": "@jupyter-widgets/controls",
     "model_module_version": "1.5.0",
     "model_name": "FloatProgressModel",
     "state": {
      "_dom_classes": [],
      "_model_module": "@jupyter-widgets/controls",
      "_model_module_version": "1.5.0",
      "_model_name": "FloatProgressModel",
      "_view_count": null,
      "_view_module": "@jupyter-widgets/controls",
      "_view_module_version": "1.5.0",
      "_view_name": "ProgressView",
      "bar_style": "success",
      "description": "",
      "description_tooltip": null,
      "layout": "IPY_MODEL_f982a086c51c49138eea061b562db599",
      "max": 371427,
      "min": 0,
      "orientation": "horizontal",
      "style": "IPY_MODEL_c79e151e39af44338315d239762c8b6a",
      "value": 371427
     }
    },
    "8a95356666a84657bbea3efc4a784e97": {
     "model_module": "@jupyter-widgets/base",
     "model_module_version": "1.2.0",
     "model_name": "LayoutModel",
     "state": {
      "_model_module": "@jupyter-widgets/base",
      "_model_module_version": "1.2.0",
      "_model_name": "LayoutModel",
      "_view_count": null,
      "_view_module": "@jupyter-widgets/base",
      "_view_module_version": "1.2.0",
      "_view_name": "LayoutView",
      "align_content": null,
      "align_items": null,
      "align_self": null,
      "border": null,
      "bottom": null,
      "display": null,
      "flex": null,
      "flex_flow": null,
      "grid_area": null,
      "grid_auto_columns": null,
      "grid_auto_flow": null,
      "grid_auto_rows": null,
      "grid_column": null,
      "grid_gap": null,
      "grid_row": null,
      "grid_template_areas": null,
      "grid_template_columns": null,
      "grid_template_rows": null,
      "height": null,
      "justify_content": null,
      "justify_items": null,
      "left": null,
      "margin": null,
      "max_height": null,
      "max_width": null,
      "min_height": null,
      "min_width": null,
      "object_fit": null,
      "object_position": null,
      "order": null,
      "overflow": null,
      "overflow_x": null,
      "overflow_y": null,
      "padding": null,
      "right": null,
      "top": null,
      "visibility": null,
      "width": null
     }
    },
    "9603fdbc91304aaa851bb0c3dfeefb63": {
     "model_module": "@jupyter-widgets/controls",
     "model_module_version": "1.5.0",
     "model_name": "HTMLModel",
     "state": {
      "_dom_classes": [],
      "_model_module": "@jupyter-widgets/controls",
      "_model_module_version": "1.5.0",
      "_model_name": "HTMLModel",
      "_view_count": null,
      "_view_module": "@jupyter-widgets/controls",
      "_view_module_version": "1.5.0",
      "_view_name": "HTMLView",
      "description": "",
      "description_tooltip": null,
      "layout": "IPY_MODEL_f976687d3cf349adb6801b71786c016f",
      "placeholder": "​",
      "style": "IPY_MODEL_24dbe76daac14d9dab7c3142f775b39c",
      "value": " 363k/363k [00:00&lt;00:00, 8.79kB/s]"
     }
    },
    "a1bb006d6d264a99b5c46871bf5a1b53": {
     "model_module": "@jupyter-widgets/controls",
     "model_module_version": "1.5.0",
     "model_name": "DescriptionStyleModel",
     "state": {
      "_model_module": "@jupyter-widgets/controls",
      "_model_module_version": "1.5.0",
      "_model_name": "DescriptionStyleModel",
      "_view_count": null,
      "_view_module": "@jupyter-widgets/base",
      "_view_module_version": "1.2.0",
      "_view_name": "StyleView",
      "description_width": ""
     }
    },
    "a4cb13a149984597960a0b84af11dede": {
     "model_module": "@jupyter-widgets/controls",
     "model_module_version": "1.5.0",
     "model_name": "ProgressStyleModel",
     "state": {
      "_model_module": "@jupyter-widgets/controls",
      "_model_module_version": "1.5.0",
      "_model_name": "ProgressStyleModel",
      "_view_count": null,
      "_view_module": "@jupyter-widgets/base",
      "_view_module_version": "1.2.0",
      "_view_name": "StyleView",
      "bar_color": null,
      "description_width": ""
     }
    },
    "a778ec076557499ba9d462f91901327e": {
     "model_module": "@jupyter-widgets/base",
     "model_module_version": "1.2.0",
     "model_name": "LayoutModel",
     "state": {
      "_model_module": "@jupyter-widgets/base",
      "_model_module_version": "1.2.0",
      "_model_name": "LayoutModel",
      "_view_count": null,
      "_view_module": "@jupyter-widgets/base",
      "_view_module_version": "1.2.0",
      "_view_name": "LayoutView",
      "align_content": null,
      "align_items": null,
      "align_self": null,
      "border": null,
      "bottom": null,
      "display": null,
      "flex": null,
      "flex_flow": null,
      "grid_area": null,
      "grid_auto_columns": null,
      "grid_auto_flow": null,
      "grid_auto_rows": null,
      "grid_column": null,
      "grid_gap": null,
      "grid_row": null,
      "grid_template_areas": null,
      "grid_template_columns": null,
      "grid_template_rows": null,
      "height": null,
      "justify_content": null,
      "justify_items": null,
      "left": null,
      "margin": null,
      "max_height": null,
      "max_width": null,
      "min_height": null,
      "min_width": null,
      "object_fit": null,
      "object_position": null,
      "order": null,
      "overflow": null,
      "overflow_x": null,
      "overflow_y": null,
      "padding": null,
      "right": null,
      "top": null,
      "visibility": null,
      "width": null
     }
    },
    "a9954c47ea574b0984755be28825d917": {
     "model_module": "@jupyter-widgets/controls",
     "model_module_version": "1.5.0",
     "model_name": "FloatProgressModel",
     "state": {
      "_dom_classes": [],
      "_model_module": "@jupyter-widgets/controls",
      "_model_module_version": "1.5.0",
      "_model_name": "FloatProgressModel",
      "_view_count": null,
      "_view_module": "@jupyter-widgets/controls",
      "_view_module_version": "1.5.0",
      "_view_name": "ProgressView",
      "bar_style": "success",
      "description": "",
      "description_tooltip": null,
      "layout": "IPY_MODEL_72d37fbfbdc5474aaf06ca9fded88af7",
      "max": 244,
      "min": 0,
      "orientation": "horizontal",
      "style": "IPY_MODEL_a4cb13a149984597960a0b84af11dede",
      "value": 244
     }
    },
    "bbf0a625da334bbb9408c4f753aa24d8": {
     "model_module": "@jupyter-widgets/base",
     "model_module_version": "1.2.0",
     "model_name": "LayoutModel",
     "state": {
      "_model_module": "@jupyter-widgets/base",
      "_model_module_version": "1.2.0",
      "_model_name": "LayoutModel",
      "_view_count": null,
      "_view_module": "@jupyter-widgets/base",
      "_view_module_version": "1.2.0",
      "_view_name": "LayoutView",
      "align_content": null,
      "align_items": null,
      "align_self": null,
      "border": null,
      "bottom": null,
      "display": null,
      "flex": null,
      "flex_flow": null,
      "grid_area": null,
      "grid_auto_columns": null,
      "grid_auto_flow": null,
      "grid_auto_rows": null,
      "grid_column": null,
      "grid_gap": null,
      "grid_row": null,
      "grid_template_areas": null,
      "grid_template_columns": null,
      "grid_template_rows": null,
      "height": null,
      "justify_content": null,
      "justify_items": null,
      "left": null,
      "margin": null,
      "max_height": null,
      "max_width": null,
      "min_height": null,
      "min_width": null,
      "object_fit": null,
      "object_position": null,
      "order": null,
      "overflow": null,
      "overflow_x": null,
      "overflow_y": null,
      "padding": null,
      "right": null,
      "top": null,
      "visibility": null,
      "width": null
     }
    },
    "c69d0d8384784af4ad2b37674b134ed6": {
     "model_module": "@jupyter-widgets/controls",
     "model_module_version": "1.5.0",
     "model_name": "HTMLModel",
     "state": {
      "_dom_classes": [],
      "_model_module": "@jupyter-widgets/controls",
      "_model_module_version": "1.5.0",
      "_model_name": "HTMLModel",
      "_view_count": null,
      "_view_module": "@jupyter-widgets/controls",
      "_view_module_version": "1.5.0",
      "_view_name": "HTMLView",
      "description": "",
      "description_tooltip": null,
      "layout": "IPY_MODEL_f1da80254bf042a5b7995f50df985679",
      "placeholder": "​",
      "style": "IPY_MODEL_0c2d6ea370124af28b171d39e9602c61",
      "value": "Downloading: 100%"
     }
    },
    "c79e151e39af44338315d239762c8b6a": {
     "model_module": "@jupyter-widgets/controls",
     "model_module_version": "1.5.0",
     "model_name": "ProgressStyleModel",
     "state": {
      "_model_module": "@jupyter-widgets/controls",
      "_model_module_version": "1.5.0",
      "_model_name": "ProgressStyleModel",
      "_view_count": null,
      "_view_module": "@jupyter-widgets/base",
      "_view_module_version": "1.2.0",
      "_view_name": "StyleView",
      "bar_color": null,
      "description_width": ""
     }
    },
    "e05d66da717c4b13a6abf67701179a8d": {
     "model_module": "@jupyter-widgets/controls",
     "model_module_version": "1.5.0",
     "model_name": "HTMLModel",
     "state": {
      "_dom_classes": [],
      "_model_module": "@jupyter-widgets/controls",
      "_model_module_version": "1.5.0",
      "_model_name": "HTMLModel",
      "_view_count": null,
      "_view_module": "@jupyter-widgets/controls",
      "_view_module_version": "1.5.0",
      "_view_name": "HTMLView",
      "description": "",
      "description_tooltip": null,
      "layout": "IPY_MODEL_e6fab47440dd40598f7355e2271c6d58",
      "placeholder": "​",
      "style": "IPY_MODEL_3d3936c003c644a2a813f482089e74cb",
      "value": "Downloading: 100%"
     }
    },
    "e0736f55782d4a9e992646b914aca9d4": {
     "model_module": "@jupyter-widgets/controls",
     "model_module_version": "1.5.0",
     "model_name": "HBoxModel",
     "state": {
      "_dom_classes": [],
      "_model_module": "@jupyter-widgets/controls",
      "_model_module_version": "1.5.0",
      "_model_name": "HBoxModel",
      "_view_count": null,
      "_view_module": "@jupyter-widgets/controls",
      "_view_module_version": "1.5.0",
      "_view_name": "HBoxView",
      "box_style": "",
      "children": [
       "IPY_MODEL_e05d66da717c4b13a6abf67701179a8d",
       "IPY_MODEL_81de3df726214b1db248569f2446ec2b",
       "IPY_MODEL_9603fdbc91304aaa851bb0c3dfeefb63"
      ],
      "layout": "IPY_MODEL_754cb244fb0e47e99173570141c4b66b"
     }
    },
    "e6fab47440dd40598f7355e2271c6d58": {
     "model_module": "@jupyter-widgets/base",
     "model_module_version": "1.2.0",
     "model_name": "LayoutModel",
     "state": {
      "_model_module": "@jupyter-widgets/base",
      "_model_module_version": "1.2.0",
      "_model_name": "LayoutModel",
      "_view_count": null,
      "_view_module": "@jupyter-widgets/base",
      "_view_module_version": "1.2.0",
      "_view_name": "LayoutView",
      "align_content": null,
      "align_items": null,
      "align_self": null,
      "border": null,
      "bottom": null,
      "display": null,
      "flex": null,
      "flex_flow": null,
      "grid_area": null,
      "grid_auto_columns": null,
      "grid_auto_flow": null,
      "grid_auto_rows": null,
      "grid_column": null,
      "grid_gap": null,
      "grid_row": null,
      "grid_template_areas": null,
      "grid_template_columns": null,
      "grid_template_rows": null,
      "height": null,
      "justify_content": null,
      "justify_items": null,
      "left": null,
      "margin": null,
      "max_height": null,
      "max_width": null,
      "min_height": null,
      "min_width": null,
      "object_fit": null,
      "object_position": null,
      "order": null,
      "overflow": null,
      "overflow_x": null,
      "overflow_y": null,
      "padding": null,
      "right": null,
      "top": null,
      "visibility": null,
      "width": null
     }
    },
    "ed074e8487a5431c9c7d8958255faecb": {
     "model_module": "@jupyter-widgets/controls",
     "model_module_version": "1.5.0",
     "model_name": "FloatProgressModel",
     "state": {
      "_dom_classes": [],
      "_model_module": "@jupyter-widgets/controls",
      "_model_module_version": "1.5.0",
      "_model_name": "FloatProgressModel",
      "_view_count": null,
      "_view_module": "@jupyter-widgets/controls",
      "_view_module_version": "1.5.0",
      "_view_name": "ProgressView",
      "bar_style": "success",
      "description": "",
      "description_tooltip": null,
      "layout": "IPY_MODEL_a778ec076557499ba9d462f91901327e",
      "max": 432,
      "min": 0,
      "orientation": "horizontal",
      "style": "IPY_MODEL_4d31d686c2d7485abdaf470820445320",
      "value": 432
     }
    },
    "f1da80254bf042a5b7995f50df985679": {
     "model_module": "@jupyter-widgets/base",
     "model_module_version": "1.2.0",
     "model_name": "LayoutModel",
     "state": {
      "_model_module": "@jupyter-widgets/base",
      "_model_module_version": "1.2.0",
      "_model_name": "LayoutModel",
      "_view_count": null,
      "_view_module": "@jupyter-widgets/base",
      "_view_module_version": "1.2.0",
      "_view_name": "LayoutView",
      "align_content": null,
      "align_items": null,
      "align_self": null,
      "border": null,
      "bottom": null,
      "display": null,
      "flex": null,
      "flex_flow": null,
      "grid_area": null,
      "grid_auto_columns": null,
      "grid_auto_flow": null,
      "grid_auto_rows": null,
      "grid_column": null,
      "grid_gap": null,
      "grid_row": null,
      "grid_template_areas": null,
      "grid_template_columns": null,
      "grid_template_rows": null,
      "height": null,
      "justify_content": null,
      "justify_items": null,
      "left": null,
      "margin": null,
      "max_height": null,
      "max_width": null,
      "min_height": null,
      "min_width": null,
      "object_fit": null,
      "object_position": null,
      "order": null,
      "overflow": null,
      "overflow_x": null,
      "overflow_y": null,
      "padding": null,
      "right": null,
      "top": null,
      "visibility": null,
      "width": null
     }
    },
    "f4e2f7cbf0244ef0b27d26f9c504ab75": {
     "model_module": "@jupyter-widgets/controls",
     "model_module_version": "1.5.0",
     "model_name": "HTMLModel",
     "state": {
      "_dom_classes": [],
      "_model_module": "@jupyter-widgets/controls",
      "_model_module_version": "1.5.0",
      "_model_name": "HTMLModel",
      "_view_count": null,
      "_view_module": "@jupyter-widgets/controls",
      "_view_module_version": "1.5.0",
      "_view_name": "HTMLView",
      "description": "",
      "description_tooltip": null,
      "layout": "IPY_MODEL_4ddd08c1fb954345a2239c95a815122f",
      "placeholder": "​",
      "style": "IPY_MODEL_41548d269de149069b8f22f7cfbeaca3",
      "value": "Downloading: 100%"
     }
    },
    "f976687d3cf349adb6801b71786c016f": {
     "model_module": "@jupyter-widgets/base",
     "model_module_version": "1.2.0",
     "model_name": "LayoutModel",
     "state": {
      "_model_module": "@jupyter-widgets/base",
      "_model_module_version": "1.2.0",
      "_model_name": "LayoutModel",
      "_view_count": null,
      "_view_module": "@jupyter-widgets/base",
      "_view_module_version": "1.2.0",
      "_view_name": "LayoutView",
      "align_content": null,
      "align_items": null,
      "align_self": null,
      "border": null,
      "bottom": null,
      "display": null,
      "flex": null,
      "flex_flow": null,
      "grid_area": null,
      "grid_auto_columns": null,
      "grid_auto_flow": null,
      "grid_auto_rows": null,
      "grid_column": null,
      "grid_gap": null,
      "grid_row": null,
      "grid_template_areas": null,
      "grid_template_columns": null,
      "grid_template_rows": null,
      "height": null,
      "justify_content": null,
      "justify_items": null,
      "left": null,
      "margin": null,
      "max_height": null,
      "max_width": null,
      "min_height": null,
      "min_width": null,
      "object_fit": null,
      "object_position": null,
      "order": null,
      "overflow": null,
      "overflow_x": null,
      "overflow_y": null,
      "padding": null,
      "right": null,
      "top": null,
      "visibility": null,
      "width": null
     }
    },
    "f982a086c51c49138eea061b562db599": {
     "model_module": "@jupyter-widgets/base",
     "model_module_version": "1.2.0",
     "model_name": "LayoutModel",
     "state": {
      "_model_module": "@jupyter-widgets/base",
      "_model_module_version": "1.2.0",
      "_model_name": "LayoutModel",
      "_view_count": null,
      "_view_module": "@jupyter-widgets/base",
      "_view_module_version": "1.2.0",
      "_view_name": "LayoutView",
      "align_content": null,
      "align_items": null,
      "align_self": null,
      "border": null,
      "bottom": null,
      "display": null,
      "flex": null,
      "flex_flow": null,
      "grid_area": null,
      "grid_auto_columns": null,
      "grid_auto_flow": null,
      "grid_auto_rows": null,
      "grid_column": null,
      "grid_gap": null,
      "grid_row": null,
      "grid_template_areas": null,
      "grid_template_columns": null,
      "grid_template_rows": null,
      "height": null,
      "justify_content": null,
      "justify_items": null,
      "left": null,
      "margin": null,
      "max_height": null,
      "max_width": null,
      "min_height": null,
      "min_width": null,
      "object_fit": null,
      "object_position": null,
      "order": null,
      "overflow": null,
      "overflow_x": null,
      "overflow_y": null,
      "padding": null,
      "right": null,
      "top": null,
      "visibility": null,
      "width": null
     }
    }
   }
  }
 },
 "nbformat": 4,
 "nbformat_minor": 1
}
