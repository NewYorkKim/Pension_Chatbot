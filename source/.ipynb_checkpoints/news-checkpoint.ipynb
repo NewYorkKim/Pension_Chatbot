{
 "cells": [
  {
   "cell_type": "code",
   "execution_count": 25,
   "id": "acef4c1d",
   "metadata": {
    "scrolled": true
   },
   "outputs": [],
   "source": [
    "import pandas as pd\n",
    "import numpy as np\n",
    "import requests\n",
    "from bs4 import BeautifulSoup\n",
    "from datetime import datetime\n",
    "from dateutil.relativedelta import relativedelta"
   ]
  },
  {
   "cell_type": "code",
   "execution_count": 26,
   "id": "62ee24e0",
   "metadata": {
    "scrolled": true
   },
   "outputs": [
    {
     "data": {
      "text/plain": [
       "datetime.datetime(2022, 5, 13, 10, 17, 44, 842671)"
      ]
     },
     "execution_count": 26,
     "metadata": {},
     "output_type": "execute_result"
    }
   ],
   "source": [
    "datetime.today() "
   ]
  },
  {
   "cell_type": "code",
   "execution_count": 30,
   "id": "4f6e7e3f",
   "metadata": {},
   "outputs": [
    {
     "data": {
      "text/plain": [
       "('2022.05.13', '2021.05.13')"
      ]
     },
     "execution_count": 30,
     "metadata": {},
     "output_type": "execute_result"
    }
   ],
   "source": [
    "now = datetime.today()\n",
    "last = now - relativedelta(years=1)\n",
    "\n",
    "now = now.strftime('%Y.%m.%d')\n",
    "last = last.strftime('%Y.%m.%d')\n",
    "\n",
    "now, last"
   ]
  },
  {
   "cell_type": "code",
   "execution_count": 61,
   "id": "c42955a3",
   "metadata": {
    "scrolled": false
   },
   "outputs": [
    {
     "data": {
      "text/plain": [
       "(21, 21, 21)"
      ]
     },
     "execution_count": 61,
     "metadata": {},
     "output_type": "execute_result"
    }
   ],
   "source": [
    "# sample\n",
    "\n",
    "title_list = []\n",
    "article_list = []\n",
    "# link_list = []\n",
    "sub_list = []\n",
    "\n",
    "subject = '개인연금'\n",
    "start = 1\n",
    "\n",
    "headers = {\"User-Agent\": \"Mozilla/5.0 (Windows NT 10.0; Win64; x64) Chrome/98.0.4758.102\"}\n",
    "url = f'https://search.naver.com/search.naver?where=news&sm=tab_pge&query={subject}&sort=0&photo=0&field=0&pd=5&ds={last}&de={now}&cluster_rank=51&mynews=0&office_type=0&office_section_code=0&news_office_checked=&nso=so:r,p:1y,a:all&start={start}'\n",
    "\n",
    "res = requests.get(url)\n",
    "res.raise_for_status()\n",
    "\n",
    "soup = BeautifulSoup(res.text, 'lxml')\n",
    "\n",
    "ul = soup.find('ul', {'class': 'list_news'})\n",
    "links = ul.find_all('a', {'class': 'info'})\n",
    "\n",
    "for link in links:    \n",
    "    if '네이버' in link.text:\n",
    "        url_a = link['href']\n",
    "        res_a = requests.get(url_a, headers=headers)\n",
    "        soup_a = BeautifulSoup(res_a.text, 'lxml')\n",
    "        title = soup_a.find('h2', {'class': 'media_end_head_headline'})\n",
    "        article = soup_a.find('div', {'class': 'newsct_article'})\n",
    "        article = article.text.replace('\\t\\t', '\\n\\n').split('\\n\\n')\n",
    "        for p in article:\n",
    "            p = p.replace('\\n', ' ').replace('\\t', '').replace('\\xa0', ' ').strip()\n",
    "            if len(p) < 5:\n",
    "                continue\n",
    "            else:\n",
    "                title_list.append(title_list)\n",
    "                article_list.append(p)\n",
    "                sub_list.append(subject)\n",
    "\n",
    "len(title_list), len(article_list), len(sub_list)"
   ]
  },
  {
   "cell_type": "code",
   "execution_count": 78,
   "id": "7d0966e9",
   "metadata": {},
   "outputs": [
    {
     "data": {
      "text/plain": [
       "['\"개인연금\"',\n",
       " '\"퇴직연금\"',\n",
       " '\"개인연금\" +ETF',\n",
       " '\"개인연금\" +IRP',\n",
       " '\"개인연금\" +연금저축',\n",
       " '\"개인연금\" +연금상품',\n",
       " '\"개인연금\" +증권',\n",
       " '\"개인연금\" +수익률',\n",
       " '\"개인연금\" +수령',\n",
       " '\"개인연금\" +납입',\n",
       " '\"개인연금\" +한도',\n",
       " '\"개인연금\" +이전',\n",
       " '\"개인연금\" +사망',\n",
       " '\"개인연금\" +노후',\n",
       " '\"개인연금\" +출금',\n",
       " '\"개인연금\" +세제',\n",
       " '\"개인연금\" +연령',\n",
       " '\"개인연금\" +세대',\n",
       " '\"개인연금\" +2030',\n",
       " '\"개인연금\" +국민연금',\n",
       " '\"개인연금\" +연금개혁',\n",
       " '\"개인연금\" +운용',\n",
       " '\"개인연금\" +펀드',\n",
       " '\"개인연금\" +종목',\n",
       " '\"개인연금\" +가입',\n",
       " '\"개인연금\" +수수료',\n",
       " '\"개인연금\" +가입서류',\n",
       " '\"개인연금\" +연금계좌',\n",
       " '\"개인연금\" +원금보장',\n",
       " '\"개인연금\" +비교',\n",
       " '\"개인연금\" +해지',\n",
       " '\"퇴직연금\" +ETF',\n",
       " '\"퇴직연금\" +IRP',\n",
       " '\"퇴직연금\" +연금저축',\n",
       " '\"퇴직연금\" +연금상품',\n",
       " '\"퇴직연금\" +증권',\n",
       " '\"퇴직연금\" +수익률',\n",
       " '\"퇴직연금\" +수령',\n",
       " '\"퇴직연금\" +납입',\n",
       " '\"퇴직연금\" +한도',\n",
       " '\"퇴직연금\" +이전',\n",
       " '\"퇴직연금\" +사망',\n",
       " '\"퇴직연금\" +노후',\n",
       " '\"퇴직연금\" +출금',\n",
       " '\"퇴직연금\" +세제',\n",
       " '\"퇴직연금\" +연령',\n",
       " '\"퇴직연금\" +세대',\n",
       " '\"퇴직연금\" +2030',\n",
       " '\"퇴직연금\" +국민연금',\n",
       " '\"퇴직연금\" +연금개혁',\n",
       " '\"퇴직연금\" +운용',\n",
       " '\"퇴직연금\" +펀드',\n",
       " '\"퇴직연금\" +종목',\n",
       " '\"퇴직연금\" +가입',\n",
       " '\"퇴직연금\" +수수료',\n",
       " '\"퇴직연금\" +가입서류',\n",
       " '\"퇴직연금\" +연금계좌',\n",
       " '\"퇴직연금\" +원금보장',\n",
       " '\"퇴직연금\" +비교',\n",
       " '\"퇴직연금\" +해지']"
      ]
     },
     "execution_count": 78,
     "metadata": {},
     "output_type": "execute_result"
    }
   ],
   "source": [
    "search = ['ETF', 'IRP', '연금저축', '연금상품',\n",
    "          '증권', '수익률', '수령', '납입', '한도',\n",
    "          '이전', '사망', '노후', '출금', '세제',\n",
    "          '연령', '세대', '2030', \n",
    "          '국민연금', '연금개혁', '운용', '펀드',\n",
    "          '종목', '가입', '수수료', '가입서류', '연금계좌',\n",
    "          '원금보장', '비교', '해지']\n",
    "\n",
    "base = ['\"개인연금\"', '\"퇴직연금\"']\n",
    "subjects = base + [f'{b} +'+s for b in base for s in search]\n",
    "subjects"
   ]
  },
  {
   "cell_type": "code",
   "execution_count": 79,
   "id": "38ef8c74",
   "metadata": {},
   "outputs": [
    {
     "data": {
      "text/plain": [
       "'퇴직연금 해지'"
      ]
     },
     "execution_count": 79,
     "metadata": {},
     "output_type": "execute_result"
    }
   ],
   "source": [
    "''.join(subjects[-1].replace('\"', '').split('+'))"
   ]
  },
  {
   "cell_type": "code",
   "execution_count": 80,
   "id": "c7bae2d8",
   "metadata": {
    "scrolled": true
   },
   "outputs": [
    {
     "name": "stdout",
     "output_type": "stream",
     "text": [
      "\"개인연금\" is done!\n",
      "\"퇴직연금\" is done!\n",
      "\"개인연금\" +ETF is done!\n",
      "\"개인연금\" +IRP is done!\n",
      "\"개인연금\" +연금저축 is done!\n",
      "\"개인연금\" +연금상품 is done!\n",
      "\"개인연금\" +증권 is done!\n",
      "\"개인연금\" +수익률 is done!\n",
      "\"개인연금\" +수령 is done!\n",
      "\"개인연금\" +납입 is done!\n",
      "\"개인연금\" +한도 is done!\n",
      "\"개인연금\" +이전 is done!\n",
      "\"개인연금\" +사망 is done!\n",
      "\"개인연금\" +노후 is done!\n",
      "\"개인연금\" +출금 is done!\n",
      "\"개인연금\" +세제 is done!\n",
      "\"개인연금\" +연령 is done!\n",
      "\"개인연금\" +세대 is done!\n",
      "\"개인연금\" +2030 is done!\n",
      "\"개인연금\" +국민연금 is done!\n",
      "\"개인연금\" +연금개혁 is done!\n",
      "\"개인연금\" +운용 is done!\n",
      "\"개인연금\" +펀드 is done!\n",
      "\"개인연금\" +종목 is done!\n",
      "\"개인연금\" +가입 is done!\n",
      "\"개인연금\" +수수료 is done!\n",
      "\"개인연금\" +가입서류 is done!\n",
      "\"개인연금\" +연금계좌 is done!\n",
      "\"개인연금\" +원금보장 is done!\n",
      "\"개인연금\" +비교 is done!\n",
      "\"개인연금\" +해지 is done!\n",
      "\"퇴직연금\" +ETF is done!\n",
      "\"퇴직연금\" +IRP is done!\n",
      "\"퇴직연금\" +연금저축 is done!\n",
      "\"퇴직연금\" +연금상품 is done!\n",
      "\"퇴직연금\" +증권 is done!\n",
      "\"퇴직연금\" +수익률 is done!\n",
      "\"퇴직연금\" +수령 is done!\n",
      "\"퇴직연금\" +납입 is done!\n",
      "\"퇴직연금\" +한도 is done!\n",
      "\"퇴직연금\" +이전 is done!\n",
      "\"퇴직연금\" +사망 is done!\n",
      "\"퇴직연금\" +노후 is done!\n",
      "\"퇴직연금\" +출금 is done!\n",
      "\"퇴직연금\" +세제 is done!\n",
      "\"퇴직연금\" +연령 is done!\n",
      "\"퇴직연금\" +세대 is done!\n",
      "\"퇴직연금\" +2030 is done!\n",
      "\"퇴직연금\" +국민연금 is done!\n",
      "\"퇴직연금\" +연금개혁 is done!\n",
      "\"퇴직연금\" +운용 is done!\n",
      "\"퇴직연금\" +펀드 is done!\n",
      "\"퇴직연금\" +종목 is done!\n",
      "\"퇴직연금\" +가입 is done!\n",
      "\"퇴직연금\" +수수료 is done!\n",
      "\"퇴직연금\" +가입서류 is done!\n",
      "\"퇴직연금\" +연금계좌 is done!\n",
      "\"퇴직연금\" +원금보장 is done!\n",
      "\"퇴직연금\" +비교 is done!\n",
      "\"퇴직연금\" +해지 is done!\n",
      "END\n"
     ]
    }
   ],
   "source": [
    "title_list = []\n",
    "article_list = []\n",
    "link_list = []\n",
    "sub_list = []\n",
    "\n",
    "for subject in subjects:\n",
    "    for i in range(0, 10):\n",
    "        start = 1 + (i*10)\n",
    "    \n",
    "        headers = {\"User-Agent\": \"Mozilla/5.0 (Windows NT 10.0; Win64; x64) Chrome/98.0.4758.102\"}\n",
    "        url = f'https://search.naver.com/search.naver?where=news&sm=tab_pge&query={subject}&sort=0&photo=0&field=0&pd=5&ds={last}&de={now}&mynews=0&office_type=0&office_section_code=0&news_office_checked=&nso=so:r,p:1y,a:all&start={start}'\n",
    "\n",
    "        res = requests.get(url)\n",
    "        res.raise_for_status()\n",
    "\n",
    "        soup = BeautifulSoup(res.text, 'lxml')\n",
    "\n",
    "        ul = soup.find('ul', {'class': 'list_news'})\n",
    "        links = ul.find_all('a', {'class': 'info'})\n",
    "\n",
    "        for link in links:\n",
    "            if link not in link_list and '네이버' in link.text:\n",
    "                url_a = link['href']\n",
    "                try:\n",
    "                    res_a = requests.get(url_a, headers=headers)\n",
    "                    soup_a = BeautifulSoup(res_a.text, 'lxml')\n",
    "                    title = soup_a.find('h2', {'class': 'media_end_head_headline'})\n",
    "                    article = soup_a.find('div', {'class': 'newsct_article'})\n",
    "                    article = article.text.replace('\\t\\t', '\\n\\n').split('\\n\\n')\n",
    "                    for p in article:\n",
    "                        p = p.replace('\\n', ' ').replace('\\t', '').replace('\\xa0', ' ').strip()\n",
    "                        if len(p) < 5:\n",
    "                            continue\n",
    "                        else:\n",
    "                            title_list.append(title_list)\n",
    "                            article_list.append(p)\n",
    "                            link_list.append(url_a)\n",
    "                            sub_list.append(''.join(subjects[-1].split('+')))\n",
    "                except:\n",
    "                    pass\n",
    "                \n",
    "    print(f'{subject} is done!')\n",
    "print('END')"
   ]
  },
  {
   "cell_type": "code",
   "execution_count": 81,
   "id": "cadece39",
   "metadata": {},
   "outputs": [
    {
     "data": {
      "text/plain": [
       "7090"
      ]
     },
     "execution_count": 81,
     "metadata": {},
     "output_type": "execute_result"
    }
   ],
   "source": [
    "len(title_list)"
   ]
  },
  {
   "cell_type": "code",
   "execution_count": 82,
   "id": "7c9c90b3",
   "metadata": {
    "scrolled": true
   },
   "outputs": [],
   "source": [
    "# result0 = pd.DataFrame({'title': title_list, 'article': article_list, 'link': link_list, 'subject': sub_list})\n",
    "# result0"
   ]
  },
  {
   "cell_type": "code",
   "execution_count": null,
   "id": "cdbe187c",
   "metadata": {},
   "outputs": [],
   "source": []
  }
 ],
 "metadata": {
  "kernelspec": {
   "display_name": "crypto",
   "language": "python",
   "name": "crypto"
  },
  "language_info": {
   "codemirror_mode": {
    "name": "ipython",
    "version": 3
   },
   "file_extension": ".py",
   "mimetype": "text/x-python",
   "name": "python",
   "nbconvert_exporter": "python",
   "pygments_lexer": "ipython3",
   "version": "3.9.12"
  }
 },
 "nbformat": 4,
 "nbformat_minor": 5
}
