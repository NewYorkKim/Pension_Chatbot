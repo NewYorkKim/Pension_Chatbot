{
 "cells": [
  {
   "cell_type": "code",
   "execution_count": 1,
   "id": "dfa4315f",
   "metadata": {},
   "outputs": [
    {
     "name": "stderr",
     "output_type": "stream",
     "text": [
      "C:\\Users\\Nayoun Kim\\anaconda3\\lib\\site-packages\\numpy\\_distributor_init.py:30: UserWarning: loaded more than 1 DLL from .libs:\n",
      "C:\\Users\\Nayoun Kim\\anaconda3\\lib\\site-packages\\numpy\\.libs\\libopenblas.el2c6ple4zyw3eceviv3oxxgrn2nrfm2.gfortran-win_amd64.dll\n",
      "C:\\Users\\Nayoun Kim\\anaconda3\\lib\\site-packages\\numpy\\.libs\\libopenblas.WCDJNK7YVMPZQ2ME2ZZHJJRJ3JIKNDB7.gfortran-win_amd64.dll\n",
      "C:\\Users\\Nayoun Kim\\anaconda3\\lib\\site-packages\\numpy\\.libs\\libopenblas.XWYDX2IKJW2NMTWSFYNGFUWKQU3LYTCZ.gfortran-win_amd64.dll\n",
      "  warnings.warn(\"loaded more than 1 DLL from .libs:\"\n"
     ]
    }
   ],
   "source": [
    "import pandas as pd\n",
    "import json\n",
    "import requests"
   ]
  },
  {
   "cell_type": "code",
   "execution_count": 9,
   "id": "1773db8f",
   "metadata": {},
   "outputs": [
    {
     "data": {
      "text/plain": [
       "{'code': '000',\n",
       " 'message': '정상 처리 되었습니다.',\n",
       " 'count': 32,\n",
       " 'unit': '조원',\n",
       " 'list': [{'year': '2014', 'item': 'DB', 'value': 10.9},\n",
       "  {'year': '2015', 'item': 'DB', 'value': 11.8},\n",
       "  {'year': '2016', 'item': 'DB', 'value': 12.4},\n",
       "  {'year': '2017', 'item': 'DB', 'value': 12.9},\n",
       "  {'year': '2018', 'item': 'DB', 'value': 13.2},\n",
       "  {'year': '2019', 'item': 'DB', 'value': 13.8},\n",
       "  {'year': '2020', 'item': 'DB', 'value': 13.8},\n",
       "  {'year': '2021', 'item': 'DB', 'value': 14.2},\n",
       "  {'year': '2014', 'item': 'DC', 'value': 17.7},\n",
       "  {'year': '2015', 'item': 'DC', 'value': 20.5},\n",
       "  {'year': '2016', 'item': 'DC', 'value': 23.6},\n",
       "  {'year': '2017', 'item': 'DC', 'value': 26.7},\n",
       "  {'year': '2018', 'item': 'DC', 'value': 30.1},\n",
       "  {'year': '2019', 'item': 'DC', 'value': 33.4},\n",
       "  {'year': '2020', 'item': 'DC', 'value': 36.0},\n",
       "  {'year': '2021', 'item': 'DC', 'value': 39.3},\n",
       "  {'year': '2014', 'item': '개인형IRP', 'value': 144.1},\n",
       "  {'year': '2015', 'item': '개인형IRP', 'value': 238.4},\n",
       "  {'year': '2016', 'item': '개인형IRP', 'value': 221.4},\n",
       "  {'year': '2017', 'item': '개인형IRP', 'value': 289.4},\n",
       "  {'year': '2018', 'item': '개인형IRP', 'value': 334.7},\n",
       "  {'year': '2019', 'item': '개인형IRP', 'value': 377.2},\n",
       "  {'year': '2020', 'item': '개인형IRP', 'value': 419.0},\n",
       "  {'year': '2021', 'item': '개인형IRP', 'value': 476.6},\n",
       "  {'year': '2014', 'item': '기업형IRP', 'value': 3.6},\n",
       "  {'year': '2015', 'item': '기업형IRP', 'value': 3.7},\n",
       "  {'year': '2016', 'item': '기업형IRP', 'value': 3.6},\n",
       "  {'year': '2017', 'item': '기업형IRP', 'value': 3.7},\n",
       "  {'year': '2018', 'item': '기업형IRP', 'value': 3.8},\n",
       "  {'year': '2019', 'item': '기업형IRP', 'value': 3.9},\n",
       "  {'year': '2020', 'item': '기업형IRP', 'value': 3.9},\n",
       "  {'year': '2021', 'item': '기업형IRP', 'value': 4.0}]}"
      ]
     },
     "execution_count": 9,
     "metadata": {},
     "output_type": "execute_result"
    }
   ],
   "source": [
    "url_r = 'https://100lifeplan.fss.or.kr/openapi/api/retirementPensionStat.json?key=63ce3944f4cf8cc6b9f861d17c72edf9&statType=1'\n",
    "res = requests.get(url_r)\n",
    "contents_r = json.loads(res.text)\n",
    "\n",
    "contents_r"
   ]
  },
  {
   "cell_type": "code",
   "execution_count": 11,
   "id": "df21a3cc",
   "metadata": {
    "scrolled": true
   },
   "outputs": [
    {
     "data": {
      "text/plain": [
       "[{'year': '2014', 'item': 'DB', 'value': 10.9},\n",
       " {'year': '2015', 'item': 'DB', 'value': 11.8},\n",
       " {'year': '2016', 'item': 'DB', 'value': 12.4},\n",
       " {'year': '2017', 'item': 'DB', 'value': 12.9},\n",
       " {'year': '2018', 'item': 'DB', 'value': 13.2},\n",
       " {'year': '2019', 'item': 'DB', 'value': 13.8},\n",
       " {'year': '2020', 'item': 'DB', 'value': 13.8},\n",
       " {'year': '2021', 'item': 'DB', 'value': 14.2},\n",
       " {'year': '2014', 'item': 'DC', 'value': 17.7},\n",
       " {'year': '2015', 'item': 'DC', 'value': 20.5},\n",
       " {'year': '2016', 'item': 'DC', 'value': 23.6},\n",
       " {'year': '2017', 'item': 'DC', 'value': 26.7},\n",
       " {'year': '2018', 'item': 'DC', 'value': 30.1},\n",
       " {'year': '2019', 'item': 'DC', 'value': 33.4},\n",
       " {'year': '2020', 'item': 'DC', 'value': 36.0},\n",
       " {'year': '2021', 'item': 'DC', 'value': 39.3},\n",
       " {'year': '2014', 'item': '개인형IRP', 'value': 144.1},\n",
       " {'year': '2015', 'item': '개인형IRP', 'value': 238.4},\n",
       " {'year': '2016', 'item': '개인형IRP', 'value': 221.4},\n",
       " {'year': '2017', 'item': '개인형IRP', 'value': 289.4},\n",
       " {'year': '2018', 'item': '개인형IRP', 'value': 334.7},\n",
       " {'year': '2019', 'item': '개인형IRP', 'value': 377.2},\n",
       " {'year': '2020', 'item': '개인형IRP', 'value': 419.0},\n",
       " {'year': '2021', 'item': '개인형IRP', 'value': 476.6},\n",
       " {'year': '2014', 'item': '기업형IRP', 'value': 3.6},\n",
       " {'year': '2015', 'item': '기업형IRP', 'value': 3.7},\n",
       " {'year': '2016', 'item': '기업형IRP', 'value': 3.6},\n",
       " {'year': '2017', 'item': '기업형IRP', 'value': 3.7},\n",
       " {'year': '2018', 'item': '기업형IRP', 'value': 3.8},\n",
       " {'year': '2019', 'item': '기업형IRP', 'value': 3.9},\n",
       " {'year': '2020', 'item': '기업형IRP', 'value': 3.9},\n",
       " {'year': '2021', 'item': '기업형IRP', 'value': 4.0}]"
      ]
     },
     "execution_count": 11,
     "metadata": {},
     "output_type": "execute_result"
    }
   ],
   "source": [
    "contents_r['list']"
   ]
  },
  {
   "cell_type": "code",
   "execution_count": 13,
   "id": "90272ecd",
   "metadata": {},
   "outputs": [],
   "source": [
    "year_r = []\n",
    "value_r = []\n",
    "\n",
    "for dic in contents_r['list']:\n",
    "    if dic['item'] == '개인형IRP':\n",
    "        year_r.append(dic['year'])\n",
    "        value_r.append(dic['value'])"
   ]
  },
  {
   "cell_type": "code",
   "execution_count": 14,
   "id": "9e338bcf",
   "metadata": {
    "scrolled": true
   },
   "outputs": [
    {
     "data": {
      "text/html": [
       "<div>\n",
       "<style scoped>\n",
       "    .dataframe tbody tr th:only-of-type {\n",
       "        vertical-align: middle;\n",
       "    }\n",
       "\n",
       "    .dataframe tbody tr th {\n",
       "        vertical-align: top;\n",
       "    }\n",
       "\n",
       "    .dataframe thead th {\n",
       "        text-align: right;\n",
       "    }\n",
       "</style>\n",
       "<table border=\"1\" class=\"dataframe\">\n",
       "  <thead>\n",
       "    <tr style=\"text-align: right;\">\n",
       "      <th></th>\n",
       "      <th>year</th>\n",
       "      <th>value</th>\n",
       "    </tr>\n",
       "  </thead>\n",
       "  <tbody>\n",
       "    <tr>\n",
       "      <th>0</th>\n",
       "      <td>2014</td>\n",
       "      <td>144.1</td>\n",
       "    </tr>\n",
       "    <tr>\n",
       "      <th>1</th>\n",
       "      <td>2015</td>\n",
       "      <td>238.4</td>\n",
       "    </tr>\n",
       "    <tr>\n",
       "      <th>2</th>\n",
       "      <td>2016</td>\n",
       "      <td>221.4</td>\n",
       "    </tr>\n",
       "    <tr>\n",
       "      <th>3</th>\n",
       "      <td>2017</td>\n",
       "      <td>289.4</td>\n",
       "    </tr>\n",
       "    <tr>\n",
       "      <th>4</th>\n",
       "      <td>2018</td>\n",
       "      <td>334.7</td>\n",
       "    </tr>\n",
       "    <tr>\n",
       "      <th>5</th>\n",
       "      <td>2019</td>\n",
       "      <td>377.2</td>\n",
       "    </tr>\n",
       "    <tr>\n",
       "      <th>6</th>\n",
       "      <td>2020</td>\n",
       "      <td>419.0</td>\n",
       "    </tr>\n",
       "    <tr>\n",
       "      <th>7</th>\n",
       "      <td>2021</td>\n",
       "      <td>476.6</td>\n",
       "    </tr>\n",
       "  </tbody>\n",
       "</table>\n",
       "</div>"
      ],
      "text/plain": [
       "   year  value\n",
       "0  2014  144.1\n",
       "1  2015  238.4\n",
       "2  2016  221.4\n",
       "3  2017  289.4\n",
       "4  2018  334.7\n",
       "5  2019  377.2\n",
       "6  2020  419.0\n",
       "7  2021  476.6"
      ]
     },
     "execution_count": 14,
     "metadata": {},
     "output_type": "execute_result"
    }
   ],
   "source": [
    "df_r = pd.DataFrame({'year': year_r, 'value': value_r})\n",
    "df_r"
   ]
  },
  {
   "cell_type": "code",
   "execution_count": 16,
   "id": "5cd16212",
   "metadata": {},
   "outputs": [
    {
     "data": {
      "text/plain": [
       "{'code': '000',\n",
       " 'message': '정상 처리 되었습니다.',\n",
       " 'count': 16,\n",
       " 'unit': '조원',\n",
       " 'list': [{'year': '2014', 'item': '세제적격', 'value': 101},\n",
       "  {'year': '2015', 'item': '세제적격', 'value': 109},\n",
       "  {'year': '2016', 'item': '세제적격', 'value': 118},\n",
       "  {'year': '2017', 'item': '세제적격', 'value': 129},\n",
       "  {'year': '2018', 'item': '세제적격', 'value': 135},\n",
       "  {'year': '2019', 'item': '세제적격', 'value': 143.4},\n",
       "  {'year': '2020', 'item': '세제적격', 'value': 152.5},\n",
       "  {'year': '2021', 'item': '세제적격', 'value': 160.1},\n",
       "  {'year': '2014', 'item': '세제비적격', 'value': 169},\n",
       "  {'year': '2015', 'item': '세제비적격', 'value': 179.5},\n",
       "  {'year': '2016', 'item': '세제비적격', 'value': 187.9},\n",
       "  {'year': '2017', 'item': '세제비적격', 'value': 196.6},\n",
       "  {'year': '2018', 'item': '세제비적격', 'value': 196.8},\n",
       "  {'year': '2019', 'item': '세제비적격', 'value': 201.9},\n",
       "  {'year': '2020', 'item': '세제비적격', 'value': 207.2},\n",
       "  {'year': '2021', 'item': '세제비적격', 'value': 208.6}]}"
      ]
     },
     "execution_count": 16,
     "metadata": {},
     "output_type": "execute_result"
    }
   ],
   "source": [
    "url_p = 'https://100lifeplan.fss.or.kr/openapi/api/personalPensionStat.json?key=63ce3944f4cf8cc6b9f861d17c72edf9&statType=1'\n",
    "res = requests.get(url_p)\n",
    "contents_p = json.loads(res.text)\n",
    "\n",
    "contents_p  # 개인연금"
   ]
  },
  {
   "cell_type": "code",
   "execution_count": 18,
   "id": "2b777c97",
   "metadata": {},
   "outputs": [
    {
     "data": {
      "text/plain": [
       "{'code': '000',\n",
       " 'message': '정상 처리 되었습니다.',\n",
       " 'count': 32,\n",
       " 'unit': '조원',\n",
       " 'list': [{'year': '2014', 'item': '보험', 'value': 76.8},\n",
       "  {'year': '2015', 'item': '보험', 'value': 81.1},\n",
       "  {'year': '2016', 'item': '보험', 'value': 88.2},\n",
       "  {'year': '2017', 'item': '보험', 'value': 94.9},\n",
       "  {'year': '2018', 'item': '보험', 'value': 100.5},\n",
       "  {'year': '2019', 'item': '보험', 'value': 105.6},\n",
       "  {'year': '2020', 'item': '보험', 'value': 109.7},\n",
       "  {'year': '2021', 'item': '보험', 'value': 112.0},\n",
       "  {'year': '2014', 'item': '신탁', 'value': 14.5},\n",
       "  {'year': '2015', 'item': '신탁', 'value': 15.3},\n",
       "  {'year': '2016', 'item': '신탁', 'value': 16.1},\n",
       "  {'year': '2017', 'item': '신탁', 'value': 16.8},\n",
       "  {'year': '2018', 'item': '신탁', 'value': 17.2},\n",
       "  {'year': '2019', 'item': '신탁', 'value': 17.4},\n",
       "  {'year': '2020', 'item': '신탁', 'value': 17.6},\n",
       "  {'year': '2021', 'item': '신탁', 'value': 17.0},\n",
       "  {'year': '2014', 'item': '펀드', 'value': 6.5},\n",
       "  {'year': '2015', 'item': '펀드', 'value': 8.8},\n",
       "  {'year': '2016', 'item': '펀드', 'value': 9.7},\n",
       "  {'year': '2017', 'item': '펀드', 'value': 12.2},\n",
       "  {'year': '2018', 'item': '펀드', 'value': 12.1},\n",
       "  {'year': '2019', 'item': '펀드', 'value': 14.5},\n",
       "  {'year': '2020', 'item': '펀드', 'value': 18.9},\n",
       "  {'year': '2021', 'item': '펀드', 'value': 24.3},\n",
       "  {'year': '2014', 'item': '기타', 'value': 3.1},\n",
       "  {'year': '2015', 'item': '기타', 'value': 3.5},\n",
       "  {'year': '2016', 'item': '기타', 'value': 4.5},\n",
       "  {'year': '2017', 'item': '기타', 'value': 4.9},\n",
       "  {'year': '2018', 'item': '기타', 'value': 5.4},\n",
       "  {'year': '2019', 'item': '기타', 'value': 5.9},\n",
       "  {'year': '2020', 'item': '기타', 'value': 6.4},\n",
       "  {'year': '2021', 'item': '기타', 'value': 6.8}]}"
      ]
     },
     "execution_count": 18,
     "metadata": {},
     "output_type": "execute_result"
    }
   ],
   "source": [
    "url_p2 = 'https://100lifeplan.fss.or.kr/openapi/api/personalPensionStat.json?key=63ce3944f4cf8cc6b9f861d17c72edf9&statType=2'\n",
    "res = requests.get(url_p2)\n",
    "contents_p2 = json.loads(res.text)\n",
    "\n",
    "contents_p2  # 연금저축"
   ]
  },
  {
   "cell_type": "code",
   "execution_count": null,
   "id": "73dcf64a",
   "metadata": {},
   "outputs": [],
   "source": []
  }
 ],
 "metadata": {
  "kernelspec": {
   "display_name": "Python 3 (ipykernel)",
   "language": "python",
   "name": "python3"
  },
  "language_info": {
   "codemirror_mode": {
    "name": "ipython",
    "version": 3
   },
   "file_extension": ".py",
   "mimetype": "text/x-python",
   "name": "python",
   "nbconvert_exporter": "python",
   "pygments_lexer": "ipython3",
   "version": "3.9.12"
  }
 },
 "nbformat": 4,
 "nbformat_minor": 5
}
