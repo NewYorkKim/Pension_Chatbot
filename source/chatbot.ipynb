{
  "nbformat": 4,
  "nbformat_minor": 0,
  "metadata": {
    "colab": {
      "name": "koGPT2.ipynb",
      "private_outputs": true,
      "provenance": []
    },
    "kernelspec": {
      "name": "python3",
      "display_name": "Python 3"
    },
    "language_info": {
      "name": "python"
    }
  },
  "cells": [
    {
      "cell_type": "code",
      "execution_count": null,
      "metadata": {
        "id": "f5oFBrSeYQtr"
      },
      "outputs": [],
      "source": [
        "!pip install huggingface-hub==0.2.1 \n",
        "!pip install ipykernel==6.6.0 \n",
        "!pip install ipython==7.30.1\n",
        "!pip install numpy==1.21.4 \n",
        "!pip install numpy-base==1.21.2\n",
        "!pip install pandas==1.3.5 \n",
        "!pip install python==3.7.11 \n",
        "!pip install pytorch==1.10.1\n",
        "!pip install pytorch-lightning==1.5.6\n",
        "!pip install pytorch-mutex==1.0 \n",
        "!pip install tokenizers==0.10.3\n",
        "!pip install torchaudio==0.10.1\n",
        "!pip install torchmetrics==0.6.2\n",
        "!pip install torchvision==0.11.2\n",
        "!pip install tqdm==4.62.3\n",
        "!pip install transformers==4.14.1\n",
        "!pip install urllib3==1.26.7\n",
        "!pip install vc==14.2\n",
        "!pip install vs2015_runtime==14.27.29016"
      ]
    },
    {
      "cell_type": "code",
      "source": [
        "import torch\n",
        "from transformers import GPT2LMHeadModel"
      ],
      "metadata": {
        "id": "3jcPhkWvY9AI"
      },
      "execution_count": null,
      "outputs": []
    },
    {
      "cell_type": "code",
      "source": [
        "from transformers import PreTrainedTokenizerFast\n",
        "tokenizer = PreTrainedTokenizerFast.from_pretrained(\"skt/kogpt2-base-v2\", bos_token='</s>', eos_token='</s>', unk_token='<unk>', pad_token='<pad>', mask_token='<mask>') "
      ],
      "metadata": {
        "id": "bkSDcgoZaGYK"
      },
      "execution_count": null,
      "outputs": []
    },
    {
      "cell_type": "code",
      "source": [
        "model = GPT2LMHeadModel.from_pretrained('skt/kogpt2-base-v2')"
      ],
      "metadata": {
        "id": "3gXjA_kuaOYW"
      },
      "execution_count": null,
      "outputs": []
    },
    {
      "cell_type": "code",
      "source": [
        "text = '한번 설정한 퇴직급여제도를 변경할 수 있나요? 있다면 그 절차는 무엇인가요?'\n",
        "input_ids = tokenizer.encode(text)\n",
        "gen_ids = model.generate(torch.tensor([input_ids]),\n",
        "                           max_length=128,\n",
        "                           repetition_penalty=2.0,\n",
        "                           pad_token_id=tokenizer.pad_token_id,\n",
        "                           eos_token_id=tokenizer.eos_token_id,\n",
        "                           bos_token_id=tokenizer.bos_token_id,\n",
        "                           use_cache=True)\n",
        "generated = tokenizer.decode(gen_ids[0,:].tolist())\n",
        "print(generated)"
      ],
      "metadata": {
        "id": "hbhF0bUOaWqf"
      },
      "execution_count": null,
      "outputs": []
    },
    {
      "cell_type": "code",
      "source": [
        "def chatbot(text):\n",
        "  input_ids = tokenizer.encode(text)\n",
        "  gen_ids = model.generate(torch.tensor([input_ids]),\n",
        "                           max_length=128,\n",
        "                           repetition_penalty=2.0,\n",
        "                           pad_token_id=tokenizer.pad_token_id,\n",
        "                           eos_token_id=tokenizer.eos_token_id,\n",
        "                           bos_token_id=tokenizer.bos_token_id,\n",
        "                           use_cache=True)\n",
        "  generated = tokenizer.decode(gen_ids[0,:].tolist())\n",
        "  return   print('사용자: {}'.format(text)),print('\\n'), print('답변: {}'.format(generated).strip((\"None, None, None\")))"
      ],
      "metadata": {
        "id": "TAGRmf3qoCux"
      },
      "execution_count": null,
      "outputs": []
    },
    {
      "cell_type": "code",
      "source": [
        "import numpy as np\n",
        "import pandas as pd\n",
        "import torch\n",
        "from torch.utils.data import DataLoader, Dataset\n",
        "from transformers.optimization import AdamW, get_cosine_schedule_with_warmup\n",
        "from transformers import PreTrainedTokenizerFast, GPT2LMHeadModel\n",
        "import re"
      ],
      "metadata": {
        "id": "hoBVWbx9fBbw"
      },
      "execution_count": null,
      "outputs": []
    },
    {
      "cell_type": "code",
      "source": [
        "Q_TKN = \"<usr>\"\n",
        "A_TKN = \"<sys>\"\n",
        "BOS = '</s>'\n",
        "EOS = '</s>'\n",
        "MASK = '<unused0>'\n",
        "SENT = '<unused1>'\n",
        "PAD = '<pad>'"
      ],
      "metadata": {
        "id": "_VHyiID7fI-L"
      },
      "execution_count": null,
      "outputs": []
    },
    {
      "cell_type": "code",
      "source": [
        "koGPT2_TOKENIZER = PreTrainedTokenizerFast.from_pretrained(\"skt/kogpt2-base-v2\",\n",
        "            bos_token=BOS, eos_token=EOS, unk_token='<unk>',\n",
        "            pad_token=PAD, mask_token=MASK) \n",
        "model = GPT2LMHeadModel.from_pretrained('skt/kogpt2-base-v2')"
      ],
      "metadata": {
        "id": "VbiG47TAfKrx"
      },
      "execution_count": null,
      "outputs": []
    },
    {
      "cell_type": "code",
      "source": [
        "data = pd.read_csv(\"naver_news_all2.csv\")\n",
        "data.head()"
      ],
      "metadata": {
        "id": "Mj4ntOD8fMHc"
      },
      "execution_count": null,
      "outputs": []
    },
    {
      "cell_type": "code",
      "source": [
        "data2 = pd.read_csv(\"news_double.csv\")\n",
        "data2.head()"
      ],
      "metadata": {
        "id": "fH6gHUev4gSS"
      },
      "execution_count": null,
      "outputs": []
    },
    {
      "cell_type": "code",
      "source": [
        "chatbot_data2 = data2[['article', 'sub']]"
      ],
      "metadata": {
        "id": "ZVTIcHjd4npF"
      },
      "execution_count": null,
      "outputs": []
    },
    {
      "cell_type": "code",
      "source": [
        "chatbot_data = data[['article', 'subject']]"
      ],
      "metadata": {
        "id": "y6AH5mELjuk2"
      },
      "execution_count": null,
      "outputs": []
    },
    {
      "cell_type": "code",
      "source": [
        "chatbot_data"
      ],
      "metadata": {
        "id": "VaZX7Azqj23A"
      },
      "execution_count": null,
      "outputs": []
    },
    {
      "cell_type": "code",
      "source": [
        "device = torch.device(\"cuda\" if torch.cuda.is_available() else \"cpu\")\n",
        "train_set = chatbot_data\n",
        "#윈도우 환경에서 num_workers 는 무조건 0으로 지정, 리눅스에서는 2\n",
        "train_dataloader = DataLoader(train_set, batch_size=32, num_workers=0, shuffle=True, )"
      ],
      "metadata": {
        "id": "UTJO08xOfPaf"
      },
      "execution_count": null,
      "outputs": []
    },
    {
      "cell_type": "code",
      "source": [
        "device = torch.device(\"cuda\" if torch.cuda.is_available() else \"cpu\")\n",
        "train_set = chatbot_data2\n",
        "#윈도우 환경에서 num_workers 는 무조건 0으로 지정, 리눅스에서는 2\n",
        "train_dataloader = DataLoader(train_set, batch_size=32, num_workers=0, shuffle=True, )"
      ],
      "metadata": {
        "id": "KeVqt3kg4tCW"
      },
      "execution_count": null,
      "outputs": []
    },
    {
      "cell_type": "code",
      "source": [
        "model.to(device)\n",
        "model.train()"
      ],
      "metadata": {
        "id": "505Ym0wDfXt4"
      },
      "execution_count": null,
      "outputs": []
    },
    {
      "cell_type": "code",
      "source": [
        "learning_rate = 3e-5\n",
        "criterion = torch.nn.CrossEntropyLoss(reduction=\"none\")\n",
        "optimizer = torch.optim.Adam(model.parameters(), lr=learning_rate)\n",
        "\n",
        "epoch = 10\n",
        "Sneg = -1e18"
      ],
      "metadata": {
        "id": "1RFZDq75fZqe"
      },
      "execution_count": null,
      "outputs": []
    },
    {
      "cell_type": "code",
      "source": [
        "print (\"start\")\n",
        "for epoch in range(epoch):\n",
        "    for batch_idx, samples in enumerate(train_dataloader):\n",
        "        optimizer.zero_grad()\n",
        "        token_ids, mask, label = samples\n",
        "        out = model(token_ids)\n",
        "        out = out.logits      #Returns a new tensor with the logit of the elements of input\n",
        "        mask_3d = mask.unsqueeze(dim=2).repeat_interleave(repeats=out.shape[2], dim=2)\n",
        "        mask_out = torch.where(mask_3d == 1, out, Sneg * torch.ones_like(out))\n",
        "        loss = criterion(mask_out.transpose(2, 1), label)\n",
        "        # 평균 loss 만들기 avg_loss[0] / avg_loss[1] <- loss 정규화\n",
        "        avg_loss = loss.sum() / mask.sum()\n",
        "        avg_loss.backward()\n",
        "        # 학습 끝\n",
        "        optimizer.step()\n",
        "print (\"end\")"
      ],
      "metadata": {
        "id": "VcnVHcgTfbh5"
      },
      "execution_count": null,
      "outputs": []
    },
    {
      "cell_type": "markdown",
      "source": [
        "# 뉴스 크롤링 학습 않음 "
      ],
      "metadata": {
        "id": "nw3S9sgt5GMo"
      }
    },
    {
      "cell_type": "code",
      "source": [
        "text = \"한번 설정한 퇴직급여제도를 변경할 수 있나요? 있다면 그 절차는 무엇인가요?\"\n",
        "chatbot(text)"
      ],
      "metadata": {
        "id": "Z3pE5_Bhob3A"
      },
      "execution_count": null,
      "outputs": []
    },
    {
      "cell_type": "markdown",
      "source": [
        "# naver_news_all2 학습"
      ],
      "metadata": {
        "id": "otqjQ-ER5OgO"
      }
    },
    {
      "cell_type": "code",
      "source": [
        "text = \"한번 설정한 퇴직급여제도를 변경할 수 있나요? 있다면 그 절차는 무엇인가요?\"\n",
        "chatbot(text)"
      ],
      "metadata": {
        "id": "41mZjMpNxtZp"
      },
      "execution_count": null,
      "outputs": []
    },
    {
      "cell_type": "markdown",
      "source": [
        "# naver_double 학습"
      ],
      "metadata": {
        "id": "c5PWW7195XWS"
      }
    },
    {
      "cell_type": "code",
      "source": [
        "text = \"한번 설정한 퇴직급여제도를 변경할 수 있나요? 있다면 그 절차는 무엇인가요?\"\n",
        "chatbot(text)"
      ],
      "metadata": {
        "id": "9qkHTXpP5DIg"
      },
      "execution_count": null,
      "outputs": []
    }
  ]
}