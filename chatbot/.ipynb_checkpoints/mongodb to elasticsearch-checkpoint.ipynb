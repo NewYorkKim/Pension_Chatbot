{
 "cells": [
  {
   "cell_type": "code",
   "execution_count": 7,
   "id": "578b3633",
   "metadata": {},
   "outputs": [],
   "source": [
    "import pymongo\n",
    "from elasticsearch import Elasticsearch\n",
    "from elasticsearch import helpers"
   ]
  },
  {
   "cell_type": "code",
   "execution_count": 8,
   "id": "74788b9a",
   "metadata": {},
   "outputs": [],
   "source": [
    "client = pymongo.MongoClient()"
   ]
  },
  {
   "cell_type": "code",
   "execution_count": 31,
   "id": "a4394536",
   "metadata": {},
   "outputs": [
    {
     "data": {
      "text/plain": [
       "<pymongo.cursor.Cursor at 0x222b1ec28e0>"
      ]
     },
     "execution_count": 31,
     "metadata": {},
     "output_type": "execute_result"
    }
   ],
   "source": [
    "data = client['pension']['news'].find()\n",
    "data"
   ]
  },
  {
   "cell_type": "code",
   "execution_count": 35,
   "id": "58ae45a3",
   "metadata": {},
   "outputs": [],
   "source": [
    "es = Elasticsearch(hosts='localhost:9200')"
   ]
  },
  {
   "cell_type": "code",
   "execution_count": 12,
   "id": "3abebc09",
   "metadata": {},
   "outputs": [],
   "source": [
    "import pandas as pd"
   ]
  },
  {
   "cell_type": "code",
   "execution_count": 32,
   "id": "8a2034b7",
   "metadata": {},
   "outputs": [
    {
     "data": {
      "text/html": [
       "<div>\n",
       "<style scoped>\n",
       "    .dataframe tbody tr th:only-of-type {\n",
       "        vertical-align: middle;\n",
       "    }\n",
       "\n",
       "    .dataframe tbody tr th {\n",
       "        vertical-align: top;\n",
       "    }\n",
       "\n",
       "    .dataframe thead th {\n",
       "        text-align: right;\n",
       "    }\n",
       "</style>\n",
       "<table border=\"1\" class=\"dataframe\">\n",
       "  <thead>\n",
       "    <tr style=\"text-align: right;\">\n",
       "      <th></th>\n",
       "      <th>title</th>\n",
       "      <th>date</th>\n",
       "      <th>article</th>\n",
       "      <th>link</th>\n",
       "      <th>subject</th>\n",
       "    </tr>\n",
       "  </thead>\n",
       "  <tbody>\n",
       "    <tr>\n",
       "      <th>0</th>\n",
       "      <td>꼬박 국민연금 부어도 57만원, 기초연금 부부 64만원…\"속터져\"</td>\n",
       "      <td>2022.05.15</td>\n",
       "      <td>“국민연금은 용돈 수준인데 기초연금 월 40만원 시대가 열린다니 여태껏 착하게 연금...</td>\n",
       "      <td>https://news.naver.com/main/read.naver?mode=LS...</td>\n",
       "      <td>개인연금</td>\n",
       "    </tr>\n",
       "    <tr>\n",
       "      <th>1</th>\n",
       "      <td>꼬박 국민연금 부어도 57만원, 기초연금 부부 64만원…\"속터져\"</td>\n",
       "      <td>2022.05.15</td>\n",
       "      <td>서울 국민연금공단 송파지사 상담 창구의 모습. 연합뉴스           그러나 기...</td>\n",
       "      <td>https://news.naver.com/main/read.naver?mode=LS...</td>\n",
       "      <td>개인연금</td>\n",
       "    </tr>\n",
       "    <tr>\n",
       "      <th>2</th>\n",
       "      <td>꼬박 국민연금 부어도 57만원, 기초연금 부부 64만원…\"속터져\"</td>\n",
       "      <td>2022.05.15</td>\n",
       "      <td>기초연금 관련 이미지. 연합뉴스       연금공단 관계자는 “상담 과정에서 거의 ...</td>\n",
       "      <td>https://news.naver.com/main/read.naver?mode=LS...</td>\n",
       "      <td>개인연금</td>\n",
       "    </tr>\n",
       "    <tr>\n",
       "      <th>3</th>\n",
       "      <td>[재테크_연금] 세금을 알아야 연금 수익률도 보인다</td>\n",
       "      <td>2022.05.17</td>\n",
       "      <td>연금 납입-운용-수령 단계마다 세금 효과 숙지해야주택연금은 과세 대상에서 제외경제협...</td>\n",
       "      <td>https://news.naver.com/main/read.naver?mode=LS...</td>\n",
       "      <td>개인연금</td>\n",
       "    </tr>\n",
       "    <tr>\n",
       "      <th>4</th>\n",
       "      <td>[재테크_연금] 세금을 알아야 연금 수익률도 보인다</td>\n",
       "      <td>2022.05.17</td>\n",
       "      <td>4월5일 서울 종로구 경실련에서 ‘노후소득 보장 및 재정 안정 위한 정책토론회’가 ...</td>\n",
       "      <td>https://news.naver.com/main/read.naver?mode=LS...</td>\n",
       "      <td>개인연금</td>\n",
       "    </tr>\n",
       "  </tbody>\n",
       "</table>\n",
       "</div>"
      ],
      "text/plain": [
       "                                  title        date  ...                                               link subject\n",
       "0  꼬박 국민연금 부어도 57만원, 기초연금 부부 64만원…\"속터져\"  2022.05.15  ...  https://news.naver.com/main/read.naver?mode=LS...    개인연금\n",
       "1  꼬박 국민연금 부어도 57만원, 기초연금 부부 64만원…\"속터져\"  2022.05.15  ...  https://news.naver.com/main/read.naver?mode=LS...    개인연금\n",
       "2  꼬박 국민연금 부어도 57만원, 기초연금 부부 64만원…\"속터져\"  2022.05.15  ...  https://news.naver.com/main/read.naver?mode=LS...    개인연금\n",
       "3          [재테크_연금] 세금을 알아야 연금 수익률도 보인다  2022.05.17  ...  https://news.naver.com/main/read.naver?mode=LS...    개인연금\n",
       "4          [재테크_연금] 세금을 알아야 연금 수익률도 보인다  2022.05.17  ...  https://news.naver.com/main/read.naver?mode=LS...    개인연금\n",
       "\n",
       "[5 rows x 5 columns]"
      ]
     },
     "execution_count": 32,
     "metadata": {},
     "output_type": "execute_result"
    }
   ],
   "source": [
    "mongo_data = pd.DataFrame(data)\n",
    "mongo_data.drop('_id', axis=1, inplace=True)\n",
    "mongo_data.head()"
   ]
  },
  {
   "cell_type": "code",
   "execution_count": 33,
   "id": "d2dc392f",
   "metadata": {},
   "outputs": [
    {
     "data": {
      "text/plain": [
       "Index(['title', 'date', 'article', 'link', 'subject'], dtype='object')"
      ]
     },
     "execution_count": 33,
     "metadata": {},
     "output_type": "execute_result"
    }
   ],
   "source": [
    "mongo_data.columns"
   ]
  },
  {
   "cell_type": "code",
   "execution_count": 36,
   "id": "1e5fd68d",
   "metadata": {},
   "outputs": [
    {
     "name": "stderr",
     "output_type": "stream",
     "text": [
      "C:\\Users\\Nayoun Kim\\AppData\\Roaming\\Python\\Python39\\site-packages\\elasticsearch\\connection\\base.py:190: ElasticsearchDeprecationWarning: Elasticsearch built-in security features are not enabled. Without authentication, your cluster could be accessible to anyone. See https://www.elastic.co/guide/en/elasticsearch/reference/7.15/security-minimal-setup.html to enable security.\n",
      "  warnings.warn(message, category=ElasticsearchDeprecationWarning)\n",
      "C:\\Users\\Nayoun Kim\\AppData\\Roaming\\Python\\Python39\\site-packages\\elasticsearch\\connection\\base.py:190: ElasticsearchDeprecationWarning: [types removal] Specifying types in bulk requests is deprecated.\n",
      "  warnings.warn(message, category=ElasticsearchDeprecationWarning)\n"
     ]
    },
    {
     "data": {
      "text/plain": [
       "(38665, [])"
      ]
     },
     "execution_count": 36,
     "metadata": {},
     "output_type": "execute_result"
    }
   ],
   "source": [
    "helpers.bulk(es, mongo_data.to_dict('records'), index='index', doc_type='type')"
   ]
  }
 ],
 "metadata": {
  "kernelspec": {
   "display_name": "silverfund",
   "language": "python",
   "name": "silverfund"
  },
  "language_info": {
   "codemirror_mode": {
    "name": "ipython",
    "version": 3
   },
   "file_extension": ".py",
   "mimetype": "text/x-python",
   "name": "python",
   "nbconvert_exporter": "python",
   "pygments_lexer": "ipython3",
   "version": "3.9.12"
  }
 },
 "nbformat": 4,
 "nbformat_minor": 5
}
