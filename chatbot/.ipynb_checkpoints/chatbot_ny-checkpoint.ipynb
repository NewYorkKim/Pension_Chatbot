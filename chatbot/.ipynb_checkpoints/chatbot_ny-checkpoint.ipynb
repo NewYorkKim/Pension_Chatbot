{
 "cells": [
  {
   "cell_type": "code",
   "execution_count": 1,
   "id": "f4c6e482",
   "metadata": {},
   "outputs": [],
   "source": [
    "from transformers import ElectraModel, ElectraTokenizer"
   ]
  },
  {
   "cell_type": "code",
   "execution_count": 22,
   "id": "0ac70c5a",
   "metadata": {},
   "outputs": [
    {
     "data": {
      "application/vnd.jupyter.widget-view+json": {
       "model_id": "7641ea7718ee46938a99259aadb435f1",
       "version_major": 2,
       "version_minor": 0
      },
      "text/plain": [
       "Downloading:   0%|          | 0.00/257k [00:00<?, ?B/s]"
      ]
     },
     "metadata": {},
     "output_type": "display_data"
    },
    {
     "data": {
      "application/vnd.jupyter.widget-view+json": {
       "model_id": "912be2923d044936bfaefb37322c8acb",
       "version_major": 2,
       "version_minor": 0
      },
      "text/plain": [
       "Downloading:   0%|          | 0.00/61.0 [00:00<?, ?B/s]"
      ]
     },
     "metadata": {},
     "output_type": "display_data"
    },
    {
     "data": {
      "application/vnd.jupyter.widget-view+json": {
       "model_id": "49a0ef0d32f348c5ae2ee1dc307fd295",
       "version_major": 2,
       "version_minor": 0
      },
      "text/plain": [
       "Downloading:   0%|          | 0.00/458 [00:00<?, ?B/s]"
      ]
     },
     "metadata": {},
     "output_type": "display_data"
    }
   ],
   "source": [
    "tokenizer = ElectraTokenizer.from_pretrained('monologg/koelectra-small-v3-discriminator')"
   ]
  },
  {
   "cell_type": "code",
   "execution_count": 3,
   "id": "7b649e5a",
   "metadata": {},
   "outputs": [
    {
     "name": "stderr",
     "output_type": "stream",
     "text": [
      "INFO - haystack.document_stores.base -  Numba not found, replacing njit() with no-op implementation. Enable it with 'pip install numba'.\n",
      "INFO - haystack.modeling.model.optimization -  apex not found, won't use it. See https://nvidia.github.io/apex/\n",
      "ERROR - root -  Failed to import 'magic' (from 'python-magic' and 'python-magic-bin' on Windows). FileTypeClassifier will not perform mimetype detection on extensionless files. Please make sure the necessary OS libraries are installed if you need this functionality.\n"
     ]
    }
   ],
   "source": [
    "from haystack.utils import clean_wiki_text, convert_files_to_docs, fetch_archive_from_http, print_answers\n",
    "from haystack.nodes import FARMReader, TransformersReader"
   ]
  },
  {
   "cell_type": "code",
   "execution_count": 4,
   "id": "2f3c3915",
   "metadata": {},
   "outputs": [],
   "source": [
    "from haystack.document_stores import InMemoryDocumentStore"
   ]
  },
  {
   "cell_type": "code",
   "execution_count": 5,
   "id": "28891385",
   "metadata": {},
   "outputs": [
    {
     "name": "stderr",
     "output_type": "stream",
     "text": [
      "INFO - haystack.modeling.utils -  Using devices: CPU\n",
      "INFO - haystack.modeling.utils -  Number of GPUs: 0\n"
     ]
    }
   ],
   "source": [
    "document_store = InMemoryDocumentStore()"
   ]
  },
  {
   "cell_type": "code",
   "execution_count": 6,
   "id": "31c22587",
   "metadata": {},
   "outputs": [],
   "source": [
    "import os\n",
    "from subprocess import Popen, PIPE, STDOUT"
   ]
  },
  {
   "cell_type": "code",
   "execution_count": 70,
   "id": "1dfa4546",
   "metadata": {},
   "outputs": [
    {
     "data": {
      "text/plain": [
       "<bound method ElasticsearchDocumentStore.delete_index of <haystack.document_stores.elasticsearch.ElasticsearchDocumentStore object at 0x0000026529812AC0>>"
      ]
     },
     "execution_count": 70,
     "metadata": {},
     "output_type": "execute_result"
    }
   ],
   "source": [
    "document_store.delete_index"
   ]
  },
  {
   "cell_type": "code",
   "execution_count": 71,
   "id": "39e1be43",
   "metadata": {},
   "outputs": [
    {
     "name": "stderr",
     "output_type": "stream",
     "text": [
      "C:\\Users\\Nayoun Kim\\AppData\\Roaming\\Python\\Python39\\site-packages\\elasticsearch\\connection\\base.py:190: ElasticsearchDeprecationWarning: Elasticsearch built-in security features are not enabled. Without authentication, your cluster could be accessible to anyone. See https://www.elastic.co/guide/en/elasticsearch/reference/7.15/security-minimal-setup.html to enable security.\n",
      "  warnings.warn(message, category=ElasticsearchDeprecationWarning)\n"
     ]
    }
   ],
   "source": [
    "from haystack.document_stores import ElasticsearchDocumentStore\n",
    "document_store = ElasticsearchDocumentStore(host='localhost', username='root', password='1111', index='document')"
   ]
  },
  {
   "cell_type": "code",
   "execution_count": 8,
   "id": "b074c46e",
   "metadata": {},
   "outputs": [],
   "source": [
    "import pandas as pd\n",
    "newsdf = pd.read_csv('../data/news_double.csv')"
   ]
  },
  {
   "cell_type": "code",
   "execution_count": 9,
   "id": "b79b6acf",
   "metadata": {},
   "outputs": [
    {
     "data": {
      "text/html": [
       "<div>\n",
       "<style scoped>\n",
       "    .dataframe tbody tr th:only-of-type {\n",
       "        vertical-align: middle;\n",
       "    }\n",
       "\n",
       "    .dataframe tbody tr th {\n",
       "        vertical-align: top;\n",
       "    }\n",
       "\n",
       "    .dataframe thead th {\n",
       "        text-align: right;\n",
       "    }\n",
       "</style>\n",
       "<table border=\"1\" class=\"dataframe\">\n",
       "  <thead>\n",
       "    <tr style=\"text-align: right;\">\n",
       "      <th></th>\n",
       "      <th>title</th>\n",
       "      <th>article</th>\n",
       "      <th>link</th>\n",
       "      <th>sub</th>\n",
       "    </tr>\n",
       "  </thead>\n",
       "  <tbody>\n",
       "    <tr>\n",
       "      <th>0</th>\n",
       "      <td>꼬박 국민연금 부어도 57만원, 기초연금 부부 64만원…\"속터져\"</td>\n",
       "      <td>“국민연금은 용돈 수준인데 기초연금 월 40만원 시대가 열린다니 여태껏 착하게 연금을 부어 온 이들이 화날 것 같다.”      최근 인...</td>\n",
       "      <td>https://news.naver.com/main/read.naver?mode=LSD&amp;mid=sec&amp;sid1=102&amp;oid=025&amp;aid...</td>\n",
       "      <td>개인연금</td>\n",
       "    </tr>\n",
       "    <tr>\n",
       "      <th>1</th>\n",
       "      <td>꼬박 국민연금 부어도 57만원, 기초연금 부부 64만원…\"속터져\"</td>\n",
       "      <td>서울 국민연금공단 송파지사 상담 창구의 모습. 연합뉴스           그러나 기초연금을 인상하면 연금 가입 유인이 떨어지고 가입자가 ...</td>\n",
       "      <td>https://news.naver.com/main/read.naver?mode=LSD&amp;mid=sec&amp;sid1=102&amp;oid=025&amp;aid...</td>\n",
       "      <td>개인연금</td>\n",
       "    </tr>\n",
       "    <tr>\n",
       "      <th>2</th>\n",
       "      <td>꼬박 국민연금 부어도 57만원, 기초연금 부부 64만원…\"속터져\"</td>\n",
       "      <td>기초연금 관련 이미지. 연합뉴스       연금공단 관계자는 “상담 과정에서 거의 100이면 100 기초연금이 안 깎이려면 어떻게 해야 ...</td>\n",
       "      <td>https://news.naver.com/main/read.naver?mode=LSD&amp;mid=sec&amp;sid1=102&amp;oid=025&amp;aid...</td>\n",
       "      <td>개인연금</td>\n",
       "    </tr>\n",
       "    <tr>\n",
       "      <th>3</th>\n",
       "      <td>5년만에 0명→2472명…국민연금 월 200만원 '황금 황혼' 누구? [뉴스원샷]</td>\n",
       "      <td>국민연금을 월 200만원 이상 수령하는 사람이 2500명에 육박하는 것으로 나타났다. 5년 전엔 단 한명도 없었는데 최근 급증했다.   ...</td>\n",
       "      <td>https://news.naver.com/main/read.naver?mode=LSD&amp;mid=sec&amp;sid1=102&amp;oid=025&amp;aid...</td>\n",
       "      <td>개인연금</td>\n",
       "    </tr>\n",
       "    <tr>\n",
       "      <th>4</th>\n",
       "      <td>기초연금 40만원 시대, 주부가 국민연금 가입 전에 따져볼 3가지</td>\n",
       "      <td>“내 노후는 내가 알아서 준비하겠다, 지금까지 낸 돈 이자는 안 받을 테니 원금만이라도 돌려 달라.”강제로 가입하는 국민연금에 대한 뉴스...</td>\n",
       "      <td>https://news.naver.com/main/read.naver?mode=LSD&amp;mid=sec&amp;sid1=101&amp;oid=023&amp;aid...</td>\n",
       "      <td>개인연금</td>\n",
       "    </tr>\n",
       "  </tbody>\n",
       "</table>\n",
       "</div>"
      ],
      "text/plain": [
       "                                           title  \\\n",
       "0           꼬박 국민연금 부어도 57만원, 기초연금 부부 64만원…\"속터져\"   \n",
       "1           꼬박 국민연금 부어도 57만원, 기초연금 부부 64만원…\"속터져\"   \n",
       "2           꼬박 국민연금 부어도 57만원, 기초연금 부부 64만원…\"속터져\"   \n",
       "3  5년만에 0명→2472명…국민연금 월 200만원 '황금 황혼' 누구? [뉴스원샷]   \n",
       "4           기초연금 40만원 시대, 주부가 국민연금 가입 전에 따져볼 3가지   \n",
       "\n",
       "                                                                           article  \\\n",
       "0  “국민연금은 용돈 수준인데 기초연금 월 40만원 시대가 열린다니 여태껏 착하게 연금을 부어 온 이들이 화날 것 같다.”      최근 인...   \n",
       "1  서울 국민연금공단 송파지사 상담 창구의 모습. 연합뉴스           그러나 기초연금을 인상하면 연금 가입 유인이 떨어지고 가입자가 ...   \n",
       "2  기초연금 관련 이미지. 연합뉴스       연금공단 관계자는 “상담 과정에서 거의 100이면 100 기초연금이 안 깎이려면 어떻게 해야 ...   \n",
       "3  국민연금을 월 200만원 이상 수령하는 사람이 2500명에 육박하는 것으로 나타났다. 5년 전엔 단 한명도 없었는데 최근 급증했다.   ...   \n",
       "4  “내 노후는 내가 알아서 준비하겠다, 지금까지 낸 돈 이자는 안 받을 테니 원금만이라도 돌려 달라.”강제로 가입하는 국민연금에 대한 뉴스...   \n",
       "\n",
       "                                                                              link  \\\n",
       "0  https://news.naver.com/main/read.naver?mode=LSD&mid=sec&sid1=102&oid=025&aid...   \n",
       "1  https://news.naver.com/main/read.naver?mode=LSD&mid=sec&sid1=102&oid=025&aid...   \n",
       "2  https://news.naver.com/main/read.naver?mode=LSD&mid=sec&sid1=102&oid=025&aid...   \n",
       "3  https://news.naver.com/main/read.naver?mode=LSD&mid=sec&sid1=102&oid=025&aid...   \n",
       "4  https://news.naver.com/main/read.naver?mode=LSD&mid=sec&sid1=101&oid=023&aid...   \n",
       "\n",
       "    sub  \n",
       "0  개인연금  \n",
       "1  개인연금  \n",
       "2  개인연금  \n",
       "3  개인연금  \n",
       "4  개인연금  "
      ]
     },
     "execution_count": 9,
     "metadata": {},
     "output_type": "execute_result"
    }
   ],
   "source": [
    "newsdf.head()"
   ]
  },
  {
   "cell_type": "code",
   "execution_count": 110,
   "id": "c65ca3b1",
   "metadata": {},
   "outputs": [],
   "source": [
    "news_dicts = []\n",
    "for i in range(len(newsdf['title'])):\n",
    "      data = newsdf.iloc[i]\n",
    "      temp = {}\n",
    "      short_article = data['article'].strip()\n",
    "      temp['content'] = short_article\n",
    "      temp['meta'] = {'title': data['title'], 'subject': data['sub']}\n",
    "      news_dicts.append(temp)"
   ]
  },
  {
   "cell_type": "code",
   "execution_count": 111,
   "id": "3d4bd716",
   "metadata": {
    "scrolled": true
   },
   "outputs": [
    {
     "data": {
      "text/plain": [
       "[{'content': '“국민연금은 용돈 수준인데 기초연금 월 40만원 시대가 열린다니 여태껏 착하게 연금을 부어 온 이들이 화날 것 같다.”      최근 인터넷 블로그에 이런 글이 올라왔다. 새 정부가 앞으로 65세 이상 소득 낮은 70% 노인에게 주는 기초연금을 10만원 많은 40만원으로 인상하겠다고 발표한 걸 두고서다.      기초연금 40만원 시대가 현실화할 경우 대상이 되는 부부는 감액(20%)을 적용받아 64만원을 타게 된다. 한 가정이 꼬박 보험료를 내서 손에 쥐는 국민연금 평균액(57만원)보다 많게 되니 상대적 박탈감을 느낄 수 있다. 굳이 국민연금을 타고자 의무가입 기간을 채울 필요가 있느냐는 의문도 나온다.',\n",
       "  'meta': {'title': '꼬박 국민연금 부어도 57만원, 기초연금 부부 64만원…\"속터져\"',\n",
       "   'subject': '개인연금'}},\n",
       " {'content': '서울 국민연금공단 송파지사 상담 창구의 모습. 연합뉴스           그러나 기초연금을 인상하면 연금 가입 유인이 떨어지고 가입자가 이탈할 것이란 지적은 과하다고 전문가들은 말한다.       오건호 내가만드는복지국가 정책위원장은 “기초연금과 국민연금은 양자택일이 아니기 때문에 기초연금이 오르면 국민연금을 회피할 것이란 주장은 근거가 약하다”라고 했다. 만 18세 이상에서 만 60세 미만 국민 중 소득이 있으면 공무원연금 등 특별한 경우를 제외하고는 국민연금에 의무로 가입해야 한다. 본인 의사에 따라 가입할 수 있는 게 아니란 얘기다.       기초연금은 자격 요건이 되면 받는 것이다. 오 위원장은 “사적 개인연금처럼 가입자가 선택할 것처럼 가정하고 하는 얘기인데 오해와 불신에서 비롯된 것”이라며 “두 개 다 받을 수 있으면 그렇게 하는 게 이득”이라고 말했다.       다만 국민연금 사각지대가 존재한다는 점을 고려하면 전체 가입자는 아니더라도 당장 연금 보험료를 내기 부담스러울 일부 저소득 영세 자영업자의 장기 가입 유인이 떨어질 수는 있다고 전문가들은 말한다.       최옥금 국민연금연구원 연구위원은 2020년 12월 ‘기초연금과 국민연금 제도의 관계를 둘러싼 쟁점과 발전방향’ 보고서에서 “기초연금 수준이 지속해서 상향될 경우 국민연금 가입자에게 장기 가입에 대한 잘못된 시그널을 줄 수 있어 영향을 신중히 검토해야 한다”고 했다. 물론 여기에도 “그럼에도 기초연금을 받을 가능성이 크다면, 노후를 위해 빠듯해도 보험료를 내고 국민연금과 기초연금을 다 받는 게 낫다”는 주장도 있다.        문제는 따로 있다. 기초연금 인상과 별도로 도입 당시부터 논란이 됐던 국민연금-기초연금 연계 감액 조항이다. 연계 감액 제도는 국민연금 가입 기간이 길면 기초연금을 적게 받도록 삭감하는 것이다. 수령액이 기초연금의 1.5배(현재 약 46만원 수준) 넘으면 최대 50%(현재 15만원)까지 깎는다. 두 연금의 중복 지원 문제를 해결하기 위해 도입됐다.       보건복지부 관계자는 “국민연금에는 소득 재분배 기능이 있는 만큼 연계 감액 제도 의의가 있다”고 했다. 본인 기여보다 세대 간 이전 혜택을 많이 받는 수급자에게는 금액을 조정하고, 무·저연금자에게는 기초연금을 전액 지급해 공적 연금의 혜택을 골고루 나눠야 한단 것이다. 재정 지속가능성도 고려해야 했다.      국민연금공단에 따르면 이런 식으로 기초연금을 온전히 못 받는 수급자는 2022년 1월 말 기준 40만3284명으로 수급자의 7% 정도다. 이들은 월평균 7만3243원씩 기초연금이 깎인다. 주부 추납자들 가운데 이 때문에 기초연금을 받을 수 있는 커트라인 금액까지만 맞춰 하는 이들이 많다.',\n",
       "  'meta': {'title': '꼬박 국민연금 부어도 57만원, 기초연금 부부 64만원…\"속터져\"',\n",
       "   'subject': '개인연금'}},\n",
       " {'content': '기초연금 관련 이미지. 연합뉴스       연금공단 관계자는 “상담 과정에서 거의 100이면 100 기초연금이 안 깎이려면 어떻게 해야 하나 문의가 많다”며 “가령 예상 연금이 25만원인데 추납이 가능하단 전제로 액수를 60만원까지 올릴 수 있지만 150% 안 넘어야 기초 연금을 타니 맞춰서 해달라고 한다”고 전했다.       국민연금 가입 기간이 길수록 감액돼 성실 가입자를 역차별한다는 비판이 도입 때부터 제기됐다. 기초연금이 오를수록 감액 대상자는 줄 가능성이 있지만, 오히려 이 때문에 연계 감액 취지가 약화한다는 지적도 나온다.      최옥금 연구위원은 “국민연금 수급자의 감액 정도는 기초연금 기준연금액 인상에 따라 적어질 것”이라면서 “이 경우 기초연금 시행 당시 제기됐던 무연금자와 수급자의 형평성 측면에서 문제는 약화할 수 있지만, 연계 감액의 실효성에 대한 문제 제기가 가능하다”고 주장한다.      .      윤석명 한국보건사회연구원 연구위원은 “저소득 지역가입자인 특수형태근로자의 경우 소득도 적은 상태에서 보험료를 100% 부담해 어떻게 해서든지 빠져나가고 싶은 유인이 많을 것”이라며 “통상 연금 가입 기간이 길 가능성이 작고 따라서 절대 연금액은 많지 않을 가능성이 큰데 오래 가입하지 말란 사인을 보내는 것”이라고 지적했다. 또 “제도의 속성이 다른 걸 강제로 연결한 것이며 타당성이 없다”라고 했다. 국민연금은 기여, 기초연금은 비기여 재원도 보험료와 조세로 서로 다른 제도를 연계해 운영하는 것 자체가 문제란 것이다.        새 정부도 이런 지적들을 고려해 연계 감액 제도를 미세조정하고 조금이라도 기초연금을 더 받도록 조치하겠다고 공약했다. 연계 방법을 개선해 삭감액을 줄여보겠다는 것이다.       복지부 관계자는 “(기초연금 인상 시)연계 감액은 줄어도 제도의 효과는 여전히 있다”면서도 “기초연금 인상 과정에서 감액 제도를 다시 논의할 필요가 있다”고 했다. 이 관계자는 “국민연금과 기초연금에 소득 재분배 기능이 모두 있으니 둘의 관계를 다시 생각해야 할 시점이고 그 관계 속에서 연계 감액 제도를 어떻게 할지 논의해야 한다”고 했다.',\n",
       "  'meta': {'title': '꼬박 국민연금 부어도 57만원, 기초연금 부부 64만원…\"속터져\"',\n",
       "   'subject': '개인연금'}}]"
      ]
     },
     "execution_count": 111,
     "metadata": {},
     "output_type": "execute_result"
    }
   ],
   "source": [
    "news_dicts[:3]"
   ]
  },
  {
   "cell_type": "code",
   "execution_count": 109,
   "id": "e022d5de",
   "metadata": {
    "collapsed": true
   },
   "outputs": [
    {
     "name": "stderr",
     "output_type": "stream",
     "text": [
      "C:\\Users\\Nayoun Kim\\AppData\\Roaming\\Python\\Python39\\site-packages\\elasticsearch\\connection\\base.py:190: ElasticsearchDeprecationWarning: Elasticsearch built-in security features are not enabled. Without authentication, your cluster could be accessible to anyone. See https://www.elastic.co/guide/en/elasticsearch/reference/7.15/security-minimal-setup.html to enable security.\n",
      "  warnings.warn(message, category=ElasticsearchDeprecationWarning)\n",
      "C:\\Users\\Nayoun Kim\\anaconda3\\envs\\silverfund\\lib\\site-packages\\numpy\\core\\fromnumeric.py:3474: RuntimeWarning: Mean of empty slice.\n",
      "  return _methods._mean(a, axis=axis, dtype=dtype,\n",
      "C:\\Users\\Nayoun Kim\\anaconda3\\envs\\silverfund\\lib\\site-packages\\numpy\\core\\_methods.py:189: RuntimeWarning: invalid value encountered in double_scalars\n",
      "  ret = ret.dtype.type(ret / rcount)\n"
     ]
    },
    {
     "ename": "ValueError",
     "evalue": "max() arg is an empty sequence",
     "output_type": "error",
     "traceback": [
      "\u001b[1;31m---------------------------------------------------------------------------\u001b[0m",
      "\u001b[1;31mValueError\u001b[0m                                Traceback (most recent call last)",
      "Input \u001b[1;32mIn [109]\u001b[0m, in \u001b[0;36m<cell line: 2>\u001b[1;34m()\u001b[0m\n\u001b[0;32m      1\u001b[0m document_store\u001b[38;5;241m.\u001b[39mdelete_documents()\n\u001b[1;32m----> 2\u001b[0m \u001b[43mdocument_store\u001b[49m\u001b[38;5;241;43m.\u001b[39;49m\u001b[43mdescribe_documents\u001b[49m\u001b[43m(\u001b[49m\u001b[43m)\u001b[49m\n",
      "File \u001b[1;32m~\\anaconda3\\envs\\silverfund\\lib\\site-packages\\haystack\\document_stores\\base.py:594\u001b[0m, in \u001b[0;36mBaseDocumentStore.describe_documents\u001b[1;34m(self, index)\u001b[0m\n\u001b[0;32m    588\u001b[0m docs \u001b[38;5;241m=\u001b[39m \u001b[38;5;28mself\u001b[39m\u001b[38;5;241m.\u001b[39mget_all_documents(index)\n\u001b[0;32m    590\u001b[0m l \u001b[38;5;241m=\u001b[39m [\u001b[38;5;28mlen\u001b[39m(d\u001b[38;5;241m.\u001b[39mcontent) \u001b[38;5;28;01mfor\u001b[39;00m d \u001b[38;5;129;01min\u001b[39;00m docs]\n\u001b[0;32m    591\u001b[0m stats \u001b[38;5;241m=\u001b[39m {\n\u001b[0;32m    592\u001b[0m     \u001b[38;5;124m\"\u001b[39m\u001b[38;5;124mcount\u001b[39m\u001b[38;5;124m\"\u001b[39m: \u001b[38;5;28mlen\u001b[39m(docs),\n\u001b[0;32m    593\u001b[0m     \u001b[38;5;124m\"\u001b[39m\u001b[38;5;124mchars_mean\u001b[39m\u001b[38;5;124m\"\u001b[39m: np\u001b[38;5;241m.\u001b[39mmean(l),\n\u001b[1;32m--> 594\u001b[0m     \u001b[38;5;124m\"\u001b[39m\u001b[38;5;124mchars_max\u001b[39m\u001b[38;5;124m\"\u001b[39m: \u001b[38;5;28;43mmax\u001b[39;49m\u001b[43m(\u001b[49m\u001b[43ml\u001b[49m\u001b[43m)\u001b[49m,\n\u001b[0;32m    595\u001b[0m     \u001b[38;5;124m\"\u001b[39m\u001b[38;5;124mchars_min\u001b[39m\u001b[38;5;124m\"\u001b[39m: \u001b[38;5;28mmin\u001b[39m(l),\n\u001b[0;32m    596\u001b[0m     \u001b[38;5;124m\"\u001b[39m\u001b[38;5;124mchars_median\u001b[39m\u001b[38;5;124m\"\u001b[39m: np\u001b[38;5;241m.\u001b[39mmedian(l),\n\u001b[0;32m    597\u001b[0m }\n\u001b[0;32m    598\u001b[0m \u001b[38;5;28;01mreturn\u001b[39;00m stats\n",
      "\u001b[1;31mValueError\u001b[0m: max() arg is an empty sequence"
     ]
    }
   ],
   "source": [
    "# document_store.delete_documents()\n",
    "# document_store.describe_documents()"
   ]
  },
  {
   "cell_type": "code",
   "execution_count": 112,
   "id": "61fea216",
   "metadata": {},
   "outputs": [],
   "source": [
    "document_store.write_documents(news_dicts)"
   ]
  },
  {
   "cell_type": "code",
   "execution_count": 113,
   "id": "90f0bcfc",
   "metadata": {},
   "outputs": [],
   "source": [
    "from haystack.nodes import BM25Retriever\n",
    "retriever = BM25Retriever(document_store=document_store)"
   ]
  },
  {
   "cell_type": "code",
   "execution_count": 141,
   "id": "3c66c524",
   "metadata": {
    "scrolled": true
   },
   "outputs": [
    {
     "name": "stderr",
     "output_type": "stream",
     "text": [
      "INFO - haystack.modeling.utils -  Using devices: CPU\n",
      "INFO - haystack.modeling.utils -  Number of GPUs: 0\n"
     ]
    }
   ],
   "source": [
    "reader = TransformersReader(model_name_or_path='monologg/koelectra-small-v2-distilled-korquad-384', tokenizer='monologg/koelectra-small-v2-discriminator', context_window_size=800)"
   ]
  },
  {
   "cell_type": "code",
   "execution_count": 177,
   "id": "3e350c00",
   "metadata": {},
   "outputs": [],
   "source": [
    "from haystack.pipelines import ExtractiveQAPipeline\n",
    "\n",
    "pipe = ExtractiveQAPipeline(reader, retriever)"
   ]
  },
  {
   "cell_type": "code",
   "execution_count": 143,
   "id": "3102d26a",
   "metadata": {},
   "outputs": [
    {
     "name": "stderr",
     "output_type": "stream",
     "text": [
      "C:\\Users\\Nayoun Kim\\AppData\\Roaming\\Python\\Python39\\site-packages\\elasticsearch\\connection\\base.py:190: ElasticsearchDeprecationWarning: Elasticsearch built-in security features are not enabled. Without authentication, your cluster could be accessible to anyone. See https://www.elastic.co/guide/en/elasticsearch/reference/7.15/security-minimal-setup.html to enable security.\n",
      "  warnings.warn(message, category=ElasticsearchDeprecationWarning)\n",
      "C:\\Users\\Nayoun Kim\\anaconda3\\envs\\silverfund\\lib\\site-packages\\transformers\\tokenization_utils_base.py:707: VisibleDeprecationWarning: Creating an ndarray from ragged nested sequences (which is a list-or-tuple of lists-or-tuples-or ndarrays with different lengths or shapes) is deprecated. If you meant to do this, you must specify 'dtype=object' when creating the ndarray.\n",
      "  tensor = as_tensor(value)\n",
      "C:\\Users\\Nayoun Kim\\anaconda3\\envs\\silverfund\\lib\\site-packages\\transformers\\pipelines\\question_answering.py:297: VisibleDeprecationWarning: Creating an ndarray from ragged nested sequences (which is a list-or-tuple of lists-or-tuples-or ndarrays with different lengths or shapes) is deprecated. If you meant to do this, you must specify 'dtype=object' when creating the ndarray.\n",
      "  p_mask = np.asarray(\n"
     ]
    }
   ],
   "source": [
    "prediction = pipe.run(\n",
    "    query = '국민연금 적립금은 언제 소진되나요?',\n",
    "    params={\"Retriever\": {\"top_k\": 10}, \"Reader\": {\"top_k\": 1}}\n",
    ")"
   ]
  },
  {
   "cell_type": "code",
   "execution_count": 181,
   "id": "684becf2",
   "metadata": {},
   "outputs": [
    {
     "name": "stdout",
     "output_type": "stream",
     "text": [
      "\n",
      "Query: 국민연금 적립금은 언제 소진되나요?\n",
      "Answers:\n",
      "[   {   'answer': '2055년',\n",
      "        'context': '자면 국민연금은 노후소득 보장의 핵심 기둥이고, 반드시 지급되어야 한다. 우리가 논의해야 할 것은 그 '\n",
      "                   '책임을 누가 언제 어떻게 나눠질 것인가의 문제다. 재정의 지속가능성, 높은 노인빈곤율에 대응하는 노후소득 '\n",
      "                   '보장 강화는 선후의 문제가 아니라 함께 해결해야 할 과제다.연금이 고차방정식인 이유는 현재와 미래의 '\n",
      "                   \"문제를 함께 다뤄야 하기 때문이다. 흔히들 세대 문제라고 하는데 이때 세대는 '노인과 청년' 둘이 \"\n",
      "                   '아니다. 현재 노인인 세대, 미래에 노인이 될 현재의 청장년 세대, 현재의 아동과 아직 태어나지 않은 '\n",
      "                   '아이들로 구성될 미래의 청장년 세대 모두 관련되어 있다. 따라서 국민연금은 우리세대와 미래세대의 공존을 '\n",
      "                   '상징하는 제도이기도 하다.재정 건전성 유지의 필요성현행 국민연금 제도는 받는 급여에 비해 내는 기여가 '\n",
      "                   '낮아 수지불균형이 무척 크다. 게다가 인구는 빠르게 줄어들고 고령화는 급속도로 진행되고 있다. 지금 '\n",
      "                   '상태를 그대로 두면 미래세대는 수지불균형 문제와 초고령화 부담을 함께 지게 된다. 국민연금법은 이런 '\n",
      "                   '문제를 해결하기 위해 장기적으로 재정 균형을 유지할 수 있도록 급여 수준과 연금보험료를 조정하라고 법에 '\n",
      "                   '명시하고 있다.재정 계산은 5년에 한 번 이뤄지고 현재의 법·제도가 유지된다는 가정하에 70년 전망치를 '\n",
      "                   '제시한다. 2003년 이후 4차례 실시됐고, 올해 5차 재정 추계가 시작될 예정이다. 지난 4차 재정 '\n",
      "                   '추계 결과 2042년부터 재정수지 적자가 발생하고, 2057년 적립기금이 소진될 것으로 전망된 바 있다. '\n",
      "                   '2020년 국회예산정책처의 분석에 따르면 국민연금의 재정수지는 2039년 적자로 전환되고, 적립기금은 '\n",
      "                   '2055년 소진될 전망이다.재정 분석은 인구 변수, 거시경제 변수, 제도 변수 등을 반영하는데 우리나라의 '\n",
      "                   '인구구조 상 5차 재정 추계 결과는 이와 큰 차이가 없을 것으로 보인다. 과장할 것도 없고 축소할 것도 '\n",
      "                   '없다. 수지불균형은 사실이고, 아무런 변화 없이 현재의 상황이 계속된다면 약 30여 년 뒤 적립금이 '\n",
      "                   '소진될 위기에 처하게 된다. 국민연금의 지속가능성을 위해 재정건전성 유지는 중요하다. 연금개혁 방안에 '\n",
      "                   '대해 생산적 토론을 하려면 사실을 있는 그대로 인식해야 한다.',\n",
      "        'score': 0.9999567270278931}]\n"
     ]
    }
   ],
   "source": [
    "from haystack.utils import print_answers\n",
    "\n",
    "prediction = pipe.run(\n",
    "     query = '국민연금 적립금은 언제 소진되나요?',\n",
    "    params={\"Retriever\": {\"top_k\": 10}, \"Reader\": {\"top_k\": 1}}\n",
    ")\n",
    "print_answers(prediction, details='medium')"
   ]
  },
  {
   "cell_type": "code",
   "execution_count": null,
   "id": "71bc6dce",
   "metadata": {},
   "outputs": [],
   "source": []
  }
 ],
 "metadata": {
  "kernelspec": {
   "display_name": "silverfund",
   "language": "python",
   "name": "silverfund"
  },
  "language_info": {
   "codemirror_mode": {
    "name": "ipython",
    "version": 3
   },
   "file_extension": ".py",
   "mimetype": "text/x-python",
   "name": "python",
   "nbconvert_exporter": "python",
   "pygments_lexer": "ipython3",
   "version": "3.9.12"
  }
 },
 "nbformat": 4,
 "nbformat_minor": 5
}
