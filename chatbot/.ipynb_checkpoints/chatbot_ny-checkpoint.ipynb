{
 "cells": [
  {
   "cell_type": "code",
   "execution_count": 302,
   "id": "f4c6e482",
   "metadata": {},
   "outputs": [],
   "source": [
    "import pandas as pd\n",
    "import pymongo\n",
    "from transformers import ElectraTokenizer\n",
    "from haystack.document_stores import ElasticsearchDocumentStore\n",
    "from haystack.nodes import BM25Retriever\n",
    "from haystack.nodes import TransformersReader\n",
    "from haystack.pipelines import ExtractiveQAPipeline\n",
    "from haystack.utils import print_answers"
   ]
  },
  {
   "cell_type": "code",
   "execution_count": 318,
   "id": "7a37d95b",
   "metadata": {},
   "outputs": [
    {
     "name": "stderr",
     "output_type": "stream",
     "text": [
      "C:\\Users\\Nayoun Kim\\AppData\\Roaming\\Python\\Python39\\site-packages\\elasticsearch\\connection\\base.py:190: ElasticsearchDeprecationWarning: Elasticsearch built-in security features are not enabled. Without authentication, your cluster could be accessible to anyone. See https://www.elastic.co/guide/en/elasticsearch/reference/7.15/security-minimal-setup.html to enable security.\n",
      "  warnings.warn(message, category=ElasticsearchDeprecationWarning)\n"
     ]
    },
    {
     "name": "stdout",
     "output_type": "stream",
     "text": [
      "MongoDB - ElasticSearch 연동이 완료되었습니다.\n"
     ]
    }
   ],
   "source": [
    "class SyncStore:  # news_DB로 이동\n",
    "    def __init__(self):\n",
    "        self.client = pymongo.MongoClient()\n",
    "        self.mongo_data = self.client['pension']['news'].find()\n",
    "        self.news_df = pd.DataFrame(self.mongo_data)\n",
    "        \n",
    "        self.update_document_store(self.news_df)\n",
    "        \n",
    "    def __del__(self):\n",
    "        self.client.close()\n",
    "        \n",
    "    def update_document_store(self, df):\n",
    "        document_store = ElasticsearchDocumentStore(host='localhost', username='root', password='1111', index='document')\n",
    "        document_store.delete_documents()\n",
    "        \n",
    "        news_list = []\n",
    "        for i in range(len(df)):\n",
    "            data = df.iloc[i]\n",
    "            temp = {}\n",
    "            article = data['article'].strip()\n",
    "            temp['content'] = article\n",
    "            temp['meta'] = {'title': data['title'], 'subject': data['subject'], 'link': data['link']}\n",
    "            news_list.append(temp)\n",
    "            \n",
    "        document_store.write_documents(news_list)\n",
    "        print('MongoDB - ElasticSearch 연동이 완료되었습니다.')\n",
    "        \n",
    "sync = SyncStore()"
   ]
  },
  {
   "cell_type": "code",
   "execution_count": 309,
   "id": "572f26de",
   "metadata": {},
   "outputs": [],
   "source": [
    "class QAmodel:  # 질문에 대한 답변만 출력 (1개) \n",
    "    def build_QA_model(self):\n",
    "        tokenizer = ElectraTokenizer.from_pretrained('monologg/koelectra-small-v3-discriminator')\n",
    "        document_store = ElasticsearchDocumentStore(host='localhost', username='root', password='1111', index='document')\n",
    "        retriever = BM25Retriever(document_store=document_store)\n",
    "        reader = TransformersReader(model_name_or_path='monologg/koelectra-small-v2-distilled-korquad-384', \n",
    "                                    tokenizer='monologg/koelectra-small-v2-discriminator', \n",
    "                                    context_window_size=500,\n",
    "                                    max_seq_len=500, \n",
    "                                    doc_stride=300)\n",
    "        \n",
    "        pipe = ExtractiveQAPipeline(reader, retriever)\n",
    "        \n",
    "        return pipe\n",
    "    \n",
    "    def input_question(self):\n",
    "        query = input('질문을 입력하세요: ')\n",
    "        pipe = self.build_QA_model()\n",
    "        prediction = pipe.run(query=query,\n",
    "                              params={\"Retriever\": {\"top_k\": 10}, \"Reader\": {\"top_k\": 1}})\n",
    "        \n",
    "        return prediction\n",
    "    \n",
    "    def get_answer(self):\n",
    "        prediction = self.input_question()\n",
    "        answer = prediction['answers'][0].answer\n",
    "        context = prediction['answers'][0].context\n",
    "        \n",
    "        start = prediction['answers'][0].offsets_in_context[0].start - 100\n",
    "        if start < 0:\n",
    "            start = 0\n",
    "        end = prediction['answers'][0].offsets_in_context[0].start + 100\n",
    "\n",
    "        cut = context[start:end]\n",
    "        \n",
    "        for line in context.split('. '):\n",
    "            if line in cut and answer in line:\n",
    "                print(line+'.', end=' ')"
   ]
  },
  {
   "cell_type": "code",
   "execution_count": 1,
   "id": "a07f91f4",
   "metadata": {},
   "outputs": [],
   "source": [
    "class NewsSearcher:  # 질문에 대한 답변과 출처 기사 링크 제공 (3개)\n",
    "    def build_QA_model(self):\n",
    "        tokenizer = ElectraTokenizer.from_pretrained('monologg/koelectra-small-v3-discriminator')\n",
    "        document_store = ElasticsearchDocumentStore(host='localhost', username='root', password='1111', index='document')\n",
    "        retriever = BM25Retriever(document_store=document_store)\n",
    "        reader = TransformersReader(model_name_or_path='monologg/koelectra-small-v2-distilled-korquad-384', \n",
    "                                    tokenizer='monologg/koelectra-small-v2-discriminator', \n",
    "                                    context_window_size=500,\n",
    "                                    max_seq_len=500, \n",
    "                                    doc_stride=300)\n",
    "        \n",
    "        pipe = ExtractiveQAPipeline(reader, retriever)\n",
    "        \n",
    "        return pipe\n",
    "    \n",
    "    def input_question(self):\n",
    "        query = input('질문을 입력하세요: ')\n",
    "        pipe = self.build_QA_model()\n",
    "        prediction = pipe.run(query=query,\n",
    "                              params={\"Retriever\": {\"top_k\": 10}, \"Reader\": {\"top_k\": 3}})\n",
    "        \n",
    "        return prediction\n",
    "    \n",
    "    def get_answer(self):\n",
    "        prediction = self.input_question()\n",
    "        links = []\n",
    "        \n",
    "        for i in range(3):\n",
    "            answer = prediction['answers'][i].answer\n",
    "            context = prediction['answers'][i].context\n",
    "            title = prediction['answers'][i].meta['title']\n",
    "            link = prediction['answers'][i].meta['link']\n",
    "            \n",
    "            if link in links:\n",
    "                continue\n",
    "            \n",
    "            print(f'=====추천 답변=====')\n",
    "            \n",
    "            start = prediction['answers'][i].offsets_in_context[0].start - 100\n",
    "            if start < 0:\n",
    "                start = 0\n",
    "            end = prediction['answers'][i].offsets_in_context[0].start + 100\n",
    "\n",
    "            cut = context[start:end]\n",
    "        \n",
    "            for line in context.split('. '):\n",
    "                if line in cut and answer in line:\n",
    "                    print(line+'.', end=' ')\n",
    "            \n",
    "            print()\n",
    "            print(title)\n",
    "            print(link)\n",
    "            links.append(link)"
   ]
  },
  {
   "cell_type": "code",
   "execution_count": 312,
   "id": "0ac70c5a",
   "metadata": {},
   "outputs": [],
   "source": [
    "qa = QAmodel()"
   ]
  },
  {
   "cell_type": "code",
   "execution_count": 314,
   "id": "19239246",
   "metadata": {
    "scrolled": true
   },
   "outputs": [
    {
     "name": "stdout",
     "output_type": "stream",
     "text": [
      "질문을 입력하세요: 20대를 위한 연금 상품이 있나요?\n"
     ]
    },
    {
     "name": "stderr",
     "output_type": "stream",
     "text": [
      "INFO - haystack.modeling.utils -  Using devices: CPU\n",
      "INFO - haystack.modeling.utils -  Number of GPUs: 0\n"
     ]
    },
    {
     "name": "stdout",
     "output_type": "stream",
     "text": [
      "20대를 위한 TDF2055도 나왔다. "
     ]
    }
   ],
   "source": [
    "qa.get_answer()"
   ]
  },
  {
   "cell_type": "code",
   "execution_count": 325,
   "id": "1c1bb2e4",
   "metadata": {},
   "outputs": [],
   "source": [
    "ns = NewsSearcher()"
   ]
  },
  {
   "cell_type": "code",
   "execution_count": 326,
   "id": "f87b495e",
   "metadata": {
    "scrolled": true
   },
   "outputs": [
    {
     "name": "stdout",
     "output_type": "stream",
     "text": [
      "질문을 입력하세요: 연금저축 세제 한도는 얼마인가요?\n"
     ]
    },
    {
     "name": "stderr",
     "output_type": "stream",
     "text": [
      "INFO - haystack.modeling.utils -  Using devices: CPU\n",
      "INFO - haystack.modeling.utils -  Number of GPUs: 0\n"
     ]
    },
    {
     "name": "stdout",
     "output_type": "stream",
     "text": [
      "=====추천 답변=====\n",
      "그런데 연금저축의 세액공제 한도는 연간 400만원이다. \n",
      "7월 디폴트옵션 도입되는 퇴직연금… 연금 백만장자 나올까\n",
      "https://news.naver.com/main/read.naver?mode=LSD&mid=sec&sid1=004&oid=009&aid=0004915568\n"
     ]
    }
   ],
   "source": [
    "ns.get_answer()"
   ]
  },
  {
   "cell_type": "code",
   "execution_count": null,
   "id": "3703146d",
   "metadata": {},
   "outputs": [],
   "source": []
  }
 ],
 "metadata": {
  "kernelspec": {
   "display_name": "silverfund",
   "language": "python",
   "name": "silverfund"
  },
  "language_info": {
   "codemirror_mode": {
    "name": "ipython",
    "version": 3
   },
   "file_extension": ".py",
   "mimetype": "text/x-python",
   "name": "python",
   "nbconvert_exporter": "python",
   "pygments_lexer": "ipython3",
   "version": "3.9.12"
  }
 },
 "nbformat": 4,
 "nbformat_minor": 5
}
