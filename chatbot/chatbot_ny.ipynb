{
 "cells": [
  {
   "cell_type": "code",
   "execution_count": 2,
   "id": "f4c6e482",
   "metadata": {},
   "outputs": [],
   "source": [
    "import pandas as pd\n",
    "import numpy as np\n",
    "import requests\n",
    "from bs4 import BeautifulSoup\n",
    "from pymongo import MongoClient\n",
    "import pymongo\n",
    "from datetime import datetime\n",
    "from dateutil.relativedelta import relativedelta\n",
    "from haystack.document_stores import ElasticsearchDocumentStore\n",
    "from haystack.nodes import BM25Retriever\n",
    "from haystack.nodes import TransformersReader\n",
    "from haystack.pipelines import ExtractiveQAPipeline\n",
    "from haystack.utils import print_answers\n",
    "import warnings \n",
    "\n",
    "warnings.filterwarnings(action='ignore')"
   ]
  },
  {
   "cell_type": "code",
   "execution_count": 3,
   "id": "3eb4996f",
   "metadata": {},
   "outputs": [],
   "source": [
    "class DBUpdater:\n",
    "    def __init__(self):\n",
    "        self.connection = pymongo.MongoClient()\n",
    "        self.db_pension = self.connection.pension\n",
    "\n",
    "        print(self.db_pension)\n",
    "\n",
    "        self.db_pension_news = self.db_pension.news\n",
    "\n",
    "        print(self.db_pension_news)\n",
    "        \n",
    "    def __del__(self):\n",
    "        self.client.close()\n",
    "    \n",
    "    def update_news(self, pages=10):\n",
    "        now = datetime.today()\n",
    "        last = now - relativedelta(years=1)\n",
    "\n",
    "        now = now.strftime('%Y.%m.%d')\n",
    "        last = last.strftime('%Y.%m.%d')\n",
    "        \n",
    "        search = ['ETF', 'IRP', '연금저축', '연금상품',\n",
    "          '증권', '수익률', '수령', '납입', '한도',\n",
    "          '이전', '사망', '노후', '출금', '세제',\n",
    "          '연령', '세대', '2030', '퇴직',\n",
    "          '국민연금', '연금개혁', '운용', '펀드',\n",
    "          '종목', '가입', '수수료', '가입서류', '연금계좌',\n",
    "          '원금보장', '비교', '해지']\n",
    "\n",
    "        base = ['\"개인연금\"', '\"퇴직연금\"']\n",
    "        subjects = base + [f'{b} +'+s for b in base for s in search]\n",
    "        \n",
    "        link_list = set()\n",
    "\n",
    "        for row in self.db_pension_news.find():\n",
    "            link_list.add(row['link'])\n",
    "        \n",
    "        for subject in subjects:\n",
    "            for i in range(0, pages):\n",
    "                start = 1 + (i*10)\n",
    "    \n",
    "                headers = {\"User-Agent\": \"Mozilla/5.0 (Windows NT 10.0; Win64; x64) Chrome/98.0.4758.102\"}\n",
    "                url = f'https://search.naver.com/search.naver?where=news&sm=tab_pge&query={subject}&sort=0&photo=0&field=0&pd=5&ds={last}&de={now}&mynews=0&office_type=0&office_section_code=0&news_office_checked=&nso=so:r,p:1y,a:all&start={start}'\n",
    "\n",
    "                res = requests.get(url)\n",
    "                res.raise_for_status()\n",
    "\n",
    "                soup = BeautifulSoup(res.text, 'lxml')\n",
    "\n",
    "                ul = soup.find('ul', {'class': 'list_news'})\n",
    "                links = ul.find_all('a', {'class': 'info'})\n",
    "\n",
    "                for link in links:\n",
    "                    if link not in link_list and '네이버' in link.text:\n",
    "                        url_a = link['href']\n",
    "                        try:\n",
    "                            res_a = requests.get(url_a, headers=headers)\n",
    "                            soup_a = BeautifulSoup(res_a.text, 'lxml')\n",
    "                            title = soup_a.find('h2', {'class': 'media_end_head_headline'})\n",
    "                            date = soup_a.find('span', {'class': 'media_end_head_info_datestamp_time _ARTICLE_DATE_TIME'})\n",
    "                            article = soup_a.find('div', {'class': 'newsct_article'})\n",
    "                            article = article.text.replace('\\t\\t', '\\n\\n').split('\\n\\n')\n",
    "                            for p in article:\n",
    "                                p = p.replace('\\n', ' ').replace('\\t', '').replace('\\xa0', ' ').strip()\n",
    "                                if len(p) < 30:\n",
    "                                    continue\n",
    "                                else:\n",
    "                                    temp = dict()\n",
    "                                    temp['title'] = title.text\n",
    "                                    temp['date'] = date.text.split()[0][:-1]\n",
    "                                    temp['article'] = p\n",
    "                                    temp['link'] = url_a\n",
    "                                    temp['subject'] = ''.join(subject.replace('\"', '').split('+'))\n",
    "                                    self.db_pension_news.insert_one(temp)\n",
    "                                    link_list.add(url_a)\n",
    "                        except:\n",
    "                            pass\n",
    "                \n",
    "            print(f'{subject} is done!')\n",
    "        print('Update: END')\n",
    "        \n",
    "    def delete_old_news(self):\n",
    "        old = datetime.today() - relativedelta(years=1)\n",
    "        old = old.strftime('%Y.%m.%d') \n",
    "        self.db_pension_news.delete_many({\"date\": {\"$lt\": old}}) \n",
    "        print('Delete: END')\n",
    "        \n",
    "    def sync_data(self):\n",
    "        mongo_data = self.client['pension']['news'].find()\n",
    "        news_df = pd.DataFrame(self.mongo_data)\n",
    "        \n",
    "        self.update_document_store(news_df)\n",
    "        \n",
    "    def unpdate_document_store(self, df):\n",
    "        document_store = ElasticsearchDocumentStore(host='localhost', username='root', password='1111', index='document')\n",
    "        document_store.delete_documents()\n",
    "        \n",
    "        news_list = []\n",
    "        for i in range(len(df)):\n",
    "            data = df.iloc[i]\n",
    "            temp = {}\n",
    "            article = data['article'].strip()\n",
    "            temp['content'] = article\n",
    "            temp['meta'] = {'title': data['title'], 'subject': data['subject'], 'link': data['link']}\n",
    "            news_list.append(temp)\n",
    "            \n",
    "        document_store.write_documents(news_list)\n",
    "        print('MongoDB - ElasticSearch 연동이 완료되었습니다.')        \n",
    "        \n",
    "    def execute_daily(self):\n",
    "        try:\n",
    "            with open('config.json', 'r') as in_file:\n",
    "                config = json.load(inf_file)\n",
    "                pages_to_fetch = config['pages_to_fetch']\n",
    "        except FileNotFoundError:\n",
    "            with open('config.json', 'w') as out_file:\n",
    "                pages_to_fetch = 5\n",
    "                config = {'pages_to_fetch': pages_to_fetch}\n",
    "                json.dump(config, out_file)\n",
    "                \n",
    "        self.update_daily_price(pages_to_fetch)\n",
    "        self.delete_old_news()\n",
    "        self.sync_data()\n",
    "        \n",
    "        today = datetime.now()\n",
    "        lastday = calendar.monthrange(today.year, today.month)[1]\n",
    "        \n",
    "        if today.month == 12 and today.day == lastday:\n",
    "            nextday = today.replace(year=today.year+1, month=1, day=1, hour=3, minute=0, second=0)\n",
    "        elif today.day == lastday:\n",
    "            nextday = today.replace(month=today.month+1, day=1, hour=3, minute=0, second=0)\n",
    "        else:\n",
    "            nextday = today.replace(day=today.day+1, hour=3, minute=0, second=0)\n",
    "            \n",
    "        diff = nextday - today\n",
    "        secs = diff.seconds\n",
    "        \n",
    "        t = Timer(secs, self.execute_daily)\n",
    "        \n",
    "        print(f\"\\nWaiting for next update ({nextday.strftime('%Y-%m-%d %H:%M')})\\n\")\n",
    "        \n",
    "        t.start()      "
   ]
  },
  {
   "cell_type": "code",
   "execution_count": 4,
   "id": "4264cccb",
   "metadata": {},
   "outputs": [
    {
     "name": "stdout",
     "output_type": "stream",
     "text": [
      "Database(MongoClient(host=['localhost:27017'], document_class=dict, tz_aware=False, connect=True), 'pension')\n",
      "Collection(Database(MongoClient(host=['localhost:27017'], document_class=dict, tz_aware=False, connect=True), 'pension'), 'news')\n"
     ]
    }
   ],
   "source": [
    "dbu = DBUpdater()\n",
    "# dbu.execute_daily()"
   ]
  },
  {
   "cell_type": "code",
   "execution_count": 24,
   "id": "572f26de",
   "metadata": {},
   "outputs": [],
   "source": [
    "class QAmodel:  # 질문에 대한 답변만 출력 (1개) \n",
    "    def build_QA_model(self):\n",
    "        document_store = ElasticsearchDocumentStore(host='localhost', username='root', password='1111', index='document')\n",
    "        retriever = BM25Retriever(document_store=document_store)\n",
    "        reader = TransformersReader(model_name_or_path='monologg/koelectra-small-v2-distilled-korquad-384', \n",
    "                                    tokenizer='monologg/koelectra-small-v2-discriminator', \n",
    "                                    context_window_size=500,\n",
    "                                    max_seq_len=500, \n",
    "                                    doc_stride=300,\n",
    "                                    use_gpu=2)\n",
    "        \n",
    "        pipe = ExtractiveQAPipeline(reader, retriever)\n",
    "        \n",
    "        return pipe\n",
    "    \n",
    "    def input_question(self):\n",
    "        query = input('질문을 입력하세요: ')\n",
    "        pipe = self.build_QA_model()\n",
    "        prediction = pipe.run(query=query,\n",
    "                              params={\"Retriever\": {\"top_k\": 10}, \"Reader\": {\"top_k\": 1}})\n",
    "        \n",
    "        return prediction\n",
    "    \n",
    "    def get_answer(self):\n",
    "        prediction = self.input_question()\n",
    "        answer = prediction['answers'][0].answer\n",
    "        context = prediction['answers'][0].context\n",
    "        \n",
    "        start = prediction['answers'][0].offsets_in_context[0].start - 200\n",
    "        if start < 0:\n",
    "            start = 0\n",
    "        end = prediction['answers'][0].offsets_in_context[0].start + 200\n",
    "\n",
    "        cut = context[start:end]\n",
    "        \n",
    "        text = ''\n",
    "        for line in context.split('. '):\n",
    "            if line in cut and answer in line:\n",
    "                text += line+'. '\n",
    "                \n",
    "        if len(text) == 0:\n",
    "            print(answer)\n",
    "        else:\n",
    "            print(text)"
   ]
  },
  {
   "cell_type": "code",
   "execution_count": 33,
   "id": "a07f91f4",
   "metadata": {},
   "outputs": [],
   "source": [
    "class NewsSearcher:  # 질문에 대한 답변과 출처 기사 링크 제공 (3개)\n",
    "    def build_QA_model(self):\n",
    "        tokenizer = ElectraTokenizer.from_pretrained('monologg/koelectra-small-v3-discriminator')\n",
    "        document_store = ElasticsearchDocumentStore(host='localhost', username='root', password='1111', index='document')\n",
    "        retriever = BM25Retriever(document_store=document_store)\n",
    "        reader = TransformersReader(model_name_or_path='monologg/koelectra-small-v2-distilled-korquad-384', \n",
    "                                    tokenizer='monologg/koelectra-small-v2-discriminator', \n",
    "                                    context_window_size=500,\n",
    "                                    max_seq_len=500, \n",
    "                                    doc_stride=300)\n",
    "        \n",
    "        pipe = ExtractiveQAPipeline(reader, retriever)\n",
    "        \n",
    "        return pipe\n",
    "    \n",
    "    def input_question(self):\n",
    "        query = input('질문을 입력하세요: ')\n",
    "        pipe = self.build_QA_model()\n",
    "        prediction = pipe.run(query=query,\n",
    "                              params={\"Retriever\": {\"top_k\": 10}, \"Reader\": {\"top_k\": 3}})\n",
    "        \n",
    "        return prediction\n",
    "    \n",
    "    def get_answer(self):\n",
    "        prediction = self.input_question()\n",
    "        links = []\n",
    "        \n",
    "        for i in range(3):\n",
    "            answer = prediction['answers'][i].answer\n",
    "            context = prediction['answers'][i].context\n",
    "            title = prediction['answers'][i].meta['title']\n",
    "            link = prediction['answers'][i].meta['link']\n",
    "            \n",
    "            if link in links:\n",
    "                continue\n",
    "            \n",
    "            print(f'\\n=====추천 뉴스=====')\n",
    "            \n",
    "            start = prediction['answers'][i].offsets_in_context[0].start - 200\n",
    "            if start < 0:\n",
    "                start = 0\n",
    "            end = prediction['answers'][i].offsets_in_context[0].start + 200\n",
    "\n",
    "            cut = context[start:end]\n",
    "        \n",
    "            text = ''\n",
    "            for line in context.split('. '):\n",
    "                if line in cut and answer in line:\n",
    "                    text += line+'. '\n",
    "                    \n",
    "            if len(text) == 0:\n",
    "                print(answer + '...[더보기]')\n",
    "            else:\n",
    "                print(text[:50] + '...[더보기]')\n",
    "                \n",
    "            print(title)\n",
    "            print(link)\n",
    "            links.append(link)"
   ]
  },
  {
   "cell_type": "code",
   "execution_count": 15,
   "id": "0ac70c5a",
   "metadata": {},
   "outputs": [],
   "source": [
    "qa = QAmodel()"
   ]
  },
  {
   "cell_type": "code",
   "execution_count": 64,
   "id": "19239246",
   "metadata": {
    "scrolled": true
   },
   "outputs": [
    {
     "name": "stdout",
     "output_type": "stream",
     "text": [
      "질문을 입력하세요: 20대를 위한 연금상품은?\n"
     ]
    },
    {
     "name": "stderr",
     "output_type": "stream",
     "text": [
      "INFO - haystack.modeling.utils -  Using devices: CPU\n",
      "INFO - haystack.modeling.utils -  Number of GPUs: 0\n"
     ]
    },
    {
     "name": "stdout",
     "output_type": "stream",
     "text": [
      "20대를 위한 TDF2055도 나왔다. \n"
     ]
    }
   ],
   "source": [
    "qa.get_answer()"
   ]
  },
  {
   "cell_type": "code",
   "execution_count": 65,
   "id": "192c52a5",
   "metadata": {},
   "outputs": [
    {
     "name": "stdout",
     "output_type": "stream",
     "text": [
      "질문을 입력하세요: 국민연금 적립금은 언제 소진되나요?\n"
     ]
    },
    {
     "name": "stderr",
     "output_type": "stream",
     "text": [
      "INFO - haystack.modeling.utils -  Using devices: CPU\n",
      "INFO - haystack.modeling.utils -  Number of GPUs: 0\n"
     ]
    },
    {
     "name": "stdout",
     "output_type": "stream",
     "text": [
      "국회예산정책처에 따르면, 국민연금 재정수지(수입-지출)는 2039년 적자로 전환되고 적립금은 2055년 소진될 전망이다. \n"
     ]
    }
   ],
   "source": [
    "qa.get_answer()"
   ]
  },
  {
   "cell_type": "code",
   "execution_count": 69,
   "id": "b809930a",
   "metadata": {},
   "outputs": [
    {
     "name": "stdout",
     "output_type": "stream",
     "text": [
      "질문을 입력하세요: 개인연금 수령 시기는?\n"
     ]
    },
    {
     "name": "stderr",
     "output_type": "stream",
     "text": [
      "INFO - haystack.modeling.utils -  Using devices: CPU\n",
      "INFO - haystack.modeling.utils -  Number of GPUs: 0\n"
     ]
    },
    {
     "name": "stdout",
     "output_type": "stream",
     "text": [
      "개인연금의 경우 55세가 되면 수령 방법과 기간을 정해야 한다. \n"
     ]
    }
   ],
   "source": [
    "qa.get_answer()"
   ]
  },
  {
   "cell_type": "code",
   "execution_count": 31,
   "id": "1c1bb2e4",
   "metadata": {},
   "outputs": [],
   "source": [
    "ns = NewsSearcher()"
   ]
  },
  {
   "cell_type": "code",
   "execution_count": 75,
   "id": "3703146d",
   "metadata": {
    "scrolled": false
   },
   "outputs": [
    {
     "name": "stdout",
     "output_type": "stream",
     "text": [
      "질문을 입력하세요: 연금저축 세액공제 한도는?\n"
     ]
    },
    {
     "name": "stderr",
     "output_type": "stream",
     "text": [
      "INFO - haystack.modeling.utils -  Using devices: CPU\n",
      "INFO - haystack.modeling.utils -  Number of GPUs: 0\n"
     ]
    },
    {
     "name": "stdout",
     "output_type": "stream",
     "text": [
      "\n",
      "=====추천 뉴스=====\n",
      "반면 연금저축은 언제든 원하는 만큼 인출이 가능하지만 세액공제 한도가 400만원에 불과해 손해를 보는 느낌을 지울 수가 없다.노후대비 목적의 적극적인 자산증식의 필요성이 대두되며 IRP, 연금저축 등에 대한 관심도 높아지고 있다. \n",
      "20대부터 하는 노후대비… IRP·연금저축 활용법\n",
      "https://news.naver.com/main/read.naver?mode=LSD&mid=sec&sid1=101&oid=005&aid=0001481252\n",
      "\n",
      "=====추천 뉴스=====\n",
      "  김 본부장은 \"만 50세 이상이라면 연금계좌 세액공제 한도 900만원에 ISA 세액공제 300만원까지 총 1200만원 한도로 공제 혜택을 극대화할 수 있다\"고 귀띔했다. \n",
      "\"연금저축+IRP에 700만원씩 10년 넣으면 1억 노후통장 생깁니다\"\n",
      "https://news.naver.com/main/read.naver?mode=LSD&mid=sec&sid1=101&oid=014&aid=0004750542\n",
      "\n",
      "=====추천 뉴스=====\n",
      "다만, 연금저축의 세액공제 한도는 400만원이다. \n",
      "노후자금 쌍끌이 전략, ISA와 IRP 투자 전략\n",
      "https://news.naver.com/main/read.naver?mode=LSD&mid=sec&sid1=004&oid=009&aid=0004848140\n"
     ]
    }
   ],
   "source": [
    "ns.get_answer()"
   ]
  },
  {
   "cell_type": "code",
   "execution_count": 76,
   "id": "6faa2c99",
   "metadata": {
    "scrolled": false
   },
   "outputs": [
    {
     "name": "stdout",
     "output_type": "stream",
     "text": [
      "질문을 입력하세요: 가입자가 갑자기 사망하면 연금은 어떻게 되나요?\n"
     ]
    },
    {
     "name": "stderr",
     "output_type": "stream",
     "text": [
      "INFO - haystack.modeling.utils -  Using devices: CPU\n",
      "INFO - haystack.modeling.utils -  Number of GPUs: 0\n"
     ]
    },
    {
     "name": "stdout",
     "output_type": "stream",
     "text": [
      "\n",
      "=====추천 뉴스=====\n",
      "다만 한 쪽이 사망하면 유족연금이 발생한다. \n",
      "[신성식의 레츠 고 9988] 국민연금 부부 44만쌍, 4년 만에 두배로…최고액은 월 382만원\n",
      "https://news.naver.com/main/read.naver?mode=LSD&mid=sec&sid1=110&oid=025&aid=0003106379\n",
      "\n",
      "=====추천 뉴스=====\n",
      "갑자기 사망하면 국민연금은 어떻게 되나요?A. \n",
      "국민연금, 몰아서 낼 수 있나요? [조은아의 금퇴공부]\n",
      "https://news.naver.com/main/read.naver?mode=LSD&mid=sec&sid1=101&oid=020&aid=0003387659\n",
      "\n",
      "=====추천 뉴스=====\n",
      "남편 사망 시 연금은 부인에게 승계되고, 부인까지 사망하면 주택연금계약이 끝납니다.. \n",
      "12억 집 맡기면 월 193만원 받는다...주택연금 가입할까, 말까 [부.전.자.전]\n",
      "https://news.naver.com/main/read.naver?mode=LSD&mid=sec&sid1=101&oid=469&aid=0000665819\n"
     ]
    }
   ],
   "source": [
    "ns.get_answer()"
   ]
  },
  {
   "cell_type": "code",
   "execution_count": 77,
   "id": "abf51412",
   "metadata": {},
   "outputs": [
    {
     "name": "stdout",
     "output_type": "stream",
     "text": [
      "질문을 입력하세요: 개인연금은 중도인출이 가능한가요?\n"
     ]
    },
    {
     "name": "stderr",
     "output_type": "stream",
     "text": [
      "INFO - haystack.modeling.utils -  Using devices: CPU\n",
      "INFO - haystack.modeling.utils -  Number of GPUs: 0\n"
     ]
    },
    {
     "name": "stdout",
     "output_type": "stream",
     "text": [
      "\n",
      "=====추천 뉴스=====\n",
      "소득세법상 ‘부득이한 인출’에 해당하는지 확인하고, IRP에 대해서도 ‘근로자퇴직급여보장법’에서 정한 정당한 인출사유가 있다면 절세 가능성을 높일 수 있다.금융감독원은 24일 금융꿀팁으로 ‘IRP과 연금저축의 중도인출시 절세방법’을 발표했다.IRP는 법에서 정한 제한적인 사유인 경우에만 중도인출이 가능한 반면 연금저축은 제약없이 중도인출이 가능하다. \n",
      "“연금계좌 중간에 빼야한다면? 저율과세 요건부터 확인하세요”\n",
      "https://news.naver.com/main/read.naver?mode=LSD&mid=sec&sid1=101&oid=016&aid=0001941775\n",
      "\n",
      "=====추천 뉴스=====\n",
      "     최근 주택가격의 급격한 상승에 따라 퇴직연금 중도인출이 구입 자금원으로 활용되고 있는 것이다. \n",
      "[더오래] '영끌'에 퇴직연금 증발…중도인출 급증, 붕뜬 노후\n",
      "https://news.naver.com/main/read.naver?mode=LSD&mid=sec&sid1=101&oid=025&aid=0003128393\n",
      "\n",
      "=====추천 뉴스=====\n",
      "이 경우 16.5%의 기타소득세를 적용받는다.연금저출의 경우 언제든 자유롭게 중도인출이 가능하다. \n",
      "금감원 “천재지변·장기요양·개인회생에 연금저축 깨면 저율 과세”\n",
      "https://news.naver.com/main/read.naver?mode=LSD&mid=sec&sid1=101&oid=366&aid=0000789298\n"
     ]
    }
   ],
   "source": [
    "ns.get_answer()"
   ]
  },
  {
   "cell_type": "code",
   "execution_count": 3,
   "id": "ffaebac3",
   "metadata": {},
   "outputs": [],
   "source": [
    "# 테스트: csv -> elasticsearch\n",
    "\n",
    "class NewsSearcher2:  # 질문에 대한 답변과 출처 기사 링크 제공 (3개)\n",
    "    def __init__(self):\n",
    "        df = pd.read_csv('../data/naver_news_all2.csv')\n",
    "        document_store = ElasticsearchDocumentStore(host='localhost', username='root', password='1111', index='test')\n",
    "        document_store.delete_documents()\n",
    "        \n",
    "        news_list = []\n",
    "        for i in range(len(df)):\n",
    "            data = df.iloc[i]\n",
    "            temp = {}\n",
    "            article = data['article'].strip()\n",
    "            temp['content'] = article\n",
    "            temp['meta'] = {'title': data['title'], 'subject': data['subject'], 'link': data['link']}\n",
    "            news_list.append(temp)\n",
    "            \n",
    "        document_store.write_documents(news_list)\n",
    "        print('MongoDB - ElasticSearch 연동이 완료되었습니다.')       \n",
    "        \n",
    "    def build_QA_model(self):\n",
    "        document_store = ElasticsearchDocumentStore(host='localhost', username='root', password='1111', index='test')\n",
    "        retriever = BM25Retriever(document_store=document_store)\n",
    "        reader = TransformersReader(model_name_or_path='monologg/koelectra-small-v2-distilled-korquad-384', \n",
    "                                    tokenizer='monologg/koelectra-small-v2-discriminator', \n",
    "                                    context_window_size=500,\n",
    "                                    max_seq_len=500, \n",
    "                                    doc_stride=300)\n",
    "        \n",
    "        pipe = ExtractiveQAPipeline(reader, retriever)\n",
    "        \n",
    "        return pipe\n",
    "    \n",
    "    def input_question(self):\n",
    "        query = input('질문을 입력하세요: ')\n",
    "        pipe = self.build_QA_model()\n",
    "        prediction = pipe.run(query=query,\n",
    "                              params={\"Retriever\": {\"top_k\": 10}, \"Reader\": {\"top_k\": 3}})\n",
    "        \n",
    "        return prediction\n",
    "    \n",
    "    def get_answer(self):\n",
    "        prediction = self.input_question()\n",
    "        links = []\n",
    "        \n",
    "        for i in range(3):\n",
    "            answer = prediction['answers'][i].answer\n",
    "            context = prediction['answers'][i].context\n",
    "            title = prediction['answers'][i].meta['title']\n",
    "            link = prediction['answers'][i].meta['link']\n",
    "            \n",
    "            if link in links:\n",
    "                continue\n",
    "            \n",
    "            print(f'\\n=====추천 뉴스=====')\n",
    "            \n",
    "            start = prediction['answers'][i].offsets_in_context[0].start - 200\n",
    "            if start < 0:\n",
    "                start = 0\n",
    "            end = prediction['answers'][i].offsets_in_context[0].start + 200\n",
    "\n",
    "            cut = context[start:end]\n",
    "        \n",
    "            text = ''\n",
    "            for line in context.split('. '):\n",
    "                if line in cut and answer in line:\n",
    "                    text += line+'. '\n",
    "                    \n",
    "            if len(text) == 0:\n",
    "#                 print(answer + '...[더보기]')\n",
    "                print(answer)\n",
    "            else:\n",
    "#                 print(text[:50] + '...[더보기]')\n",
    "                print(text)\n",
    "                \n",
    "            print(title)\n",
    "            print(link)\n",
    "            links.append(link)"
   ]
  },
  {
   "cell_type": "code",
   "execution_count": 9,
   "id": "7d81b991",
   "metadata": {},
   "outputs": [
    {
     "name": "stdout",
     "output_type": "stream",
     "text": [
      "MongoDB - ElasticSearch 연동이 완료되었습니다.\n"
     ]
    }
   ],
   "source": [
    "ns2 = NewsSearcher2()"
   ]
  },
  {
   "cell_type": "code",
   "execution_count": 10,
   "id": "4309a493",
   "metadata": {
    "scrolled": true
   },
   "outputs": [
    {
     "name": "stdout",
     "output_type": "stream",
     "text": [
      "질문을 입력하세요: 보험과 펀드 중 어느 쪽이 유리해?\n"
     ]
    },
    {
     "name": "stderr",
     "output_type": "stream",
     "text": [
      "INFO - haystack.modeling.utils -  Using devices: CPU\n",
      "INFO - haystack.modeling.utils -  Number of GPUs: 0\n"
     ]
    },
    {
     "name": "stdout",
     "output_type": "stream",
     "text": [
      "\n",
      "=====추천 뉴스=====\n",
      "아까 말씀드렸다시피 연금저축은 보험과 펀드 두 가지가 있죠. ...[더보기]\n",
      "[ET] 연금저축보험 vs 연금저축펀드…노후 대비는?\n",
      "https://news.naver.com/main/read.naver?mode=LSD&mid=sec&sid1=101&oid=056&aid=0011131798\n",
      "\n",
      "=====추천 뉴스=====\n",
      "수익률 극대화를 위해선 원금보장 성격의 연금저축보험을 하기 보다는 연금저축펀드가 유리하며,...[더보기]\n",
      "[아시아초대석] 존 리 \"연금관리 따라 노후 천차만별…방치된 퇴직연금, 주식시장으로\"\n",
      "https://news.naver.com/main/read.naver?mode=LSD&mid=sec&sid1=101&oid=277&aid=0004931993\n"
     ]
    }
   ],
   "source": [
    "ns2.get_answer()"
   ]
  },
  {
   "cell_type": "code",
   "execution_count": 12,
   "id": "351f7193",
   "metadata": {},
   "outputs": [
    {
     "name": "stdout",
     "output_type": "stream",
     "text": [
      "질문을 입력하세요: 개인연금은 중도인출이 가능해?\n"
     ]
    },
    {
     "name": "stderr",
     "output_type": "stream",
     "text": [
      "INFO - haystack.modeling.utils -  Using devices: CPU\n",
      "INFO - haystack.modeling.utils -  Number of GPUs: 0\n"
     ]
    },
    {
     "name": "stdout",
     "output_type": "stream",
     "text": [
      "\n",
      "=====추천 뉴스=====\n",
      "연금수령 또는 만기 시 종합과세 대상인가? 연 1200만 원 한도적용이 안 되는 건가? 인...[더보기]\n",
      "<기고>2000년 이전에 가입한 舊개인연금… ‘소득공제’ 활용하라\n",
      "https://news.naver.com/main/read.naver?mode=LSD&mid=sec&sid1=101&oid=021&aid=0002479071\n",
      "\n",
      "=====추천 뉴스=====\n",
      "가장 큰 특징은 연간 1,800만 원까지 납입이 가능하고, 최대 700만 원까지 세액공제 ...[더보기]\n",
      "믿을 놈 하나 없는데 내 노후는 누가 챙기나? [슬기로운 금융생활]\n",
      "https://news.naver.com/main/read.naver?mode=LSD&mid=sec&sid1=101&oid=215&aid=0001027371\n"
     ]
    }
   ],
   "source": [
    "ns2.get_answer()"
   ]
  },
  {
   "cell_type": "code",
   "execution_count": 8,
   "id": "5f6433d4",
   "metadata": {},
   "outputs": [
    {
     "name": "stdout",
     "output_type": "stream",
     "text": [
      "질문을 입력하세요: 가입자가 갑자기 사망하면 연금은 어떻게 되나요?\n"
     ]
    },
    {
     "name": "stderr",
     "output_type": "stream",
     "text": [
      "INFO - haystack.modeling.utils -  Using devices: CPU\n",
      "INFO - haystack.modeling.utils -  Number of GPUs: 0\n"
     ]
    },
    {
     "name": "stdout",
     "output_type": "stream",
     "text": [
      "\n",
      "=====추천 뉴스=====\n",
      "갑자기 사망하면 국민연금은 어떻게 되나요?A. ...[더보기]\n",
      "국민연금, 몰아서 낼 수 있나요? [조은아의 금퇴공부]\n",
      "https://news.naver.com/main/read.naver?mode=LSD&mid=sec&sid1=101&oid=020&aid=0003387659\n"
     ]
    }
   ],
   "source": [
    "ns2.get_answer()"
   ]
  },
  {
   "cell_type": "code",
   "execution_count": null,
   "id": "dd0ded0c",
   "metadata": {},
   "outputs": [],
   "source": []
  }
 ],
 "metadata": {
  "kernelspec": {
   "display_name": "Python 3 (ipykernel)",
   "language": "python",
   "name": "python3"
  },
  "language_info": {
   "codemirror_mode": {
    "name": "ipython",
    "version": 3
   },
   "file_extension": ".py",
   "mimetype": "text/x-python",
   "name": "python",
   "nbconvert_exporter": "python",
   "pygments_lexer": "ipython3",
   "version": "3.9.12"
  }
 },
 "nbformat": 4,
 "nbformat_minor": 5
}
